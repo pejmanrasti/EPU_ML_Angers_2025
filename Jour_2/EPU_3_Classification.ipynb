{
  "cells": [
    {
      "cell_type": "markdown",
      "metadata": {
        "id": "view-in-github",
        "colab_type": "text"
      },
      "source": [
        "<a href=\"https://colab.research.google.com/github/pejmanrasti/EPU_ML_Angers_2023/blob/main/Jour_2/EPU_3_Classification.ipynb\" target=\"_parent\"><img src=\"https://colab.research.google.com/assets/colab-badge.svg\" alt=\"Open In Colab\"/></a>"
      ]
    },
    {
      "cell_type": "code",
      "execution_count": null,
      "id": "7bcf0379",
      "metadata": {
        "scrolled": true,
        "id": "7bcf0379"
      },
      "outputs": [],
      "source": [
        "import os\n",
        "import warnings\n",
        "import math\n",
        "\n",
        "import sklearn\n",
        "from sklearn.model_selection import train_test_split, GridSearchCV, cross_val_score, cross_validate, cross_val_predict\n",
        "from sklearn.model_selection import RandomizedSearchCV,RepeatedStratifiedKFold, StratifiedKFold\n",
        "from sklearn import preprocessing\n",
        "from sklearn.metrics import confusion_matrix, balanced_accuracy_score, roc_curve\n",
        "from sklearn.linear_model import LogisticRegression\n",
        "from sklearn.ensemble import RandomForestClassifier\n",
        "from sklearn.metrics import make_scorer, roc_auc_score,precision_recall_curve, confusion_matrix, ConfusionMatrixDisplay\n",
        "from sklearn import metrics\n",
        "from sklearn.pipeline import Pipeline\n",
        "from sklearn.preprocessing import StandardScaler, MinMaxScaler\n",
        "from sklearn.feature_selection import SelectKBest, f_classif, mutual_info_classif\n",
        "from sklearn.feature_selection import  RFECV\n",
        "from sklearn.decomposition import PCA\n",
        "\n",
        "import pandas as pd\n",
        "from pandas import read_csv\n",
        "\n",
        "import numpy as np\n",
        "from numpy import arange\n",
        "from numpy import mean\n",
        "from numpy import std\n",
        "from numpy import percentile\n",
        "\n",
        "from matplotlib import pyplot as plt\n",
        "\n",
        "from imblearn.under_sampling import RandomUnderSampler\n",
        "\n",
        "\n"
      ]
    },
    {
      "cell_type": "markdown",
      "source": [
        "**4. Préparer les données**"
      ],
      "metadata": {
        "id": "OAEfvkvRM_N4"
      },
      "id": "OAEfvkvRM_N4"
    },
    {
      "cell_type": "markdown",
      "id": "56cf6028",
      "metadata": {
        "id": "56cf6028"
      },
      "source": [
        "# Préparation des données pour les algorithmes d'apprentissage"
      ]
    },
    {
      "cell_type": "markdown",
      "source": [
        "## Import des données"
      ],
      "metadata": {
        "id": "7jF8v2f5IJH2"
      },
      "id": "7jF8v2f5IJH2"
    },
    {
      "cell_type": "code",
      "execution_count": null,
      "id": "f9c84e17",
      "metadata": {
        "colab": {
          "base_uri": "https://localhost:8080/",
          "height": 444
        },
        "id": "f9c84e17",
        "outputId": "afdb30b6-3ac7-482a-cc06-ee5e2ee0bfe9"
      },
      "outputs": [
        {
          "output_type": "execute_result",
          "data": {
            "text/plain": [
              "         MUperGy     MUmax     MUstd     MUiqr       AAV    AAVmin    AAVmax  \\\n",
              "0     286.279357  0.025226  0.005673  0.007483  0.212154  0.004097  0.470404   \n",
              "1     286.279357  0.031176  0.009321  0.016940  0.199329  0.004267  0.650373   \n",
              "2     237.155273  0.015816  0.003171  0.004838  0.363556  0.055128  0.708376   \n",
              "3     237.155273  0.014917  0.002824  0.005359  0.248252  0.020756  0.655312   \n",
              "4     273.965837  0.008808  0.001092  0.001163  0.330507  0.151740  0.526259   \n",
              "...          ...       ...       ...       ...       ...       ...       ...   \n",
              "1328  480.581511  0.026944  0.004214  0.003281  0.204787  0.054245  0.430159   \n",
              "1329  299.732699  0.009220  0.001537  0.001862  0.285292  0.055741  0.495538   \n",
              "1330  299.732699  0.015858  0.002611  0.003173  0.256557  0.059329  0.446464   \n",
              "1331  255.158952  0.012081  0.001707  0.002070  0.391554  0.114153  0.573387   \n",
              "1332  255.158952  0.012431  0.002350  0.002625  0.328176  0.102736  0.594279   \n",
              "\n",
              "        AAVstd    AAViqr       LSV  ...     EMiqr      MIt02        BI  \\\n",
              "0     0.144776  0.252859  0.940028  ...  0.807741  17.169129  5.796453   \n",
              "1     0.205439  0.346499  0.984624  ...  0.794871  15.930889  6.538526   \n",
              "2     0.197273  0.294814  0.928413  ...  0.310386  20.371648  2.415825   \n",
              "3     0.200993  0.298788  0.996320  ...  0.487067  20.240401  3.802425   \n",
              "4     0.099290  0.141686  0.896153  ...  0.529926   9.798427  3.720319   \n",
              "...        ...       ...       ...  ...       ...        ...       ...   \n",
              "1328  0.109778  0.194116  0.965074  ...  0.714579  10.314479  3.957153   \n",
              "1329  0.101453  0.153115  0.947672  ...  0.118663  19.717209  3.161081   \n",
              "1330  0.105749  0.160722  0.995969  ...  0.268859  20.759115  3.689368   \n",
              "1331  0.093903  0.135343  0.921837  ...  0.211482  11.536279  2.869957   \n",
              "1332  0.109159  0.138150  0.954414  ...  0.320336  11.391711  3.174302   \n",
              "\n",
              "         BImin      BImax      BIstd      BIiqr        BM    BAmin  Echec  \n",
              "0     1.291771  29.291912   7.922034   5.100115  0.680998   0.7750      0  \n",
              "1     1.281932  27.954796  11.082609  25.520850  0.734694   0.7750      0  \n",
              "2     0.662184   7.922318   1.369862   1.865898  0.572010  12.9025      0  \n",
              "3     0.657255  13.165829   2.779706   2.876072  0.704320   4.4525      0  \n",
              "4     1.435406   8.207767   1.269746   1.936350  0.584751   8.4950      0  \n",
              "...        ...        ...        ...        ...       ...      ...    ...  \n",
              "1328  0.900998   8.634103   1.723491   2.131027  0.701615   3.6375      1  \n",
              "1329  1.196474  10.972135   1.735093   0.734561  0.623623  13.1125      0  \n",
              "1330  1.534641   9.254857   1.624146   1.869984  0.657588  14.6075      0  \n",
              "1331  1.205563   7.147693   0.954223   0.995646  0.521547  10.3025      0  \n",
              "1332  1.242431   6.569446   1.111871   1.442381  0.568822   8.3850      0  \n",
              "\n",
              "[1333 rows x 62 columns]"
            ],
            "text/html": [
              "\n",
              "  <div id=\"df-65794535-c58f-4d8a-ba0e-e01ff9ed09ca\" class=\"colab-df-container\">\n",
              "    <div>\n",
              "<style scoped>\n",
              "    .dataframe tbody tr th:only-of-type {\n",
              "        vertical-align: middle;\n",
              "    }\n",
              "\n",
              "    .dataframe tbody tr th {\n",
              "        vertical-align: top;\n",
              "    }\n",
              "\n",
              "    .dataframe thead th {\n",
              "        text-align: right;\n",
              "    }\n",
              "</style>\n",
              "<table border=\"1\" class=\"dataframe\">\n",
              "  <thead>\n",
              "    <tr style=\"text-align: right;\">\n",
              "      <th></th>\n",
              "      <th>MUperGy</th>\n",
              "      <th>MUmax</th>\n",
              "      <th>MUstd</th>\n",
              "      <th>MUiqr</th>\n",
              "      <th>AAV</th>\n",
              "      <th>AAVmin</th>\n",
              "      <th>AAVmax</th>\n",
              "      <th>AAVstd</th>\n",
              "      <th>AAViqr</th>\n",
              "      <th>LSV</th>\n",
              "      <th>...</th>\n",
              "      <th>EMiqr</th>\n",
              "      <th>MIt02</th>\n",
              "      <th>BI</th>\n",
              "      <th>BImin</th>\n",
              "      <th>BImax</th>\n",
              "      <th>BIstd</th>\n",
              "      <th>BIiqr</th>\n",
              "      <th>BM</th>\n",
              "      <th>BAmin</th>\n",
              "      <th>Echec</th>\n",
              "    </tr>\n",
              "  </thead>\n",
              "  <tbody>\n",
              "    <tr>\n",
              "      <th>0</th>\n",
              "      <td>286.279357</td>\n",
              "      <td>0.025226</td>\n",
              "      <td>0.005673</td>\n",
              "      <td>0.007483</td>\n",
              "      <td>0.212154</td>\n",
              "      <td>0.004097</td>\n",
              "      <td>0.470404</td>\n",
              "      <td>0.144776</td>\n",
              "      <td>0.252859</td>\n",
              "      <td>0.940028</td>\n",
              "      <td>...</td>\n",
              "      <td>0.807741</td>\n",
              "      <td>17.169129</td>\n",
              "      <td>5.796453</td>\n",
              "      <td>1.291771</td>\n",
              "      <td>29.291912</td>\n",
              "      <td>7.922034</td>\n",
              "      <td>5.100115</td>\n",
              "      <td>0.680998</td>\n",
              "      <td>0.7750</td>\n",
              "      <td>0</td>\n",
              "    </tr>\n",
              "    <tr>\n",
              "      <th>1</th>\n",
              "      <td>286.279357</td>\n",
              "      <td>0.031176</td>\n",
              "      <td>0.009321</td>\n",
              "      <td>0.016940</td>\n",
              "      <td>0.199329</td>\n",
              "      <td>0.004267</td>\n",
              "      <td>0.650373</td>\n",
              "      <td>0.205439</td>\n",
              "      <td>0.346499</td>\n",
              "      <td>0.984624</td>\n",
              "      <td>...</td>\n",
              "      <td>0.794871</td>\n",
              "      <td>15.930889</td>\n",
              "      <td>6.538526</td>\n",
              "      <td>1.281932</td>\n",
              "      <td>27.954796</td>\n",
              "      <td>11.082609</td>\n",
              "      <td>25.520850</td>\n",
              "      <td>0.734694</td>\n",
              "      <td>0.7750</td>\n",
              "      <td>0</td>\n",
              "    </tr>\n",
              "    <tr>\n",
              "      <th>2</th>\n",
              "      <td>237.155273</td>\n",
              "      <td>0.015816</td>\n",
              "      <td>0.003171</td>\n",
              "      <td>0.004838</td>\n",
              "      <td>0.363556</td>\n",
              "      <td>0.055128</td>\n",
              "      <td>0.708376</td>\n",
              "      <td>0.197273</td>\n",
              "      <td>0.294814</td>\n",
              "      <td>0.928413</td>\n",
              "      <td>...</td>\n",
              "      <td>0.310386</td>\n",
              "      <td>20.371648</td>\n",
              "      <td>2.415825</td>\n",
              "      <td>0.662184</td>\n",
              "      <td>7.922318</td>\n",
              "      <td>1.369862</td>\n",
              "      <td>1.865898</td>\n",
              "      <td>0.572010</td>\n",
              "      <td>12.9025</td>\n",
              "      <td>0</td>\n",
              "    </tr>\n",
              "    <tr>\n",
              "      <th>3</th>\n",
              "      <td>237.155273</td>\n",
              "      <td>0.014917</td>\n",
              "      <td>0.002824</td>\n",
              "      <td>0.005359</td>\n",
              "      <td>0.248252</td>\n",
              "      <td>0.020756</td>\n",
              "      <td>0.655312</td>\n",
              "      <td>0.200993</td>\n",
              "      <td>0.298788</td>\n",
              "      <td>0.996320</td>\n",
              "      <td>...</td>\n",
              "      <td>0.487067</td>\n",
              "      <td>20.240401</td>\n",
              "      <td>3.802425</td>\n",
              "      <td>0.657255</td>\n",
              "      <td>13.165829</td>\n",
              "      <td>2.779706</td>\n",
              "      <td>2.876072</td>\n",
              "      <td>0.704320</td>\n",
              "      <td>4.4525</td>\n",
              "      <td>0</td>\n",
              "    </tr>\n",
              "    <tr>\n",
              "      <th>4</th>\n",
              "      <td>273.965837</td>\n",
              "      <td>0.008808</td>\n",
              "      <td>0.001092</td>\n",
              "      <td>0.001163</td>\n",
              "      <td>0.330507</td>\n",
              "      <td>0.151740</td>\n",
              "      <td>0.526259</td>\n",
              "      <td>0.099290</td>\n",
              "      <td>0.141686</td>\n",
              "      <td>0.896153</td>\n",
              "      <td>...</td>\n",
              "      <td>0.529926</td>\n",
              "      <td>9.798427</td>\n",
              "      <td>3.720319</td>\n",
              "      <td>1.435406</td>\n",
              "      <td>8.207767</td>\n",
              "      <td>1.269746</td>\n",
              "      <td>1.936350</td>\n",
              "      <td>0.584751</td>\n",
              "      <td>8.4950</td>\n",
              "      <td>0</td>\n",
              "    </tr>\n",
              "    <tr>\n",
              "      <th>...</th>\n",
              "      <td>...</td>\n",
              "      <td>...</td>\n",
              "      <td>...</td>\n",
              "      <td>...</td>\n",
              "      <td>...</td>\n",
              "      <td>...</td>\n",
              "      <td>...</td>\n",
              "      <td>...</td>\n",
              "      <td>...</td>\n",
              "      <td>...</td>\n",
              "      <td>...</td>\n",
              "      <td>...</td>\n",
              "      <td>...</td>\n",
              "      <td>...</td>\n",
              "      <td>...</td>\n",
              "      <td>...</td>\n",
              "      <td>...</td>\n",
              "      <td>...</td>\n",
              "      <td>...</td>\n",
              "      <td>...</td>\n",
              "      <td>...</td>\n",
              "    </tr>\n",
              "    <tr>\n",
              "      <th>1328</th>\n",
              "      <td>480.581511</td>\n",
              "      <td>0.026944</td>\n",
              "      <td>0.004214</td>\n",
              "      <td>0.003281</td>\n",
              "      <td>0.204787</td>\n",
              "      <td>0.054245</td>\n",
              "      <td>0.430159</td>\n",
              "      <td>0.109778</td>\n",
              "      <td>0.194116</td>\n",
              "      <td>0.965074</td>\n",
              "      <td>...</td>\n",
              "      <td>0.714579</td>\n",
              "      <td>10.314479</td>\n",
              "      <td>3.957153</td>\n",
              "      <td>0.900998</td>\n",
              "      <td>8.634103</td>\n",
              "      <td>1.723491</td>\n",
              "      <td>2.131027</td>\n",
              "      <td>0.701615</td>\n",
              "      <td>3.6375</td>\n",
              "      <td>1</td>\n",
              "    </tr>\n",
              "    <tr>\n",
              "      <th>1329</th>\n",
              "      <td>299.732699</td>\n",
              "      <td>0.009220</td>\n",
              "      <td>0.001537</td>\n",
              "      <td>0.001862</td>\n",
              "      <td>0.285292</td>\n",
              "      <td>0.055741</td>\n",
              "      <td>0.495538</td>\n",
              "      <td>0.101453</td>\n",
              "      <td>0.153115</td>\n",
              "      <td>0.947672</td>\n",
              "      <td>...</td>\n",
              "      <td>0.118663</td>\n",
              "      <td>19.717209</td>\n",
              "      <td>3.161081</td>\n",
              "      <td>1.196474</td>\n",
              "      <td>10.972135</td>\n",
              "      <td>1.735093</td>\n",
              "      <td>0.734561</td>\n",
              "      <td>0.623623</td>\n",
              "      <td>13.1125</td>\n",
              "      <td>0</td>\n",
              "    </tr>\n",
              "    <tr>\n",
              "      <th>1330</th>\n",
              "      <td>299.732699</td>\n",
              "      <td>0.015858</td>\n",
              "      <td>0.002611</td>\n",
              "      <td>0.003173</td>\n",
              "      <td>0.256557</td>\n",
              "      <td>0.059329</td>\n",
              "      <td>0.446464</td>\n",
              "      <td>0.105749</td>\n",
              "      <td>0.160722</td>\n",
              "      <td>0.995969</td>\n",
              "      <td>...</td>\n",
              "      <td>0.268859</td>\n",
              "      <td>20.759115</td>\n",
              "      <td>3.689368</td>\n",
              "      <td>1.534641</td>\n",
              "      <td>9.254857</td>\n",
              "      <td>1.624146</td>\n",
              "      <td>1.869984</td>\n",
              "      <td>0.657588</td>\n",
              "      <td>14.6075</td>\n",
              "      <td>0</td>\n",
              "    </tr>\n",
              "    <tr>\n",
              "      <th>1331</th>\n",
              "      <td>255.158952</td>\n",
              "      <td>0.012081</td>\n",
              "      <td>0.001707</td>\n",
              "      <td>0.002070</td>\n",
              "      <td>0.391554</td>\n",
              "      <td>0.114153</td>\n",
              "      <td>0.573387</td>\n",
              "      <td>0.093903</td>\n",
              "      <td>0.135343</td>\n",
              "      <td>0.921837</td>\n",
              "      <td>...</td>\n",
              "      <td>0.211482</td>\n",
              "      <td>11.536279</td>\n",
              "      <td>2.869957</td>\n",
              "      <td>1.205563</td>\n",
              "      <td>7.147693</td>\n",
              "      <td>0.954223</td>\n",
              "      <td>0.995646</td>\n",
              "      <td>0.521547</td>\n",
              "      <td>10.3025</td>\n",
              "      <td>0</td>\n",
              "    </tr>\n",
              "    <tr>\n",
              "      <th>1332</th>\n",
              "      <td>255.158952</td>\n",
              "      <td>0.012431</td>\n",
              "      <td>0.002350</td>\n",
              "      <td>0.002625</td>\n",
              "      <td>0.328176</td>\n",
              "      <td>0.102736</td>\n",
              "      <td>0.594279</td>\n",
              "      <td>0.109159</td>\n",
              "      <td>0.138150</td>\n",
              "      <td>0.954414</td>\n",
              "      <td>...</td>\n",
              "      <td>0.320336</td>\n",
              "      <td>11.391711</td>\n",
              "      <td>3.174302</td>\n",
              "      <td>1.242431</td>\n",
              "      <td>6.569446</td>\n",
              "      <td>1.111871</td>\n",
              "      <td>1.442381</td>\n",
              "      <td>0.568822</td>\n",
              "      <td>8.3850</td>\n",
              "      <td>0</td>\n",
              "    </tr>\n",
              "  </tbody>\n",
              "</table>\n",
              "<p>1333 rows × 62 columns</p>\n",
              "</div>\n",
              "    <div class=\"colab-df-buttons\">\n",
              "\n",
              "  <div class=\"colab-df-container\">\n",
              "    <button class=\"colab-df-convert\" onclick=\"convertToInteractive('df-65794535-c58f-4d8a-ba0e-e01ff9ed09ca')\"\n",
              "            title=\"Convert this dataframe to an interactive table.\"\n",
              "            style=\"display:none;\">\n",
              "\n",
              "  <svg xmlns=\"http://www.w3.org/2000/svg\" height=\"24px\" viewBox=\"0 -960 960 960\">\n",
              "    <path d=\"M120-120v-720h720v720H120Zm60-500h600v-160H180v160Zm220 220h160v-160H400v160Zm0 220h160v-160H400v160ZM180-400h160v-160H180v160Zm440 0h160v-160H620v160ZM180-180h160v-160H180v160Zm440 0h160v-160H620v160Z\"/>\n",
              "  </svg>\n",
              "    </button>\n",
              "\n",
              "  <style>\n",
              "    .colab-df-container {\n",
              "      display:flex;\n",
              "      gap: 12px;\n",
              "    }\n",
              "\n",
              "    .colab-df-convert {\n",
              "      background-color: #E8F0FE;\n",
              "      border: none;\n",
              "      border-radius: 50%;\n",
              "      cursor: pointer;\n",
              "      display: none;\n",
              "      fill: #1967D2;\n",
              "      height: 32px;\n",
              "      padding: 0 0 0 0;\n",
              "      width: 32px;\n",
              "    }\n",
              "\n",
              "    .colab-df-convert:hover {\n",
              "      background-color: #E2EBFA;\n",
              "      box-shadow: 0px 1px 2px rgba(60, 64, 67, 0.3), 0px 1px 3px 1px rgba(60, 64, 67, 0.15);\n",
              "      fill: #174EA6;\n",
              "    }\n",
              "\n",
              "    .colab-df-buttons div {\n",
              "      margin-bottom: 4px;\n",
              "    }\n",
              "\n",
              "    [theme=dark] .colab-df-convert {\n",
              "      background-color: #3B4455;\n",
              "      fill: #D2E3FC;\n",
              "    }\n",
              "\n",
              "    [theme=dark] .colab-df-convert:hover {\n",
              "      background-color: #434B5C;\n",
              "      box-shadow: 0px 1px 3px 1px rgba(0, 0, 0, 0.15);\n",
              "      filter: drop-shadow(0px 1px 2px rgba(0, 0, 0, 0.3));\n",
              "      fill: #FFFFFF;\n",
              "    }\n",
              "  </style>\n",
              "\n",
              "    <script>\n",
              "      const buttonEl =\n",
              "        document.querySelector('#df-65794535-c58f-4d8a-ba0e-e01ff9ed09ca button.colab-df-convert');\n",
              "      buttonEl.style.display =\n",
              "        google.colab.kernel.accessAllowed ? 'block' : 'none';\n",
              "\n",
              "      async function convertToInteractive(key) {\n",
              "        const element = document.querySelector('#df-65794535-c58f-4d8a-ba0e-e01ff9ed09ca');\n",
              "        const dataTable =\n",
              "          await google.colab.kernel.invokeFunction('convertToInteractive',\n",
              "                                                    [key], {});\n",
              "        if (!dataTable) return;\n",
              "\n",
              "        const docLinkHtml = 'Like what you see? Visit the ' +\n",
              "          '<a target=\"_blank\" href=https://colab.research.google.com/notebooks/data_table.ipynb>data table notebook</a>'\n",
              "          + ' to learn more about interactive tables.';\n",
              "        element.innerHTML = '';\n",
              "        dataTable['output_type'] = 'display_data';\n",
              "        await google.colab.output.renderOutput(dataTable, element);\n",
              "        const docLink = document.createElement('div');\n",
              "        docLink.innerHTML = docLinkHtml;\n",
              "        element.appendChild(docLink);\n",
              "      }\n",
              "    </script>\n",
              "  </div>\n",
              "\n",
              "\n",
              "<div id=\"df-59eb1d4a-66bc-44eb-af6c-cd6f78aff350\">\n",
              "  <button class=\"colab-df-quickchart\" onclick=\"quickchart('df-59eb1d4a-66bc-44eb-af6c-cd6f78aff350')\"\n",
              "            title=\"Suggest charts\"\n",
              "            style=\"display:none;\">\n",
              "\n",
              "<svg xmlns=\"http://www.w3.org/2000/svg\" height=\"24px\"viewBox=\"0 0 24 24\"\n",
              "     width=\"24px\">\n",
              "    <g>\n",
              "        <path d=\"M19 3H5c-1.1 0-2 .9-2 2v14c0 1.1.9 2 2 2h14c1.1 0 2-.9 2-2V5c0-1.1-.9-2-2-2zM9 17H7v-7h2v7zm4 0h-2V7h2v10zm4 0h-2v-4h2v4z\"/>\n",
              "    </g>\n",
              "</svg>\n",
              "  </button>\n",
              "\n",
              "<style>\n",
              "  .colab-df-quickchart {\n",
              "      --bg-color: #E8F0FE;\n",
              "      --fill-color: #1967D2;\n",
              "      --hover-bg-color: #E2EBFA;\n",
              "      --hover-fill-color: #174EA6;\n",
              "      --disabled-fill-color: #AAA;\n",
              "      --disabled-bg-color: #DDD;\n",
              "  }\n",
              "\n",
              "  [theme=dark] .colab-df-quickchart {\n",
              "      --bg-color: #3B4455;\n",
              "      --fill-color: #D2E3FC;\n",
              "      --hover-bg-color: #434B5C;\n",
              "      --hover-fill-color: #FFFFFF;\n",
              "      --disabled-bg-color: #3B4455;\n",
              "      --disabled-fill-color: #666;\n",
              "  }\n",
              "\n",
              "  .colab-df-quickchart {\n",
              "    background-color: var(--bg-color);\n",
              "    border: none;\n",
              "    border-radius: 50%;\n",
              "    cursor: pointer;\n",
              "    display: none;\n",
              "    fill: var(--fill-color);\n",
              "    height: 32px;\n",
              "    padding: 0;\n",
              "    width: 32px;\n",
              "  }\n",
              "\n",
              "  .colab-df-quickchart:hover {\n",
              "    background-color: var(--hover-bg-color);\n",
              "    box-shadow: 0 1px 2px rgba(60, 64, 67, 0.3), 0 1px 3px 1px rgba(60, 64, 67, 0.15);\n",
              "    fill: var(--button-hover-fill-color);\n",
              "  }\n",
              "\n",
              "  .colab-df-quickchart-complete:disabled,\n",
              "  .colab-df-quickchart-complete:disabled:hover {\n",
              "    background-color: var(--disabled-bg-color);\n",
              "    fill: var(--disabled-fill-color);\n",
              "    box-shadow: none;\n",
              "  }\n",
              "\n",
              "  .colab-df-spinner {\n",
              "    border: 2px solid var(--fill-color);\n",
              "    border-color: transparent;\n",
              "    border-bottom-color: var(--fill-color);\n",
              "    animation:\n",
              "      spin 1s steps(1) infinite;\n",
              "  }\n",
              "\n",
              "  @keyframes spin {\n",
              "    0% {\n",
              "      border-color: transparent;\n",
              "      border-bottom-color: var(--fill-color);\n",
              "      border-left-color: var(--fill-color);\n",
              "    }\n",
              "    20% {\n",
              "      border-color: transparent;\n",
              "      border-left-color: var(--fill-color);\n",
              "      border-top-color: var(--fill-color);\n",
              "    }\n",
              "    30% {\n",
              "      border-color: transparent;\n",
              "      border-left-color: var(--fill-color);\n",
              "      border-top-color: var(--fill-color);\n",
              "      border-right-color: var(--fill-color);\n",
              "    }\n",
              "    40% {\n",
              "      border-color: transparent;\n",
              "      border-right-color: var(--fill-color);\n",
              "      border-top-color: var(--fill-color);\n",
              "    }\n",
              "    60% {\n",
              "      border-color: transparent;\n",
              "      border-right-color: var(--fill-color);\n",
              "    }\n",
              "    80% {\n",
              "      border-color: transparent;\n",
              "      border-right-color: var(--fill-color);\n",
              "      border-bottom-color: var(--fill-color);\n",
              "    }\n",
              "    90% {\n",
              "      border-color: transparent;\n",
              "      border-bottom-color: var(--fill-color);\n",
              "    }\n",
              "  }\n",
              "</style>\n",
              "\n",
              "  <script>\n",
              "    async function quickchart(key) {\n",
              "      const quickchartButtonEl =\n",
              "        document.querySelector('#' + key + ' button');\n",
              "      quickchartButtonEl.disabled = true;  // To prevent multiple clicks.\n",
              "      quickchartButtonEl.classList.add('colab-df-spinner');\n",
              "      try {\n",
              "        const charts = await google.colab.kernel.invokeFunction(\n",
              "            'suggestCharts', [key], {});\n",
              "      } catch (error) {\n",
              "        console.error('Error during call to suggestCharts:', error);\n",
              "      }\n",
              "      quickchartButtonEl.classList.remove('colab-df-spinner');\n",
              "      quickchartButtonEl.classList.add('colab-df-quickchart-complete');\n",
              "    }\n",
              "    (() => {\n",
              "      let quickchartButtonEl =\n",
              "        document.querySelector('#df-59eb1d4a-66bc-44eb-af6c-cd6f78aff350 button');\n",
              "      quickchartButtonEl.style.display =\n",
              "        google.colab.kernel.accessAllowed ? 'block' : 'none';\n",
              "    })();\n",
              "  </script>\n",
              "</div>\n",
              "    </div>\n",
              "  </div>\n"
            ]
          },
          "metadata": {},
          "execution_count": 8
        }
      ],
      "source": [
        "df = read_csv(\"/content/DataSet_RegionPelvienne_Class.csv\", sep = \",\", header=0)\n",
        "df = df.drop(columns = [\"Unnamed: 0\"])\n",
        "df"
      ]
    },
    {
      "cell_type": "markdown",
      "id": "0d597cd7",
      "metadata": {
        "id": "0d597cd7"
      },
      "source": [
        "## Séparation des données\n",
        "* **Etape très importante** : il faut créer un **jeu de test** que l'on va mettre de côté et ne **jamais** utiliser pendant l'apprentissage.\n",
        "* Il va servir à calculer l'**erreur de généralisation** : la capacité de notre modèle à faire des prédictions correctes à partir de données inconnues.\n",
        "* On choisit au hasard entre 20 et 30% des éléments du jeu de données.\n",
        "* Il faut faire attention à bien **fixer la graine aléatoire** pour ne pas générer un jeu de test différent à chaque execution de la cellule ! Sinon au fur et à mesure l'ensemble du jeu de données aura été utilisé pour l'apprentissage et l'évaluation de la généralisation sera biaisée alors que c'est ce qu'on cherche justement à éviter.\n",
        "* Pour les jeux de données déséquilibrés, il faut également s'assurer que le jeu de test est représentatif de la répartition de la population dans les données d'origine. Pour cela, il faut réaliser un échantillonnage **stratifié**.   \n",
        "* Il existe aussi un **jeu de données de validation** issu de la base d'entrainement, sur le même principe que le jeu de test. Il peut être généré avec la méthode de la **cross-validation**."
      ]
    },
    {
      "cell_type": "code",
      "execution_count": null,
      "id": "283bbbba",
      "metadata": {
        "id": "283bbbba"
      },
      "outputs": [],
      "source": [
        "y = df['Echec']\n",
        "z = df.drop('Echec', axis = 1)\n",
        "\n",
        "#On met de côté les données test qui seront utilisées à la fin\n",
        "X_train, X_test, Y_train, Y_test = train_test_split(z,y, test_size = 0.3,stratify=y, random_state=2023)\n",
        "\n",
        "#On enregistre ces données non modifiées (non normalisées, non ré-échantillonnées, non sélectionnées) pour les réutiliser pour exemple dans la suite\n",
        "X_train_orig = X_train\n",
        "Y_train_orig = Y_train"
      ]
    },
    {
      "cell_type": "code",
      "execution_count": null,
      "id": "11586d2a",
      "metadata": {
        "colab": {
          "base_uri": "https://localhost:8080/"
        },
        "id": "11586d2a",
        "outputId": "f6c1881c-1832-4390-dd2e-a5039dbd3e53"
      },
      "outputs": [
        {
          "output_type": "stream",
          "name": "stdout",
          "text": [
            "Echec\n",
            "0    830\n",
            "1    103\n",
            "dtype: int64\n",
            "0    0.889603\n",
            "1    0.110397\n",
            "Name: Echec, dtype: float64\n"
          ]
        }
      ],
      "source": [
        "#Répartition des classes\n",
        "class_counts = pd.DataFrame({'Echec':Y_train}).groupby('Echec').size()\n",
        "print(class_counts)\n",
        "print(Y_train.value_counts()/len(Y_train))"
      ]
    },
    {
      "cell_type": "code",
      "source": [
        "#Répartition des classes\n",
        "class_counts = pd.DataFrame({'Echec':Y_test}).groupby('Echec').size()\n",
        "print(class_counts)\n",
        "print(Y_test.value_counts()/len(Y_test))"
      ],
      "metadata": {
        "colab": {
          "base_uri": "https://localhost:8080/"
        },
        "id": "eKLcsuAoUth5",
        "outputId": "4b3bfc59-79d6-4364-aa79-c0733f3a5098"
      },
      "id": "eKLcsuAoUth5",
      "execution_count": null,
      "outputs": [
        {
          "output_type": "stream",
          "name": "stdout",
          "text": [
            "Echec\n",
            "0    356\n",
            "1     44\n",
            "dtype: int64\n",
            "0    0.89\n",
            "1    0.11\n",
            "Name: Echec, dtype: float64\n"
          ]
        }
      ]
    },
    {
      "cell_type": "markdown",
      "id": "2b7d11a7",
      "metadata": {
        "id": "2b7d11a7"
      },
      "source": [
        "## Ré-équilibrage des classes\n",
        "> En classification, les données déséquilibrées posent problème : les algorithmes vont peiner à apprendre sur la classe minoritaire alors que bien souvent c'est précisément la classe qui est la plus importante (comme ici la classe \"échec\" que l'on souhaite prédire).\n",
        "\n",
        "> Il y a plusieurs solutions à ce problème :\n",
        "* Le **sur-échantillonnage** de la classe minoritaire : on crée des exemples artificiels de la classe minoritaire en \"interpolant\" entre les exemples déjà présents dans cette classe (par exemple avec la technique SMOTE pour Synthetic Minority Over-sampling Technique : sur un exemple \"a\" aléatoirement choisi de la classe minoritaire, on sélectionne les k plus proches voisins et on choisi l'un d'eux au hasard, le voisin \"b\". Ensuite, un exemple artificiel est créé aléatoirement entre \"a\" et \"b\"). Le problème du sur-échantillonnage, c'est que les exemples artificiels peuvent ne pas être réalistes et ils sont créés sans tenir compte de la classe majoritaire donc on peut se retrouver avec des exemples ambigues qui risquent de biaiser l'apprentissage et détériorer la généralisation.\n",
        "* Le **sous-échantillonnage** de la classe majoritaire : on supprime aléatoirement des exemples de la classe majoritaire pour diminuer le déséquilibre avec la classe minoritaire. Le principal problème de cette technique est que l'on perd de l'information et qu'on risque de supprimer trop d'informations et donc de ne plus avoir un jeu de données assez représentatif du monde réel. Des techniques plus avancées existent, avec une sélection moins aléatoire des exemples à supprimer ou à garder (Near Miss Undersampling, Condensed Nearest Neighbor Rule, Tomek links, One Sided selection, Neighborhood cleaning rule, etc).\n",
        "* Combiner le sur et sous-échantillonnage\n",
        "* L'**apprentissage sensible au coût** qui permet pour certains algorithmes de moduler le poids des faux positifs par rapport aux faux négatifs.\n"
      ]
    },
    {
      "cell_type": "code",
      "execution_count": null,
      "id": "0f11bb21",
      "metadata": {
        "colab": {
          "base_uri": "https://localhost:8080/"
        },
        "id": "0f11bb21",
        "outputId": "c1df5dee-e9b5-4b3f-eb58-d3de30c53371"
      },
      "outputs": [
        {
          "output_type": "stream",
          "name": "stdout",
          "text": [
            "Echec\n",
            "0    206\n",
            "1    103\n",
            "dtype: int64\n"
          ]
        }
      ],
      "source": [
        "# Méthode simple : sous-échantillonnage de la classe majoritaire\n",
        "# Il est possible de moduler le sous-échantillonnage pour seulement réduire le déséquilibre sans pour autant l'annuler complètement en modifiant le paramètre \"sampling_strategy\"\n",
        "# Ici on ne supprime pas totalement le déséquilibre pour ne pas supprimer trop d'information\n",
        "rus = RandomUnderSampler(sampling_strategy={\n",
        "        0: len(Y_train[Y_train==1])*2,\n",
        "        1: len(Y_train[Y_train==1])\n",
        "\n",
        "    }, random_state=2023)\n",
        "X_train_res, Y_train_res = rus.fit_resample(X_train, Y_train)\n",
        "# A noter : on ne rééchantillonne que les données d'entrainement pour aider le modèle à apprendre à prédire la classe minoritaire\n",
        "# Les données test ne sont pas rééchantillonnées, elles doivent rester représentatives de la répartition des données dans le monde réel\n",
        "\n",
        "# Pour simplifier la suite on transforme les arrays de variables en dataframes\n",
        "X_train_res = pd.DataFrame(X_train_res, columns = z.columns)\n",
        "X_test = pd.DataFrame(X_test, columns = z.columns)\n",
        "\n",
        "class_counts = pd.DataFrame({'Echec':Y_train_res}).groupby('Echec').size()\n",
        "print(class_counts)"
      ]
    },
    {
      "cell_type": "markdown",
      "source": [
        "## Calibrage des variables\n",
        "* De nombreux algorithmes d'apprentissage automatique fonctionnent moins bien si les variables ont des échelles très différentes.\n",
        "* Ils existent deux moyens principaux pour passer les variables à la même échelle : **la transformation min-max et la normalisation**\n",
        "* IMPORTANT : les paramètres de changement d'échelle sont calculées uniquement sur les données d'entrainement et sont seulement appliqués pour calibrer les données test (= ne jamais appliquer de méthode \"fit\" ou \"fit_transform\" aux données test)."
      ],
      "metadata": {
        "id": "Z-KkPbpOWDWN"
      },
      "id": "Z-KkPbpOWDWN"
    },
    {
      "cell_type": "markdown",
      "source": [
        "### Transformation min-max\n",
        "* Pour chaque variable : on soustrait la valeur min à chaque valeur et on divise par *max - min*\n",
        "* Les valeurs recalibrées sont toutes comprises entre 0 et 1"
      ],
      "metadata": {
        "id": "Ei9o3p4_jOfl"
      },
      "id": "Ei9o3p4_jOfl"
    },
    {
      "cell_type": "code",
      "source": [
        "scaler = MinMaxScaler()\n",
        "X_train_tr = scaler.fit_transform(X_train_res) # calculé et appliqué sur les données d'entrainement\n",
        "X_test_tr = scaler.transform(X_test) # appliqué sur les données test\n",
        "pd.DataFrame(X_train_tr).describe()"
      ],
      "metadata": {
        "colab": {
          "base_uri": "https://localhost:8080/",
          "height": 350
        },
        "id": "9fBx8pFXWblJ",
        "outputId": "627728f9-3eaf-4150-c179-743ef090fbfc"
      },
      "id": "9fBx8pFXWblJ",
      "execution_count": null,
      "outputs": [
        {
          "output_type": "execute_result",
          "data": {
            "text/plain": [
              "               0           1           2           3           4           5   \\\n",
              "count  309.000000  309.000000  309.000000  309.000000  309.000000  309.000000   \n",
              "mean     0.403902    0.135899    0.145815    0.160005    0.405878    0.396050   \n",
              "std      0.135393    0.153412    0.152437    0.156292    0.155180    0.165625   \n",
              "min      0.000000    0.000000    0.000000    0.000000    0.000000    0.000000   \n",
              "25%      0.322449    0.045889    0.049111    0.067146    0.297957    0.264799   \n",
              "50%      0.414388    0.077442    0.105865    0.110369    0.392124    0.389567   \n",
              "75%      0.487159    0.165024    0.179714    0.198367    0.490837    0.516193   \n",
              "max      1.000000    1.000000    1.000000    1.000000    1.000000    1.000000   \n",
              "\n",
              "               6           7           8           9   ...          51  \\\n",
              "count  309.000000  309.000000  309.000000  309.000000  ...  309.000000   \n",
              "mean     0.501650    0.415512    0.385449    0.722322  ...    0.425360   \n",
              "std      0.173713    0.211388    0.207327    0.180962  ...    0.203674   \n",
              "min      0.000000    0.000000    0.000000    0.000000  ...    0.000000   \n",
              "25%      0.373981    0.247733    0.225270    0.604711  ...    0.283368   \n",
              "50%      0.498728    0.396010    0.350951    0.737022  ...    0.398738   \n",
              "75%      0.616051    0.562117    0.516350    0.884799  ...    0.563062   \n",
              "max      1.000000    1.000000    1.000000    1.000000  ...    1.000000   \n",
              "\n",
              "               52          53          54          55          56          57  \\\n",
              "count  309.000000  309.000000  309.000000  309.000000  309.000000  309.000000   \n",
              "mean     0.314501    0.425204    0.363723    0.275429    0.398174    0.344769   \n",
              "std      0.169141    0.233829    0.174121    0.199183    0.175869    0.162517   \n",
              "min      0.000000    0.000000    0.000000    0.000000    0.000000    0.000000   \n",
              "25%      0.181851    0.249073    0.238311    0.134109    0.278937    0.232494   \n",
              "50%      0.302515    0.335994    0.334525    0.222233    0.376631    0.325436   \n",
              "75%      0.417898    0.638692    0.462685    0.354762    0.496888    0.424258   \n",
              "max      1.000000    1.000000    1.000000    1.000000    1.000000    1.000000   \n",
              "\n",
              "               58          59          60  \n",
              "count  309.000000  309.000000  309.000000  \n",
              "mean     0.294684    0.618216    0.259796  \n",
              "std      0.149357    0.162365    0.206955  \n",
              "min      0.000000    0.000000    0.000000  \n",
              "25%      0.193064    0.539199    0.107978  \n",
              "50%      0.270715    0.639161    0.182767  \n",
              "75%      0.369699    0.723866    0.382561  \n",
              "max      1.000000    1.000000    1.000000  \n",
              "\n",
              "[8 rows x 61 columns]"
            ],
            "text/html": [
              "\n",
              "  <div id=\"df-2dd3cbb0-19d6-452c-8167-bdc48ded9fed\" class=\"colab-df-container\">\n",
              "    <div>\n",
              "<style scoped>\n",
              "    .dataframe tbody tr th:only-of-type {\n",
              "        vertical-align: middle;\n",
              "    }\n",
              "\n",
              "    .dataframe tbody tr th {\n",
              "        vertical-align: top;\n",
              "    }\n",
              "\n",
              "    .dataframe thead th {\n",
              "        text-align: right;\n",
              "    }\n",
              "</style>\n",
              "<table border=\"1\" class=\"dataframe\">\n",
              "  <thead>\n",
              "    <tr style=\"text-align: right;\">\n",
              "      <th></th>\n",
              "      <th>0</th>\n",
              "      <th>1</th>\n",
              "      <th>2</th>\n",
              "      <th>3</th>\n",
              "      <th>4</th>\n",
              "      <th>5</th>\n",
              "      <th>6</th>\n",
              "      <th>7</th>\n",
              "      <th>8</th>\n",
              "      <th>9</th>\n",
              "      <th>...</th>\n",
              "      <th>51</th>\n",
              "      <th>52</th>\n",
              "      <th>53</th>\n",
              "      <th>54</th>\n",
              "      <th>55</th>\n",
              "      <th>56</th>\n",
              "      <th>57</th>\n",
              "      <th>58</th>\n",
              "      <th>59</th>\n",
              "      <th>60</th>\n",
              "    </tr>\n",
              "  </thead>\n",
              "  <tbody>\n",
              "    <tr>\n",
              "      <th>count</th>\n",
              "      <td>309.000000</td>\n",
              "      <td>309.000000</td>\n",
              "      <td>309.000000</td>\n",
              "      <td>309.000000</td>\n",
              "      <td>309.000000</td>\n",
              "      <td>309.000000</td>\n",
              "      <td>309.000000</td>\n",
              "      <td>309.000000</td>\n",
              "      <td>309.000000</td>\n",
              "      <td>309.000000</td>\n",
              "      <td>...</td>\n",
              "      <td>309.000000</td>\n",
              "      <td>309.000000</td>\n",
              "      <td>309.000000</td>\n",
              "      <td>309.000000</td>\n",
              "      <td>309.000000</td>\n",
              "      <td>309.000000</td>\n",
              "      <td>309.000000</td>\n",
              "      <td>309.000000</td>\n",
              "      <td>309.000000</td>\n",
              "      <td>309.000000</td>\n",
              "    </tr>\n",
              "    <tr>\n",
              "      <th>mean</th>\n",
              "      <td>0.403902</td>\n",
              "      <td>0.135899</td>\n",
              "      <td>0.145815</td>\n",
              "      <td>0.160005</td>\n",
              "      <td>0.405878</td>\n",
              "      <td>0.396050</td>\n",
              "      <td>0.501650</td>\n",
              "      <td>0.415512</td>\n",
              "      <td>0.385449</td>\n",
              "      <td>0.722322</td>\n",
              "      <td>...</td>\n",
              "      <td>0.425360</td>\n",
              "      <td>0.314501</td>\n",
              "      <td>0.425204</td>\n",
              "      <td>0.363723</td>\n",
              "      <td>0.275429</td>\n",
              "      <td>0.398174</td>\n",
              "      <td>0.344769</td>\n",
              "      <td>0.294684</td>\n",
              "      <td>0.618216</td>\n",
              "      <td>0.259796</td>\n",
              "    </tr>\n",
              "    <tr>\n",
              "      <th>std</th>\n",
              "      <td>0.135393</td>\n",
              "      <td>0.153412</td>\n",
              "      <td>0.152437</td>\n",
              "      <td>0.156292</td>\n",
              "      <td>0.155180</td>\n",
              "      <td>0.165625</td>\n",
              "      <td>0.173713</td>\n",
              "      <td>0.211388</td>\n",
              "      <td>0.207327</td>\n",
              "      <td>0.180962</td>\n",
              "      <td>...</td>\n",
              "      <td>0.203674</td>\n",
              "      <td>0.169141</td>\n",
              "      <td>0.233829</td>\n",
              "      <td>0.174121</td>\n",
              "      <td>0.199183</td>\n",
              "      <td>0.175869</td>\n",
              "      <td>0.162517</td>\n",
              "      <td>0.149357</td>\n",
              "      <td>0.162365</td>\n",
              "      <td>0.206955</td>\n",
              "    </tr>\n",
              "    <tr>\n",
              "      <th>min</th>\n",
              "      <td>0.000000</td>\n",
              "      <td>0.000000</td>\n",
              "      <td>0.000000</td>\n",
              "      <td>0.000000</td>\n",
              "      <td>0.000000</td>\n",
              "      <td>0.000000</td>\n",
              "      <td>0.000000</td>\n",
              "      <td>0.000000</td>\n",
              "      <td>0.000000</td>\n",
              "      <td>0.000000</td>\n",
              "      <td>...</td>\n",
              "      <td>0.000000</td>\n",
              "      <td>0.000000</td>\n",
              "      <td>0.000000</td>\n",
              "      <td>0.000000</td>\n",
              "      <td>0.000000</td>\n",
              "      <td>0.000000</td>\n",
              "      <td>0.000000</td>\n",
              "      <td>0.000000</td>\n",
              "      <td>0.000000</td>\n",
              "      <td>0.000000</td>\n",
              "    </tr>\n",
              "    <tr>\n",
              "      <th>25%</th>\n",
              "      <td>0.322449</td>\n",
              "      <td>0.045889</td>\n",
              "      <td>0.049111</td>\n",
              "      <td>0.067146</td>\n",
              "      <td>0.297957</td>\n",
              "      <td>0.264799</td>\n",
              "      <td>0.373981</td>\n",
              "      <td>0.247733</td>\n",
              "      <td>0.225270</td>\n",
              "      <td>0.604711</td>\n",
              "      <td>...</td>\n",
              "      <td>0.283368</td>\n",
              "      <td>0.181851</td>\n",
              "      <td>0.249073</td>\n",
              "      <td>0.238311</td>\n",
              "      <td>0.134109</td>\n",
              "      <td>0.278937</td>\n",
              "      <td>0.232494</td>\n",
              "      <td>0.193064</td>\n",
              "      <td>0.539199</td>\n",
              "      <td>0.107978</td>\n",
              "    </tr>\n",
              "    <tr>\n",
              "      <th>50%</th>\n",
              "      <td>0.414388</td>\n",
              "      <td>0.077442</td>\n",
              "      <td>0.105865</td>\n",
              "      <td>0.110369</td>\n",
              "      <td>0.392124</td>\n",
              "      <td>0.389567</td>\n",
              "      <td>0.498728</td>\n",
              "      <td>0.396010</td>\n",
              "      <td>0.350951</td>\n",
              "      <td>0.737022</td>\n",
              "      <td>...</td>\n",
              "      <td>0.398738</td>\n",
              "      <td>0.302515</td>\n",
              "      <td>0.335994</td>\n",
              "      <td>0.334525</td>\n",
              "      <td>0.222233</td>\n",
              "      <td>0.376631</td>\n",
              "      <td>0.325436</td>\n",
              "      <td>0.270715</td>\n",
              "      <td>0.639161</td>\n",
              "      <td>0.182767</td>\n",
              "    </tr>\n",
              "    <tr>\n",
              "      <th>75%</th>\n",
              "      <td>0.487159</td>\n",
              "      <td>0.165024</td>\n",
              "      <td>0.179714</td>\n",
              "      <td>0.198367</td>\n",
              "      <td>0.490837</td>\n",
              "      <td>0.516193</td>\n",
              "      <td>0.616051</td>\n",
              "      <td>0.562117</td>\n",
              "      <td>0.516350</td>\n",
              "      <td>0.884799</td>\n",
              "      <td>...</td>\n",
              "      <td>0.563062</td>\n",
              "      <td>0.417898</td>\n",
              "      <td>0.638692</td>\n",
              "      <td>0.462685</td>\n",
              "      <td>0.354762</td>\n",
              "      <td>0.496888</td>\n",
              "      <td>0.424258</td>\n",
              "      <td>0.369699</td>\n",
              "      <td>0.723866</td>\n",
              "      <td>0.382561</td>\n",
              "    </tr>\n",
              "    <tr>\n",
              "      <th>max</th>\n",
              "      <td>1.000000</td>\n",
              "      <td>1.000000</td>\n",
              "      <td>1.000000</td>\n",
              "      <td>1.000000</td>\n",
              "      <td>1.000000</td>\n",
              "      <td>1.000000</td>\n",
              "      <td>1.000000</td>\n",
              "      <td>1.000000</td>\n",
              "      <td>1.000000</td>\n",
              "      <td>1.000000</td>\n",
              "      <td>...</td>\n",
              "      <td>1.000000</td>\n",
              "      <td>1.000000</td>\n",
              "      <td>1.000000</td>\n",
              "      <td>1.000000</td>\n",
              "      <td>1.000000</td>\n",
              "      <td>1.000000</td>\n",
              "      <td>1.000000</td>\n",
              "      <td>1.000000</td>\n",
              "      <td>1.000000</td>\n",
              "      <td>1.000000</td>\n",
              "    </tr>\n",
              "  </tbody>\n",
              "</table>\n",
              "<p>8 rows × 61 columns</p>\n",
              "</div>\n",
              "    <div class=\"colab-df-buttons\">\n",
              "\n",
              "  <div class=\"colab-df-container\">\n",
              "    <button class=\"colab-df-convert\" onclick=\"convertToInteractive('df-2dd3cbb0-19d6-452c-8167-bdc48ded9fed')\"\n",
              "            title=\"Convert this dataframe to an interactive table.\"\n",
              "            style=\"display:none;\">\n",
              "\n",
              "  <svg xmlns=\"http://www.w3.org/2000/svg\" height=\"24px\" viewBox=\"0 -960 960 960\">\n",
              "    <path d=\"M120-120v-720h720v720H120Zm60-500h600v-160H180v160Zm220 220h160v-160H400v160Zm0 220h160v-160H400v160ZM180-400h160v-160H180v160Zm440 0h160v-160H620v160ZM180-180h160v-160H180v160Zm440 0h160v-160H620v160Z\"/>\n",
              "  </svg>\n",
              "    </button>\n",
              "\n",
              "  <style>\n",
              "    .colab-df-container {\n",
              "      display:flex;\n",
              "      gap: 12px;\n",
              "    }\n",
              "\n",
              "    .colab-df-convert {\n",
              "      background-color: #E8F0FE;\n",
              "      border: none;\n",
              "      border-radius: 50%;\n",
              "      cursor: pointer;\n",
              "      display: none;\n",
              "      fill: #1967D2;\n",
              "      height: 32px;\n",
              "      padding: 0 0 0 0;\n",
              "      width: 32px;\n",
              "    }\n",
              "\n",
              "    .colab-df-convert:hover {\n",
              "      background-color: #E2EBFA;\n",
              "      box-shadow: 0px 1px 2px rgba(60, 64, 67, 0.3), 0px 1px 3px 1px rgba(60, 64, 67, 0.15);\n",
              "      fill: #174EA6;\n",
              "    }\n",
              "\n",
              "    .colab-df-buttons div {\n",
              "      margin-bottom: 4px;\n",
              "    }\n",
              "\n",
              "    [theme=dark] .colab-df-convert {\n",
              "      background-color: #3B4455;\n",
              "      fill: #D2E3FC;\n",
              "    }\n",
              "\n",
              "    [theme=dark] .colab-df-convert:hover {\n",
              "      background-color: #434B5C;\n",
              "      box-shadow: 0px 1px 3px 1px rgba(0, 0, 0, 0.15);\n",
              "      filter: drop-shadow(0px 1px 2px rgba(0, 0, 0, 0.3));\n",
              "      fill: #FFFFFF;\n",
              "    }\n",
              "  </style>\n",
              "\n",
              "    <script>\n",
              "      const buttonEl =\n",
              "        document.querySelector('#df-2dd3cbb0-19d6-452c-8167-bdc48ded9fed button.colab-df-convert');\n",
              "      buttonEl.style.display =\n",
              "        google.colab.kernel.accessAllowed ? 'block' : 'none';\n",
              "\n",
              "      async function convertToInteractive(key) {\n",
              "        const element = document.querySelector('#df-2dd3cbb0-19d6-452c-8167-bdc48ded9fed');\n",
              "        const dataTable =\n",
              "          await google.colab.kernel.invokeFunction('convertToInteractive',\n",
              "                                                    [key], {});\n",
              "        if (!dataTable) return;\n",
              "\n",
              "        const docLinkHtml = 'Like what you see? Visit the ' +\n",
              "          '<a target=\"_blank\" href=https://colab.research.google.com/notebooks/data_table.ipynb>data table notebook</a>'\n",
              "          + ' to learn more about interactive tables.';\n",
              "        element.innerHTML = '';\n",
              "        dataTable['output_type'] = 'display_data';\n",
              "        await google.colab.output.renderOutput(dataTable, element);\n",
              "        const docLink = document.createElement('div');\n",
              "        docLink.innerHTML = docLinkHtml;\n",
              "        element.appendChild(docLink);\n",
              "      }\n",
              "    </script>\n",
              "  </div>\n",
              "\n",
              "\n",
              "<div id=\"df-05795412-bef7-44d5-9ec5-d6e1cb7851d6\">\n",
              "  <button class=\"colab-df-quickchart\" onclick=\"quickchart('df-05795412-bef7-44d5-9ec5-d6e1cb7851d6')\"\n",
              "            title=\"Suggest charts\"\n",
              "            style=\"display:none;\">\n",
              "\n",
              "<svg xmlns=\"http://www.w3.org/2000/svg\" height=\"24px\"viewBox=\"0 0 24 24\"\n",
              "     width=\"24px\">\n",
              "    <g>\n",
              "        <path d=\"M19 3H5c-1.1 0-2 .9-2 2v14c0 1.1.9 2 2 2h14c1.1 0 2-.9 2-2V5c0-1.1-.9-2-2-2zM9 17H7v-7h2v7zm4 0h-2V7h2v10zm4 0h-2v-4h2v4z\"/>\n",
              "    </g>\n",
              "</svg>\n",
              "  </button>\n",
              "\n",
              "<style>\n",
              "  .colab-df-quickchart {\n",
              "      --bg-color: #E8F0FE;\n",
              "      --fill-color: #1967D2;\n",
              "      --hover-bg-color: #E2EBFA;\n",
              "      --hover-fill-color: #174EA6;\n",
              "      --disabled-fill-color: #AAA;\n",
              "      --disabled-bg-color: #DDD;\n",
              "  }\n",
              "\n",
              "  [theme=dark] .colab-df-quickchart {\n",
              "      --bg-color: #3B4455;\n",
              "      --fill-color: #D2E3FC;\n",
              "      --hover-bg-color: #434B5C;\n",
              "      --hover-fill-color: #FFFFFF;\n",
              "      --disabled-bg-color: #3B4455;\n",
              "      --disabled-fill-color: #666;\n",
              "  }\n",
              "\n",
              "  .colab-df-quickchart {\n",
              "    background-color: var(--bg-color);\n",
              "    border: none;\n",
              "    border-radius: 50%;\n",
              "    cursor: pointer;\n",
              "    display: none;\n",
              "    fill: var(--fill-color);\n",
              "    height: 32px;\n",
              "    padding: 0;\n",
              "    width: 32px;\n",
              "  }\n",
              "\n",
              "  .colab-df-quickchart:hover {\n",
              "    background-color: var(--hover-bg-color);\n",
              "    box-shadow: 0 1px 2px rgba(60, 64, 67, 0.3), 0 1px 3px 1px rgba(60, 64, 67, 0.15);\n",
              "    fill: var(--button-hover-fill-color);\n",
              "  }\n",
              "\n",
              "  .colab-df-quickchart-complete:disabled,\n",
              "  .colab-df-quickchart-complete:disabled:hover {\n",
              "    background-color: var(--disabled-bg-color);\n",
              "    fill: var(--disabled-fill-color);\n",
              "    box-shadow: none;\n",
              "  }\n",
              "\n",
              "  .colab-df-spinner {\n",
              "    border: 2px solid var(--fill-color);\n",
              "    border-color: transparent;\n",
              "    border-bottom-color: var(--fill-color);\n",
              "    animation:\n",
              "      spin 1s steps(1) infinite;\n",
              "  }\n",
              "\n",
              "  @keyframes spin {\n",
              "    0% {\n",
              "      border-color: transparent;\n",
              "      border-bottom-color: var(--fill-color);\n",
              "      border-left-color: var(--fill-color);\n",
              "    }\n",
              "    20% {\n",
              "      border-color: transparent;\n",
              "      border-left-color: var(--fill-color);\n",
              "      border-top-color: var(--fill-color);\n",
              "    }\n",
              "    30% {\n",
              "      border-color: transparent;\n",
              "      border-left-color: var(--fill-color);\n",
              "      border-top-color: var(--fill-color);\n",
              "      border-right-color: var(--fill-color);\n",
              "    }\n",
              "    40% {\n",
              "      border-color: transparent;\n",
              "      border-right-color: var(--fill-color);\n",
              "      border-top-color: var(--fill-color);\n",
              "    }\n",
              "    60% {\n",
              "      border-color: transparent;\n",
              "      border-right-color: var(--fill-color);\n",
              "    }\n",
              "    80% {\n",
              "      border-color: transparent;\n",
              "      border-right-color: var(--fill-color);\n",
              "      border-bottom-color: var(--fill-color);\n",
              "    }\n",
              "    90% {\n",
              "      border-color: transparent;\n",
              "      border-bottom-color: var(--fill-color);\n",
              "    }\n",
              "  }\n",
              "</style>\n",
              "\n",
              "  <script>\n",
              "    async function quickchart(key) {\n",
              "      const quickchartButtonEl =\n",
              "        document.querySelector('#' + key + ' button');\n",
              "      quickchartButtonEl.disabled = true;  // To prevent multiple clicks.\n",
              "      quickchartButtonEl.classList.add('colab-df-spinner');\n",
              "      try {\n",
              "        const charts = await google.colab.kernel.invokeFunction(\n",
              "            'suggestCharts', [key], {});\n",
              "      } catch (error) {\n",
              "        console.error('Error during call to suggestCharts:', error);\n",
              "      }\n",
              "      quickchartButtonEl.classList.remove('colab-df-spinner');\n",
              "      quickchartButtonEl.classList.add('colab-df-quickchart-complete');\n",
              "    }\n",
              "    (() => {\n",
              "      let quickchartButtonEl =\n",
              "        document.querySelector('#df-05795412-bef7-44d5-9ec5-d6e1cb7851d6 button');\n",
              "      quickchartButtonEl.style.display =\n",
              "        google.colab.kernel.accessAllowed ? 'block' : 'none';\n",
              "    })();\n",
              "  </script>\n",
              "</div>\n",
              "    </div>\n",
              "  </div>\n"
            ]
          },
          "metadata": {},
          "execution_count": 6
        }
      ]
    },
    {
      "cell_type": "markdown",
      "source": [
        "### Normalisation\n",
        "* Pour chaque variable : on soustrait la valeur moyenne et on divise par l'écart-type.\n",
        "* Les valeurs recalibrées auront une moyenne nulle et un écart-type égal à 1.\n",
        "* Les valeurs ne sont pas limitées à un intervalle (peut poser problème pour les réseaux de neurones qui attendent souvent des valeurs entre 0 et 1) mais  le résultat est beaucoup moins sensible aux valeurs aberrantes qui peuvent écraser les autres valeurs dans une transformation min-max."
      ],
      "metadata": {
        "id": "4FnLby6IlTra"
      },
      "id": "4FnLby6IlTra"
    },
    {
      "cell_type": "code",
      "source": [
        "scaler = StandardScaler()\n",
        "X_train_tr = scaler.fit_transform(X_train_res) # calculé et appliqué sur les données d'entrainement\n",
        "X_test_tr = scaler.transform(X_test) # appliqué sur les données test\n",
        "\n",
        "X_train = scaler.fit_transform(X_train) # normalisation des données non resamplées\n",
        "X_test = pd.DataFrame(X_test, columns = z.columns)\n",
        "X_test_tr = pd.DataFrame(X_test_tr, columns = z.columns)\n",
        "\n",
        "pd.DataFrame(X_train_tr).describe()"
      ],
      "metadata": {
        "colab": {
          "base_uri": "https://localhost:8080/",
          "height": 419
        },
        "id": "759sGsGnlT2A",
        "outputId": "85a6784a-aed0-45fb-e92f-ce2c626b6295"
      },
      "id": "759sGsGnlT2A",
      "execution_count": null,
      "outputs": [
        {
          "output_type": "execute_result",
          "data": {
            "text/plain": [
              "                 0             1             2             3             4   \\\n",
              "count  3.090000e+02  3.090000e+02  3.090000e+02  3.090000e+02  3.090000e+02   \n",
              "mean   4.024109e-16  1.494669e-16 -1.092258e-16  3.449237e-17 -6.898473e-17   \n",
              "std    1.001622e+00  1.001622e+00  1.001622e+00  1.001622e+00  1.001622e+00   \n",
              "min   -2.988020e+00 -8.872778e-01 -9.581132e-01 -1.025419e+00 -2.619778e+00   \n",
              "25%   -6.025771e-01 -5.876728e-01 -6.354156e-01 -5.951061e-01 -6.965809e-01   \n",
              "50%    7.757555e-02 -3.816622e-01 -2.625030e-01 -3.180983e-01 -8.877354e-02   \n",
              "75%    6.159276e-01  1.901596e-01  2.227378e-01  2.458460e-01  5.483816e-01   \n",
              "max    4.409863e+00  5.641687e+00  5.612611e+00  5.383250e+00  3.834823e+00   \n",
              "\n",
              "                 5             6             7             8             9   \\\n",
              "count  3.090000e+02  3.090000e+02  3.090000e+02  3.090000e+02  3.090000e+02   \n",
              "mean   9.197964e-17  2.989338e-16  2.644415e-16  8.048219e-17 -3.087067e-15   \n",
              "std    1.001622e+00  1.001622e+00  1.001622e+00  1.001622e+00  1.001622e+00   \n",
              "min   -2.395121e+00 -2.892496e+00 -1.968829e+00 -1.862151e+00 -3.998035e+00   \n",
              "25%   -7.937436e-01 -7.361367e-01 -7.949905e-01 -7.738418e-01 -6.509778e-01   \n",
              "50%   -3.920535e-02 -1.684822e-02 -9.240943e-02 -1.666644e-01  8.135948e-02   \n",
              "75%    7.265647e-01  6.596335e-01  6.946612e-01  6.323979e-01  8.993058e-01   \n",
              "max    3.652397e+00  2.873468e+00  2.769489e+00  2.968972e+00  1.536937e+00   \n",
              "\n",
              "       ...            51            52            53            54  \\\n",
              "count  ...  3.090000e+02  3.090000e+02  3.090000e+02  3.090000e+02   \n",
              "mean   ...  2.529440e-16 -1.954567e-16  1.135374e-16 -2.299491e-16   \n",
              "std    ...  1.001622e+00  1.001622e+00  1.001622e+00  1.001622e+00   \n",
              "min    ... -2.091824e+00 -1.862414e+00 -1.821386e+00 -2.092293e+00   \n",
              "25%    ... -6.982816e-01 -7.855271e-01 -7.544668e-01 -7.214225e-01   \n",
              "50%    ... -1.309176e-01 -7.098278e-02 -3.821351e-01 -1.679600e-01   \n",
              "75%    ...  6.771914e-01  6.122972e-01  9.144928e-01  5.692729e-01   \n",
              "max    ...  2.825954e+00  4.059389e+00  2.462176e+00  3.660144e+00   \n",
              "\n",
              "                 55            56            57            58            59  \\\n",
              "count  3.090000e+02  3.090000e+02  3.090000e+02  3.090000e+02  3.090000e+02   \n",
              "mean   9.197964e-17 -1.379695e-16 -6.898473e-17  5.748728e-17  4.369033e-16   \n",
              "std    1.001622e+00  1.001622e+00  1.001622e+00  1.001622e+00  1.001622e+00   \n",
              "min   -1.385034e+00 -2.267716e+00 -2.124879e+00 -1.976222e+00 -3.813736e+00   \n",
              "25%   -7.106460e-01 -6.790884e-01 -6.919730e-01 -6.814868e-01 -4.874493e-01   \n",
              "50%   -2.675026e-01 -1.226964e-01 -1.191528e-01 -1.607411e-01  1.292046e-01   \n",
              "75%    3.989363e-01  5.622056e-01  4.899025e-01  5.030735e-01  6.517472e-01   \n",
              "max    3.643611e+00  3.427573e+00  4.038313e+00  4.730026e+00  2.355201e+00   \n",
              "\n",
              "                 60  \n",
              "count  3.090000e+02  \n",
              "mean   6.323600e-17  \n",
              "std    1.001622e+00  \n",
              "min   -1.257366e+00  \n",
              "25%   -7.347731e-01  \n",
              "50%   -3.728049e-01  \n",
              "75%    5.941608e-01  \n",
              "max    3.582451e+00  \n",
              "\n",
              "[8 rows x 61 columns]"
            ],
            "text/html": [
              "\n",
              "  <div id=\"df-ace63eb6-1aa0-4f2f-a1e5-fba851d99e6b\" class=\"colab-df-container\">\n",
              "    <div>\n",
              "<style scoped>\n",
              "    .dataframe tbody tr th:only-of-type {\n",
              "        vertical-align: middle;\n",
              "    }\n",
              "\n",
              "    .dataframe tbody tr th {\n",
              "        vertical-align: top;\n",
              "    }\n",
              "\n",
              "    .dataframe thead th {\n",
              "        text-align: right;\n",
              "    }\n",
              "</style>\n",
              "<table border=\"1\" class=\"dataframe\">\n",
              "  <thead>\n",
              "    <tr style=\"text-align: right;\">\n",
              "      <th></th>\n",
              "      <th>0</th>\n",
              "      <th>1</th>\n",
              "      <th>2</th>\n",
              "      <th>3</th>\n",
              "      <th>4</th>\n",
              "      <th>5</th>\n",
              "      <th>6</th>\n",
              "      <th>7</th>\n",
              "      <th>8</th>\n",
              "      <th>9</th>\n",
              "      <th>...</th>\n",
              "      <th>51</th>\n",
              "      <th>52</th>\n",
              "      <th>53</th>\n",
              "      <th>54</th>\n",
              "      <th>55</th>\n",
              "      <th>56</th>\n",
              "      <th>57</th>\n",
              "      <th>58</th>\n",
              "      <th>59</th>\n",
              "      <th>60</th>\n",
              "    </tr>\n",
              "  </thead>\n",
              "  <tbody>\n",
              "    <tr>\n",
              "      <th>count</th>\n",
              "      <td>3.090000e+02</td>\n",
              "      <td>3.090000e+02</td>\n",
              "      <td>3.090000e+02</td>\n",
              "      <td>3.090000e+02</td>\n",
              "      <td>3.090000e+02</td>\n",
              "      <td>3.090000e+02</td>\n",
              "      <td>3.090000e+02</td>\n",
              "      <td>3.090000e+02</td>\n",
              "      <td>3.090000e+02</td>\n",
              "      <td>3.090000e+02</td>\n",
              "      <td>...</td>\n",
              "      <td>3.090000e+02</td>\n",
              "      <td>3.090000e+02</td>\n",
              "      <td>3.090000e+02</td>\n",
              "      <td>3.090000e+02</td>\n",
              "      <td>3.090000e+02</td>\n",
              "      <td>3.090000e+02</td>\n",
              "      <td>3.090000e+02</td>\n",
              "      <td>3.090000e+02</td>\n",
              "      <td>3.090000e+02</td>\n",
              "      <td>3.090000e+02</td>\n",
              "    </tr>\n",
              "    <tr>\n",
              "      <th>mean</th>\n",
              "      <td>4.024109e-16</td>\n",
              "      <td>1.494669e-16</td>\n",
              "      <td>-1.092258e-16</td>\n",
              "      <td>3.449237e-17</td>\n",
              "      <td>-6.898473e-17</td>\n",
              "      <td>9.197964e-17</td>\n",
              "      <td>2.989338e-16</td>\n",
              "      <td>2.644415e-16</td>\n",
              "      <td>8.048219e-17</td>\n",
              "      <td>-3.087067e-15</td>\n",
              "      <td>...</td>\n",
              "      <td>2.529440e-16</td>\n",
              "      <td>-1.954567e-16</td>\n",
              "      <td>1.135374e-16</td>\n",
              "      <td>-2.299491e-16</td>\n",
              "      <td>9.197964e-17</td>\n",
              "      <td>-1.379695e-16</td>\n",
              "      <td>-6.898473e-17</td>\n",
              "      <td>5.748728e-17</td>\n",
              "      <td>4.369033e-16</td>\n",
              "      <td>6.323600e-17</td>\n",
              "    </tr>\n",
              "    <tr>\n",
              "      <th>std</th>\n",
              "      <td>1.001622e+00</td>\n",
              "      <td>1.001622e+00</td>\n",
              "      <td>1.001622e+00</td>\n",
              "      <td>1.001622e+00</td>\n",
              "      <td>1.001622e+00</td>\n",
              "      <td>1.001622e+00</td>\n",
              "      <td>1.001622e+00</td>\n",
              "      <td>1.001622e+00</td>\n",
              "      <td>1.001622e+00</td>\n",
              "      <td>1.001622e+00</td>\n",
              "      <td>...</td>\n",
              "      <td>1.001622e+00</td>\n",
              "      <td>1.001622e+00</td>\n",
              "      <td>1.001622e+00</td>\n",
              "      <td>1.001622e+00</td>\n",
              "      <td>1.001622e+00</td>\n",
              "      <td>1.001622e+00</td>\n",
              "      <td>1.001622e+00</td>\n",
              "      <td>1.001622e+00</td>\n",
              "      <td>1.001622e+00</td>\n",
              "      <td>1.001622e+00</td>\n",
              "    </tr>\n",
              "    <tr>\n",
              "      <th>min</th>\n",
              "      <td>-2.988020e+00</td>\n",
              "      <td>-8.872778e-01</td>\n",
              "      <td>-9.581132e-01</td>\n",
              "      <td>-1.025419e+00</td>\n",
              "      <td>-2.619778e+00</td>\n",
              "      <td>-2.395121e+00</td>\n",
              "      <td>-2.892496e+00</td>\n",
              "      <td>-1.968829e+00</td>\n",
              "      <td>-1.862151e+00</td>\n",
              "      <td>-3.998035e+00</td>\n",
              "      <td>...</td>\n",
              "      <td>-2.091824e+00</td>\n",
              "      <td>-1.862414e+00</td>\n",
              "      <td>-1.821386e+00</td>\n",
              "      <td>-2.092293e+00</td>\n",
              "      <td>-1.385034e+00</td>\n",
              "      <td>-2.267716e+00</td>\n",
              "      <td>-2.124879e+00</td>\n",
              "      <td>-1.976222e+00</td>\n",
              "      <td>-3.813736e+00</td>\n",
              "      <td>-1.257366e+00</td>\n",
              "    </tr>\n",
              "    <tr>\n",
              "      <th>25%</th>\n",
              "      <td>-6.025771e-01</td>\n",
              "      <td>-5.876728e-01</td>\n",
              "      <td>-6.354156e-01</td>\n",
              "      <td>-5.951061e-01</td>\n",
              "      <td>-6.965809e-01</td>\n",
              "      <td>-7.937436e-01</td>\n",
              "      <td>-7.361367e-01</td>\n",
              "      <td>-7.949905e-01</td>\n",
              "      <td>-7.738418e-01</td>\n",
              "      <td>-6.509778e-01</td>\n",
              "      <td>...</td>\n",
              "      <td>-6.982816e-01</td>\n",
              "      <td>-7.855271e-01</td>\n",
              "      <td>-7.544668e-01</td>\n",
              "      <td>-7.214225e-01</td>\n",
              "      <td>-7.106460e-01</td>\n",
              "      <td>-6.790884e-01</td>\n",
              "      <td>-6.919730e-01</td>\n",
              "      <td>-6.814868e-01</td>\n",
              "      <td>-4.874493e-01</td>\n",
              "      <td>-7.347731e-01</td>\n",
              "    </tr>\n",
              "    <tr>\n",
              "      <th>50%</th>\n",
              "      <td>7.757555e-02</td>\n",
              "      <td>-3.816622e-01</td>\n",
              "      <td>-2.625030e-01</td>\n",
              "      <td>-3.180983e-01</td>\n",
              "      <td>-8.877354e-02</td>\n",
              "      <td>-3.920535e-02</td>\n",
              "      <td>-1.684822e-02</td>\n",
              "      <td>-9.240943e-02</td>\n",
              "      <td>-1.666644e-01</td>\n",
              "      <td>8.135948e-02</td>\n",
              "      <td>...</td>\n",
              "      <td>-1.309176e-01</td>\n",
              "      <td>-7.098278e-02</td>\n",
              "      <td>-3.821351e-01</td>\n",
              "      <td>-1.679600e-01</td>\n",
              "      <td>-2.675026e-01</td>\n",
              "      <td>-1.226964e-01</td>\n",
              "      <td>-1.191528e-01</td>\n",
              "      <td>-1.607411e-01</td>\n",
              "      <td>1.292046e-01</td>\n",
              "      <td>-3.728049e-01</td>\n",
              "    </tr>\n",
              "    <tr>\n",
              "      <th>75%</th>\n",
              "      <td>6.159276e-01</td>\n",
              "      <td>1.901596e-01</td>\n",
              "      <td>2.227378e-01</td>\n",
              "      <td>2.458460e-01</td>\n",
              "      <td>5.483816e-01</td>\n",
              "      <td>7.265647e-01</td>\n",
              "      <td>6.596335e-01</td>\n",
              "      <td>6.946612e-01</td>\n",
              "      <td>6.323979e-01</td>\n",
              "      <td>8.993058e-01</td>\n",
              "      <td>...</td>\n",
              "      <td>6.771914e-01</td>\n",
              "      <td>6.122972e-01</td>\n",
              "      <td>9.144928e-01</td>\n",
              "      <td>5.692729e-01</td>\n",
              "      <td>3.989363e-01</td>\n",
              "      <td>5.622056e-01</td>\n",
              "      <td>4.899025e-01</td>\n",
              "      <td>5.030735e-01</td>\n",
              "      <td>6.517472e-01</td>\n",
              "      <td>5.941608e-01</td>\n",
              "    </tr>\n",
              "    <tr>\n",
              "      <th>max</th>\n",
              "      <td>4.409863e+00</td>\n",
              "      <td>5.641687e+00</td>\n",
              "      <td>5.612611e+00</td>\n",
              "      <td>5.383250e+00</td>\n",
              "      <td>3.834823e+00</td>\n",
              "      <td>3.652397e+00</td>\n",
              "      <td>2.873468e+00</td>\n",
              "      <td>2.769489e+00</td>\n",
              "      <td>2.968972e+00</td>\n",
              "      <td>1.536937e+00</td>\n",
              "      <td>...</td>\n",
              "      <td>2.825954e+00</td>\n",
              "      <td>4.059389e+00</td>\n",
              "      <td>2.462176e+00</td>\n",
              "      <td>3.660144e+00</td>\n",
              "      <td>3.643611e+00</td>\n",
              "      <td>3.427573e+00</td>\n",
              "      <td>4.038313e+00</td>\n",
              "      <td>4.730026e+00</td>\n",
              "      <td>2.355201e+00</td>\n",
              "      <td>3.582451e+00</td>\n",
              "    </tr>\n",
              "  </tbody>\n",
              "</table>\n",
              "<p>8 rows × 61 columns</p>\n",
              "</div>\n",
              "    <div class=\"colab-df-buttons\">\n",
              "\n",
              "  <div class=\"colab-df-container\">\n",
              "    <button class=\"colab-df-convert\" onclick=\"convertToInteractive('df-ace63eb6-1aa0-4f2f-a1e5-fba851d99e6b')\"\n",
              "            title=\"Convert this dataframe to an interactive table.\"\n",
              "            style=\"display:none;\">\n",
              "\n",
              "  <svg xmlns=\"http://www.w3.org/2000/svg\" height=\"24px\" viewBox=\"0 -960 960 960\">\n",
              "    <path d=\"M120-120v-720h720v720H120Zm60-500h600v-160H180v160Zm220 220h160v-160H400v160Zm0 220h160v-160H400v160ZM180-400h160v-160H180v160Zm440 0h160v-160H620v160ZM180-180h160v-160H180v160Zm440 0h160v-160H620v160Z\"/>\n",
              "  </svg>\n",
              "    </button>\n",
              "\n",
              "  <style>\n",
              "    .colab-df-container {\n",
              "      display:flex;\n",
              "      gap: 12px;\n",
              "    }\n",
              "\n",
              "    .colab-df-convert {\n",
              "      background-color: #E8F0FE;\n",
              "      border: none;\n",
              "      border-radius: 50%;\n",
              "      cursor: pointer;\n",
              "      display: none;\n",
              "      fill: #1967D2;\n",
              "      height: 32px;\n",
              "      padding: 0 0 0 0;\n",
              "      width: 32px;\n",
              "    }\n",
              "\n",
              "    .colab-df-convert:hover {\n",
              "      background-color: #E2EBFA;\n",
              "      box-shadow: 0px 1px 2px rgba(60, 64, 67, 0.3), 0px 1px 3px 1px rgba(60, 64, 67, 0.15);\n",
              "      fill: #174EA6;\n",
              "    }\n",
              "\n",
              "    .colab-df-buttons div {\n",
              "      margin-bottom: 4px;\n",
              "    }\n",
              "\n",
              "    [theme=dark] .colab-df-convert {\n",
              "      background-color: #3B4455;\n",
              "      fill: #D2E3FC;\n",
              "    }\n",
              "\n",
              "    [theme=dark] .colab-df-convert:hover {\n",
              "      background-color: #434B5C;\n",
              "      box-shadow: 0px 1px 3px 1px rgba(0, 0, 0, 0.15);\n",
              "      filter: drop-shadow(0px 1px 2px rgba(0, 0, 0, 0.3));\n",
              "      fill: #FFFFFF;\n",
              "    }\n",
              "  </style>\n",
              "\n",
              "    <script>\n",
              "      const buttonEl =\n",
              "        document.querySelector('#df-ace63eb6-1aa0-4f2f-a1e5-fba851d99e6b button.colab-df-convert');\n",
              "      buttonEl.style.display =\n",
              "        google.colab.kernel.accessAllowed ? 'block' : 'none';\n",
              "\n",
              "      async function convertToInteractive(key) {\n",
              "        const element = document.querySelector('#df-ace63eb6-1aa0-4f2f-a1e5-fba851d99e6b');\n",
              "        const dataTable =\n",
              "          await google.colab.kernel.invokeFunction('convertToInteractive',\n",
              "                                                    [key], {});\n",
              "        if (!dataTable) return;\n",
              "\n",
              "        const docLinkHtml = 'Like what you see? Visit the ' +\n",
              "          '<a target=\"_blank\" href=https://colab.research.google.com/notebooks/data_table.ipynb>data table notebook</a>'\n",
              "          + ' to learn more about interactive tables.';\n",
              "        element.innerHTML = '';\n",
              "        dataTable['output_type'] = 'display_data';\n",
              "        await google.colab.output.renderOutput(dataTable, element);\n",
              "        const docLink = document.createElement('div');\n",
              "        docLink.innerHTML = docLinkHtml;\n",
              "        element.appendChild(docLink);\n",
              "      }\n",
              "    </script>\n",
              "  </div>\n",
              "\n",
              "\n",
              "<div id=\"df-b6b38452-fb15-4031-809c-1aa70fc1162c\">\n",
              "  <button class=\"colab-df-quickchart\" onclick=\"quickchart('df-b6b38452-fb15-4031-809c-1aa70fc1162c')\"\n",
              "            title=\"Suggest charts\"\n",
              "            style=\"display:none;\">\n",
              "\n",
              "<svg xmlns=\"http://www.w3.org/2000/svg\" height=\"24px\"viewBox=\"0 0 24 24\"\n",
              "     width=\"24px\">\n",
              "    <g>\n",
              "        <path d=\"M19 3H5c-1.1 0-2 .9-2 2v14c0 1.1.9 2 2 2h14c1.1 0 2-.9 2-2V5c0-1.1-.9-2-2-2zM9 17H7v-7h2v7zm4 0h-2V7h2v10zm4 0h-2v-4h2v4z\"/>\n",
              "    </g>\n",
              "</svg>\n",
              "  </button>\n",
              "\n",
              "<style>\n",
              "  .colab-df-quickchart {\n",
              "      --bg-color: #E8F0FE;\n",
              "      --fill-color: #1967D2;\n",
              "      --hover-bg-color: #E2EBFA;\n",
              "      --hover-fill-color: #174EA6;\n",
              "      --disabled-fill-color: #AAA;\n",
              "      --disabled-bg-color: #DDD;\n",
              "  }\n",
              "\n",
              "  [theme=dark] .colab-df-quickchart {\n",
              "      --bg-color: #3B4455;\n",
              "      --fill-color: #D2E3FC;\n",
              "      --hover-bg-color: #434B5C;\n",
              "      --hover-fill-color: #FFFFFF;\n",
              "      --disabled-bg-color: #3B4455;\n",
              "      --disabled-fill-color: #666;\n",
              "  }\n",
              "\n",
              "  .colab-df-quickchart {\n",
              "    background-color: var(--bg-color);\n",
              "    border: none;\n",
              "    border-radius: 50%;\n",
              "    cursor: pointer;\n",
              "    display: none;\n",
              "    fill: var(--fill-color);\n",
              "    height: 32px;\n",
              "    padding: 0;\n",
              "    width: 32px;\n",
              "  }\n",
              "\n",
              "  .colab-df-quickchart:hover {\n",
              "    background-color: var(--hover-bg-color);\n",
              "    box-shadow: 0 1px 2px rgba(60, 64, 67, 0.3), 0 1px 3px 1px rgba(60, 64, 67, 0.15);\n",
              "    fill: var(--button-hover-fill-color);\n",
              "  }\n",
              "\n",
              "  .colab-df-quickchart-complete:disabled,\n",
              "  .colab-df-quickchart-complete:disabled:hover {\n",
              "    background-color: var(--disabled-bg-color);\n",
              "    fill: var(--disabled-fill-color);\n",
              "    box-shadow: none;\n",
              "  }\n",
              "\n",
              "  .colab-df-spinner {\n",
              "    border: 2px solid var(--fill-color);\n",
              "    border-color: transparent;\n",
              "    border-bottom-color: var(--fill-color);\n",
              "    animation:\n",
              "      spin 1s steps(1) infinite;\n",
              "  }\n",
              "\n",
              "  @keyframes spin {\n",
              "    0% {\n",
              "      border-color: transparent;\n",
              "      border-bottom-color: var(--fill-color);\n",
              "      border-left-color: var(--fill-color);\n",
              "    }\n",
              "    20% {\n",
              "      border-color: transparent;\n",
              "      border-left-color: var(--fill-color);\n",
              "      border-top-color: var(--fill-color);\n",
              "    }\n",
              "    30% {\n",
              "      border-color: transparent;\n",
              "      border-left-color: var(--fill-color);\n",
              "      border-top-color: var(--fill-color);\n",
              "      border-right-color: var(--fill-color);\n",
              "    }\n",
              "    40% {\n",
              "      border-color: transparent;\n",
              "      border-right-color: var(--fill-color);\n",
              "      border-top-color: var(--fill-color);\n",
              "    }\n",
              "    60% {\n",
              "      border-color: transparent;\n",
              "      border-right-color: var(--fill-color);\n",
              "    }\n",
              "    80% {\n",
              "      border-color: transparent;\n",
              "      border-right-color: var(--fill-color);\n",
              "      border-bottom-color: var(--fill-color);\n",
              "    }\n",
              "    90% {\n",
              "      border-color: transparent;\n",
              "      border-bottom-color: var(--fill-color);\n",
              "    }\n",
              "  }\n",
              "</style>\n",
              "\n",
              "  <script>\n",
              "    async function quickchart(key) {\n",
              "      const quickchartButtonEl =\n",
              "        document.querySelector('#' + key + ' button');\n",
              "      quickchartButtonEl.disabled = true;  // To prevent multiple clicks.\n",
              "      quickchartButtonEl.classList.add('colab-df-spinner');\n",
              "      try {\n",
              "        const charts = await google.colab.kernel.invokeFunction(\n",
              "            'suggestCharts', [key], {});\n",
              "      } catch (error) {\n",
              "        console.error('Error during call to suggestCharts:', error);\n",
              "      }\n",
              "      quickchartButtonEl.classList.remove('colab-df-spinner');\n",
              "      quickchartButtonEl.classList.add('colab-df-quickchart-complete');\n",
              "    }\n",
              "    (() => {\n",
              "      let quickchartButtonEl =\n",
              "        document.querySelector('#df-b6b38452-fb15-4031-809c-1aa70fc1162c button');\n",
              "      quickchartButtonEl.style.display =\n",
              "        google.colab.kernel.accessAllowed ? 'block' : 'none';\n",
              "    })();\n",
              "  </script>\n",
              "</div>\n",
              "    </div>\n",
              "  </div>\n"
            ]
          },
          "metadata": {},
          "execution_count": 14
        }
      ]
    },
    {
      "cell_type": "markdown",
      "source": [
        "# Mesures de performances en classification binaire"
      ],
      "metadata": {
        "id": "NRTp-oI1KbQo"
      },
      "id": "NRTp-oI1KbQo"
    },
    {
      "cell_type": "code",
      "source": [
        "# Prenons un classifieur simple : la régression logistique\n",
        "clf = LogisticRegression(solver='lbfgs', random_state = 2023)\n",
        "\n",
        "# Utilisation de la fonction cross_val_score() pour évaluer le classifieur sur une cross-validation stratifiée à k passes avec k =3\n",
        "# = le jeu d'entrainement est divisé en 3 blocs, le modèle est entrainé sur 2 blocs et évalué sur le 3ème blocs.\n",
        "# Le processus est répété 3x jusqu'à ce que chaque bloc ait été utilisé pour l'évaluation\n",
        "# On obtient un score de performance pour chaque bloc\n",
        "cv = StratifiedKFold(n_splits=5, shuffle = True, random_state=2023)\n",
        "cross_val_score(clf, X_train, Y_train, cv = cv) # Sur les données non rééquilibrées\n",
        "# faire le test sur les données non normalisées"
      ],
      "metadata": {
        "colab": {
          "base_uri": "https://localhost:8080/"
        },
        "id": "P6v8yFv2LbfY",
        "outputId": "c5679ffc-8132-4dbd-bd6b-ba98f4a65d08"
      },
      "id": "P6v8yFv2LbfY",
      "execution_count": null,
      "outputs": [
        {
          "output_type": "execute_result",
          "data": {
            "text/plain": [
              "array([0.89839572, 0.89839572, 0.90374332, 0.90860215, 0.87096774])"
            ]
          },
          "metadata": {},
          "execution_count": 12
        }
      ]
    },
    {
      "cell_type": "markdown",
      "source": [
        "* Par défaut, le score de performance utilisé pour entrainer le modèle sur la CV est l'exactitutde (\"accuracy\") = proportion de prédictions correctes\n",
        "\n",
        "* L'exactitude est de près de 90% sur tous les blocs ce qui paraît tout à fait satisfaisant."
      ],
      "metadata": {
        "id": "zx33iUCUPJ_H"
      },
      "id": "zx33iUCUPJ_H"
    },
    {
      "cell_type": "markdown",
      "source": [
        "Si on définit un classifieur \"stupide\" qui classe systématiquement les exemples en réussite (0) :"
      ],
      "metadata": {
        "id": "14DzyQLv07f0"
      },
      "id": "14DzyQLv07f0"
    },
    {
      "cell_type": "code",
      "source": [
        "# classifieur qui classe tous les arcs comme des réussites\n",
        "from sklearn.base import BaseEstimator\n",
        "\n",
        "class TjsReussite(BaseEstimator):\n",
        "  def fit(self, X, y= None):\n",
        "    pass\n",
        "  def predict(self, X):\n",
        "    return(np.zeros((len(X),1), dtype = bool))\n",
        "\n",
        "clf = TjsReussite()\n",
        "cross_val_score(clf, X_train, Y_train, cv = cv, scoring = \"accuracy\") # Sur les données non rééquilibrées"
      ],
      "metadata": {
        "colab": {
          "base_uri": "https://localhost:8080/"
        },
        "id": "q9xBFxnkLfjF",
        "outputId": "7a108886-7b4b-4fc1-f541-1d961f6abf78"
      },
      "id": "q9xBFxnkLfjF",
      "execution_count": null,
      "outputs": [
        {
          "output_type": "execute_result",
          "data": {
            "text/plain": [
              "array([0.88770053, 0.88770053, 0.88770053, 0.89247312, 0.89247312])"
            ]
          },
          "metadata": {},
          "execution_count": 13
        }
      ]
    },
    {
      "cell_type": "markdown",
      "source": [
        "> Même score que précédemment = l'exactitude ne permet pas de quantifier si notre régression logistique fait mieux que si on classait toutes les observations comme des réussites.\n",
        "\n",
        "> Exactitude (souvent utilisée par défaut dans les fonctions scikit) = **métrique non adaptée à la classification**, en particulier si la base de données est déséquilibrée."
      ],
      "metadata": {
        "id": "Vh8yex_VQjkA"
      },
      "id": "Vh8yex_VQjkA"
    },
    {
      "cell_type": "markdown",
      "source": [
        "## Matrice de confusion"
      ],
      "metadata": {
        "id": "S0p4fTWUSEx6"
      },
      "id": "S0p4fTWUSEx6"
    },
    {
      "cell_type": "code",
      "source": [
        "clf = LogisticRegression(solver='lbfgs', random_state = 2023)\n",
        "\n",
        "#cross_val_predict() est utilisé pour obtenir des prédictions indépendantes pour chaque observation du jeu d'entrainement\n",
        "# = réalisées par un modèle qui n'a jamais vu ces données pdt l'entrainement\n",
        "Y_train_pred = cross_val_predict(clf, X_train_tr, Y_train_res, cv=cv)\n",
        "cm = confusion_matrix(Y_train_res, Y_train_pred)\n",
        "cm"
      ],
      "metadata": {
        "colab": {
          "base_uri": "https://localhost:8080/"
        },
        "id": "tNN3jniAQjDC",
        "outputId": "acc4e7f2-3f22-4ef2-ced3-9713170d6a4f"
      },
      "id": "tNN3jniAQjDC",
      "execution_count": null,
      "outputs": [
        {
          "output_type": "execute_result",
          "data": {
            "text/plain": [
              "array([[175,  31],\n",
              "       [ 37,  66]])"
            ]
          },
          "metadata": {},
          "execution_count": 102
        }
      ]
    },
    {
      "cell_type": "code",
      "source": [
        "#Affichage de la matrice de confusion\n",
        "disp = ConfusionMatrixDisplay(confusion_matrix=cm,display_labels= [0, 1])\n",
        "disp.plot()\n",
        "\n",
        "plt.show()"
      ],
      "metadata": {
        "colab": {
          "base_uri": "https://localhost:8080/",
          "height": 449
        },
        "id": "yNIY1LmmV-Fe",
        "outputId": "58371c38-f524-467a-913b-6687a05e2b38"
      },
      "id": "yNIY1LmmV-Fe",
      "execution_count": null,
      "outputs": [
        {
          "output_type": "display_data",
          "data": {
            "text/plain": [
              "<Figure size 640x480 with 2 Axes>"
            ],
            "image/png": "[encoded data removed]"
          },
          "metadata": {}
        }
      ]
    },
    {
      "cell_type": "code",
      "source": [
        "# calcul de la sensibilité (ou rappel) à partir du tableau de la matrice de confusion cm[ligne][colonne]\n",
        "FN = cm[1][0]\n",
        "TP = cm[1][1]\n",
        "TPR = TP/(TP+FN)*100\n",
        "print(\"Le modèle détecte %0.0f%% des échecs sur les données d'entrainement.\" %TPR)"
      ],
      "metadata": {
        "colab": {
          "base_uri": "https://localhost:8080/"
        },
        "id": "G2DBfTTNpzKt",
        "outputId": "9d4978cc-5ed8-4952-cbb5-a63119e7b0e0"
      },
      "id": "G2DBfTTNpzKt",
      "execution_count": null,
      "outputs": [
        {
          "output_type": "stream",
          "name": "stdout",
          "text": [
            "Le modèle détecte 64% des échecs.\n"
          ]
        }
      ]
    },
    {
      "cell_type": "code",
      "source": [
        "# calcul de la spécificité\n",
        "TN = cm[0][0]\n",
        "FP = cm[0][1]\n",
        "TNR = TN/(FP+TN)*100\n",
        "print(\"Le modèle détecte %0.0f%% des réussites sur les données d'entrainement.\" %TNR)"
      ],
      "metadata": {
        "colab": {
          "base_uri": "https://localhost:8080/"
        },
        "id": "nUp2Eq-eqGB9",
        "outputId": "cb56699e-b2f8-424d-9baf-0c69666a3524"
      },
      "id": "nUp2Eq-eqGB9",
      "execution_count": null,
      "outputs": [
        {
          "output_type": "stream",
          "name": "stdout",
          "text": [
            "Le modèle détecte 85% des réussites.\n"
          ]
        }
      ]
    },
    {
      "cell_type": "code",
      "source": [
        "# calcul de la précision\n",
        "TP = cm[1][1]\n",
        "FP = cm[0][1]\n",
        "# PPV pour predicted positive values\n",
        "PPV = TP / (TP + FP)*100\n",
        "print(\"Parmis les échecs détectés sur les données d'entrainement, %0.0f%% sont corrects.\" %PPV)"
      ],
      "metadata": {
        "colab": {
          "base_uri": "https://localhost:8080/"
        },
        "id": "7cCaGUZQsBgB",
        "outputId": "5569de24-2882-43a3-eef0-b51f56dab70c"
      },
      "id": "7cCaGUZQsBgB",
      "execution_count": null,
      "outputs": [
        {
          "output_type": "stream",
          "name": "stdout",
          "text": [
            "Parmis les échecs détectés, 68% sont corrects.\n"
          ]
        }
      ]
    },
    {
      "cell_type": "code",
      "source": [
        "# Prédictions parfaites\n",
        "cm = confusion_matrix(Y_train_pred, Y_train_pred)\n",
        "disp = ConfusionMatrixDisplay(confusion_matrix=cm,display_labels= [0, 1])\n",
        "disp.plot()\n",
        "\n",
        "plt.show()"
      ],
      "metadata": {
        "colab": {
          "base_uri": "https://localhost:8080/",
          "height": 449
        },
        "id": "dU9-5feqYNtj",
        "outputId": "5aaa6447-17a3-4ce3-dd9d-3f68164444a6"
      },
      "id": "dU9-5feqYNtj",
      "execution_count": null,
      "outputs": [
        {
          "output_type": "display_data",
          "data": {
            "text/plain": [
              "<Figure size 640x480 with 2 Axes>"
            ],
            "image/png": "[encoded data removed]"
          },
          "metadata": {}
        }
      ]
    },
    {
      "cell_type": "markdown",
      "source": [
        "## Précision et rappel\n",
        "* Précision : exactitude des prédictions positives = TP / (TP + FP) = TP / Prédits positifs\n",
        "* Rappel ou sensibilité : proportion de positifs détectés par le classifieur = TP / (TP + FN) = TP / Vrais positifs"
      ],
      "metadata": {
        "id": "kYu0Scz3YdGj"
      },
      "id": "kYu0Scz3YdGj"
    },
    {
      "cell_type": "code",
      "source": [
        "from sklearn.metrics import precision_score, recall_score\n",
        "\n",
        "prec = precision_score(Y_train_res, Y_train_pred)\n",
        "print(\"précision = \", prec)\n",
        "print(\"Lorsque le classifieur détecte un arc comme \\\"échec\\\", il a raison dans \", round(prec*100, 0), \"% des cas\")"
      ],
      "metadata": {
        "colab": {
          "base_uri": "https://localhost:8080/"
        },
        "id": "GfZ4KVHtYcwY",
        "outputId": "a67438c8-9bcc-4034-86f3-d07f2d7b0a85"
      },
      "id": "GfZ4KVHtYcwY",
      "execution_count": null,
      "outputs": [
        {
          "output_type": "stream",
          "name": "stdout",
          "text": [
            "précision =  0.6804123711340206\n",
            "Lorsque le classifieur détecte un arc comme \"échec\", il a raison dans  68.0 % des cas\n"
          ]
        }
      ]
    },
    {
      "cell_type": "code",
      "source": [
        "rec = recall_score(Y_train_res, Y_train_pred)\n",
        "print(\"rappel = \", rec)\n",
        "print(\"Le classifieur détecte \", round(rec*100, 0), \"% des échecs\")"
      ],
      "metadata": {
        "colab": {
          "base_uri": "https://localhost:8080/"
        },
        "id": "1tIuHk-QbOk2",
        "outputId": "2169c76d-7fd4-40ce-cdcb-d4f7325258d9"
      },
      "id": "1tIuHk-QbOk2",
      "execution_count": null,
      "outputs": [
        {
          "output_type": "stream",
          "name": "stdout",
          "text": [
            "rappel =  0.6407766990291263\n",
            "Le classifieur détecte  64.0 % des échecs\n"
          ]
        }
      ]
    },
    {
      "cell_type": "markdown",
      "source": [
        "### Combinaison de la précision et du rappel : score F1\n",
        " $$ F1 = 2 \\times {précision \\times rappel \\over précision + rappel} $$\n",
        "* Moyenne harmonique de la précision et du rappel = contrairement à la moyenne classique, les faibles valeurs ont plus de poids = le score F1 ne sera élevé que si le rappel et la précision le sont"
      ],
      "metadata": {
        "id": "HBXTYLSDbj1N"
      },
      "id": "HBXTYLSDbj1N"
    },
    {
      "cell_type": "code",
      "source": [
        "from sklearn.metrics import f1_score\n",
        "\n",
        "f1_score(Y_train_res, Y_train_pred)"
      ],
      "metadata": {
        "colab": {
          "base_uri": "https://localhost:8080/"
        },
        "id": "2HK-fQHsbpkr",
        "outputId": "6fc3ccae-3d7f-4725-9a51-aecf75a5ecf3"
      },
      "id": "2HK-fQHsbpkr",
      "execution_count": null,
      "outputs": [
        {
          "output_type": "execute_result",
          "data": {
            "text/plain": [
              "0.6600000000000001"
            ]
          },
          "metadata": {},
          "execution_count": 15
        }
      ]
    },
    {
      "cell_type": "markdown",
      "source": [
        "> Le score F1 favorise une précision et un rappel équivalents.\n",
        "\n",
        "> Selon les cas on peut chercher à favoriser plutôt la précision ou le rappel\n",
        "\n",
        "> Notre objectif ici : détecter les arcs susceptibles d'échouer les CQ pour réoptimiser directement les plans à l'étape d'optimisation. On veut éviter de réoptimiser pour rien trop de plans pour ne pas se rajouter du travail inutilement. Donc on souhaite favoriser la précision."
      ],
      "metadata": {
        "id": "0LW3zQOIeBqq"
      },
      "id": "0LW3zQOIeBqq"
    },
    {
      "cell_type": "markdown",
      "source": [
        "### Compromis entre précision et rappel"
      ],
      "metadata": {
        "id": "5sVU0m5ogeQD"
      },
      "id": "5sVU0m5ogeQD"
    },
    {
      "cell_type": "code",
      "source": [
        "from sklearn.metrics import precision_recall_curve\n",
        "\n",
        "# Pour chaque observation, l'algorithme calcule un score basé sur une fonction de décision\n",
        "# Si ce score est supérieur à un seuil prédéfini, il attribue la classe positive à l'observation et sinon la classe négative\n",
        "# On précise cette fois que l'on souhaite obtenir les scores pour chacune des observations et non les prédictions directement\n",
        "\n",
        "cv = StratifiedKFold(n_splits=5, shuffle = True, random_state=2023)\n",
        "Y_scores = cross_val_predict(clf, X_train_tr, Y_train_res, cv=cv, method=\"decision_function\")\n",
        "precisions, recalls, thresholds = precision_recall_curve(Y_train_res, Y_scores)"
      ],
      "metadata": {
        "id": "kSsr4ubogiFt"
      },
      "id": "kSsr4ubogiFt",
      "execution_count": null,
      "outputs": []
    },
    {
      "cell_type": "code",
      "source": [
        "def plot_precision_recall_vs_threshold(precisions, recalls, thresholds):\n",
        "    plt.plot(thresholds, precisions[:-1], \"b--\", label=\"Précision\", linewidth=2)\n",
        "    plt.plot(thresholds, recalls[:-1], \"g-\", label=\"Rappel\", linewidth=2)\n",
        "    plt.legend(loc=\"center right\", fontsize=12)\n",
        "    plt.xlabel(\"Seuil\", fontsize=12)\n",
        "    plt.grid(True)\n",
        "    plt.axis([-8, 8, 0, 1.05])\n",
        "\n",
        "\n",
        "\n",
        "plt.figure(figsize=(8, 4))\n",
        "plot_precision_recall_vs_threshold(precisions, recalls, thresholds)\n",
        "\n",
        "plt.show()"
      ],
      "metadata": {
        "colab": {
          "base_uri": "https://localhost:8080/",
          "height": 392
        },
        "id": "VcKMi0H4h8wL",
        "outputId": "5cb366e2-1e1f-4e2a-de5c-32b658e3a455"
      },
      "id": "VcKMi0H4h8wL",
      "execution_count": null,
      "outputs": [
        {
          "output_type": "display_data",
          "data": {
            "text/plain": [
              "<Figure size 800x400 with 1 Axes>"
            ],
            "image/png": "[encoded data removed]"
          },
          "metadata": {}
        }
      ]
    },
    {
      "cell_type": "markdown",
      "source": [
        "### Courbe PR (précision-rappel)\n",
        "> On peut également tracer la précision en fonction du rappel"
      ],
      "metadata": {
        "id": "zeGSI-nsmOf7"
      },
      "id": "zeGSI-nsmOf7"
    },
    {
      "cell_type": "code",
      "source": [
        "def plot_precision_vs_recall(precisions, recalls, label = None):\n",
        "    plt.plot(recalls, precisions, \"b-\", linewidth=2, label = label)\n",
        "    plt.xlabel(\"Rappel\", fontsize=12)\n",
        "    plt.ylabel(\"Précision\", fontsize=12)\n",
        "    plt.axis([0, 1, 0, 1.05])\n",
        "    plt.grid(True)\n",
        "auc_score = metrics.auc(recalls, precisions)\n",
        "plt.figure(figsize=(8, 6))\n",
        "plot_precision_vs_recall(precisions, recalls, label = \"Aire sous la courbe PR = \" + str((round(auc_score, 2))))\n",
        "plt.legend(loc = 'lower right')\n",
        "plt.show()"
      ],
      "metadata": {
        "colab": {
          "base_uri": "https://localhost:8080/",
          "height": 546
        },
        "id": "A02tWbTmmODd",
        "outputId": "03794718-1893-496e-8070-314ea63229d3"
      },
      "id": "A02tWbTmmODd",
      "execution_count": null,
      "outputs": [
        {
          "output_type": "display_data",
          "data": {
            "text/plain": [
              "<Figure size 800x600 with 1 Axes>"
            ],
            "image/png": "[encoded data removed]"
          },
          "metadata": {}
        }
      ]
    },
    {
      "cell_type": "markdown",
      "source": [
        "## Courbe ROC (courbe d'efficacité du récepteur)\n",
        "* Métrique la plus couramment utilisée pour estimer et comparer les performances des classifieurs binaires : **aire sous la courbe ROC**\n",
        "* Taux de vrais positifs en fonction du taux de faux positifs\n",
        "* Rappel en fonction de 1 - spécificité (1 - TNR)"
      ],
      "metadata": {
        "id": "9FDzT3yfwJD5"
      },
      "id": "9FDzT3yfwJD5"
    },
    {
      "cell_type": "code",
      "source": [
        "from sklearn.metrics import roc_curve\n",
        "\n",
        "clf = LogisticRegression(solver='lbfgs', random_state = 2023)\n",
        "Y_scores = cross_val_predict(clf, X_train_tr, Y_train_res, cv=cv, method=\"decision_function\")\n",
        "\n",
        "fpr, tpr, thresholds = roc_curve(Y_train_res, Y_scores, pos_label = 1)"
      ],
      "metadata": {
        "id": "qrW4Sw9-w2i6"
      },
      "id": "qrW4Sw9-w2i6",
      "execution_count": null,
      "outputs": []
    },
    {
      "cell_type": "code",
      "source": [
        "def plot_roc_curve(fpr, tpr, label=None):\n",
        "    plt.plot(fpr, tpr, linewidth=2, label=label)\n",
        "    plt.plot([0, 1], [0, 1], 'k--')\n",
        "    plt.axis([0, 1, 0, 1])\n",
        "    plt.xlabel('FPR (1 - spécificité)', fontsize=16)\n",
        "    plt.ylabel('TPR (Rappel)', fontsize=16)\n",
        "    plt.grid(True)\n",
        "auc = round(roc_auc_score(Y_train_res, Y_scores), 2)\n",
        "plt.figure(figsize=(8, 6))\n",
        "plot_roc_curve(fpr, tpr, label = \"Aire sous la courbe ROC = \" + str(auc))\n",
        "plt.legend(loc = 'lower right')\n",
        "plt.show()"
      ],
      "metadata": {
        "colab": {
          "base_uri": "https://localhost:8080/",
          "height": 555
        },
        "id": "cCmr8CHKxCD2",
        "outputId": "fdf9d40d-d835-47a1-9be9-fa5afeab1636"
      },
      "id": "cCmr8CHKxCD2",
      "execution_count": null,
      "outputs": [
        {
          "output_type": "display_data",
          "data": {
            "text/plain": [
              "<Figure size 800x600 with 1 Axes>"
            ],
            "image/png": "[encoded data removed]"
          },
          "metadata": {}
        }
      ]
    },
    {
      "cell_type": "markdown",
      "source": [
        "\n",
        "\n",
        "---\n",
        "\n",
        "\n",
        "\n",
        "---\n",
        "\n"
      ],
      "metadata": {
        "id": "TE_6ONgPOND3"
      },
      "id": "TE_6ONgPOND3"
    },
    {
      "cell_type": "markdown",
      "source": [
        "**5. Evaluer plusieurs modèles**\n"
      ],
      "metadata": {
        "id": "7eq0iYIUNPiE"
      },
      "id": "7eq0iYIUNPiE"
    },
    {
      "cell_type": "markdown",
      "source": [
        "# Sélection des variables\n",
        "* La sélection des variables permet de réduire le nombre de variables d'entrée pour à la fois réduire les temps de calcul mais également dans beaucoup de cas améliorer les performances prédictives des modèles\n",
        "* La présence de variables non-informatives dans le jeu de données peut diminuer la précision des prédictions.\n",
        "* La présence d'un trop grand nombre de variables dans le jeu de données favorise le sur-ajustement (overfitting) sur les données d'entrainement."
      ],
      "metadata": {
        "id": "XOuE8moFm-F2"
      },
      "id": "XOuE8moFm-F2"
    },
    {
      "cell_type": "markdown",
      "source": [
        "## Méthodes statistiques"
      ],
      "metadata": {
        "id": "4n9v_KMd8JSG"
      },
      "id": "4n9v_KMd8JSG"
    },
    {
      "cell_type": "markdown",
      "source": [
        "### ANOVA\n",
        "* Analyses de variance\n",
        "* Test statistique pour déterminer si les moyennes de plusieurs groupes de données (séparés en fonction de données catégorielles, ici les échecs/réussites) proviennent de la même distribution"
      ],
      "metadata": {
        "id": "Lneo6ShO3YEG"
      },
      "id": "Lneo6ShO3YEG"
    },
    {
      "cell_type": "code",
      "source": [
        "fs = SelectKBest(score_func=f_classif, k='all')\n",
        "fs.fit(X_train_tr, Y_train)\n",
        "X_train_fs = fs.transform(X_train_tr)\n",
        "X_test_fs = fs.transform(X_test_tr)"
      ],
      "metadata": {
        "id": "aV3sJFCTm-T5"
      },
      "id": "aV3sJFCTm-T5",
      "execution_count": null,
      "outputs": []
    },
    {
      "cell_type": "code",
      "source": [
        "for i in range(len(fs.scores_)):\n",
        "  print('Variable %d %s : %f' % (i, z.columns[i], fs.scores_[i]))\n",
        "# plot the scores\n",
        "plt.bar([i for i in range(len(fs.scores_))], fs.scores_)\n",
        "plt.title('scores d\\'importance des variables')\n",
        "plt.xlabel('Variables')\n",
        "plt.ylabel('Score')\n",
        "plt.show()\n"
      ],
      "metadata": {
        "colab": {
          "base_uri": "https://localhost:8080/",
          "height": 1000
        },
        "id": "RdE5ZNY37ES-",
        "outputId": "0e6f46c8-1776-4cdb-802e-3a0e7ae6f231"
      },
      "id": "RdE5ZNY37ES-",
      "execution_count": null,
      "outputs": [
        {
          "output_type": "stream",
          "name": "stdout",
          "text": [
            "Variable 0 MUperGy : 8.099331\n",
            "Variable 1 MUmax : 0.131904\n",
            "Variable 2 MUstd : 0.658567\n",
            "Variable 3 MUiqr : 0.465567\n",
            "Variable 4 AAV : 18.696460\n",
            "Variable 5 AAVmin : 6.031456\n",
            "Variable 6 AAVmax : 7.407047\n",
            "Variable 7 AAVstd : 2.047182\n",
            "Variable 8 AAViqr : 1.436841\n",
            "Variable 9 LSV : 3.262350\n",
            "Variable 10 LSVmin : 3.143070\n",
            "Variable 11 LSVmax : 3.568401\n",
            "Variable 12 LSVstd : 0.712213\n",
            "Variable 13 LSViqr : 0.894650\n",
            "Variable 14 AFW : 5.744850\n",
            "Variable 15 AFWmin : 0.735932\n",
            "Variable 16 AFWmax : 1.368828\n",
            "Variable 17 AFWstd : 9.718463\n",
            "Variable 18 AFWiqr : 6.886543\n",
            "Variable 19 ALT : 4.327485\n",
            "Variable 20 CAS : 33.067209\n",
            "Variable 21 CASmax : 14.526792\n",
            "Variable 22 CASstd : 0.000036\n",
            "Variable 23 CASiqr : 0.064177\n",
            "Variable 24 CLS : 0.643364\n",
            "Variable 25 CLSmin : 0.577150\n",
            "Variable 26 CLSmax : 0.343775\n",
            "Variable 27 CLSstd : 0.002864\n",
            "Variable 28 CLSiqr : 0.932683\n",
            "Variable 29 MAD : 1.628577\n",
            "Variable 30 MADmax : 0.940492\n",
            "Variable 31 MADstd : 0.869230\n",
            "Variable 32 MADiqr : 1.102529\n",
            "Variable 33 MFA : 0.138796\n",
            "Variable 34 MFAstd : 0.003856\n",
            "Variable 35 SAS2 : 0.073359\n",
            "Variable 36 SAS2max : 0.883481\n",
            "Variable 37 SAS2std : 4.231653\n",
            "Variable 38 SAS2iqr : 2.585356\n",
            "Variable 39 SAS5max : 0.968163\n",
            "Variable 40 SAS5std : 0.376075\n",
            "Variable 41 SAS5iqr : 0.349369\n",
            "Variable 42 SAS10max : 3.650103\n",
            "Variable 43 SAS10std : 2.557233\n",
            "Variable 44 SAS10iqr : 2.945227\n",
            "Variable 45 SAS20max : 2.138615\n",
            "Variable 46 SAS20std : 3.005402\n",
            "Variable 47 SAS20iqr : 7.810975\n",
            "Variable 48 EM : 36.482583\n",
            "Variable 49 EMmin : 28.971654\n",
            "Variable 50 EMmax : 14.966745\n",
            "Variable 51 EMstd : 7.770812\n",
            "Variable 52 EMiqr : 8.584894\n",
            "Variable 53 MIt02 : 0.310527\n",
            "Variable 54 BI : 36.893719\n",
            "Variable 55 BImin : 19.776315\n",
            "Variable 56 BImax : 14.827314\n",
            "Variable 57 BIstd : 9.965231\n",
            "Variable 58 BIiqr : 11.536527\n",
            "Variable 59 BM : 15.505062\n",
            "Variable 60 BAmin : 0.026542\n"
          ]
        },
        {
          "output_type": "display_data",
          "data": {
            "text/plain": [
              "<Figure size 640x480 with 1 Axes>"
            ],
            "image/png": "[encoded data removed]"
          },
          "metadata": {}
        }
      ]
    },
    {
      "cell_type": "code",
      "source": [
        "# On ne garde que les 10 meilleures variables par exemple\n",
        "k_select = 10\n",
        "\n",
        "fs = SelectKBest(score_func=f_classif, k=k_select)\n",
        "fs.fit(X_train_tr, Y_train)\n",
        "X_train_fs = fs.transform(X_train_tr)\n",
        "X_test_fs = fs.transform(X_test_tr)\n"
      ],
      "metadata": {
        "colab": {
          "base_uri": "https://localhost:8080/"
        },
        "id": "HcUg10698LaU",
        "outputId": "0bc12f27-7ed0-46ae-9d22-c0f98766b5bd"
      },
      "id": "HcUg10698LaU",
      "execution_count": null,
      "outputs": [
        {
          "output_type": "execute_result",
          "data": {
            "text/plain": [
              "(206, 61)"
            ]
          },
          "metadata": {},
          "execution_count": 19
        }
      ]
    },
    {
      "cell_type": "markdown",
      "source": [
        "### Information mutuelle\n",
        "* L'information mutuelle mesure la dépendance entre deux variables"
      ],
      "metadata": {
        "id": "0F3NCkuo8ysX"
      },
      "id": "0F3NCkuo8ysX"
    },
    {
      "cell_type": "code",
      "source": [
        "fs = SelectKBest(score_func=mutual_info_classif, k='all')\n",
        "fs.fit(X_train_tr, Y_train)\n",
        "X_train_fs = fs.transform(X_train_tr)\n",
        "X_test_fs = fs.transform(X_test_tr)"
      ],
      "metadata": {
        "id": "Cf1p5vYx8y2W"
      },
      "id": "Cf1p5vYx8y2W",
      "execution_count": null,
      "outputs": []
    },
    {
      "cell_type": "code",
      "source": [
        "for i in range(len(fs.scores_)):\n",
        "  print('Variable %d %s : %f' % (i, z.columns[i], fs.scores_[i]))\n",
        "# plot the scores\n",
        "plt.bar([i for i in range(len(fs.scores_))], fs.scores_)\n",
        "plt.title('scores d\\'importance des variables')\n",
        "plt.xlabel('Variables')\n",
        "plt.ylabel('Score')\n",
        "plt.show()"
      ],
      "metadata": {
        "colab": {
          "base_uri": "https://localhost:8080/",
          "height": 1000
        },
        "id": "mFYFxVOua3sR",
        "outputId": "a39989b4-23cc-461b-e8bc-8453c8536c3b"
      },
      "id": "mFYFxVOua3sR",
      "execution_count": null,
      "outputs": [
        {
          "output_type": "stream",
          "name": "stdout",
          "text": [
            "Variable 0 MUperGy : 8.099331\n",
            "Variable 1 MUmax : 0.131904\n",
            "Variable 2 MUstd : 0.658567\n",
            "Variable 3 MUiqr : 0.465567\n",
            "Variable 4 AAV : 18.696460\n",
            "Variable 5 AAVmin : 6.031456\n",
            "Variable 6 AAVmax : 7.407047\n",
            "Variable 7 AAVstd : 2.047182\n",
            "Variable 8 AAViqr : 1.436841\n",
            "Variable 9 LSV : 3.262350\n",
            "Variable 10 LSVmin : 3.143070\n",
            "Variable 11 LSVmax : 3.568401\n",
            "Variable 12 LSVstd : 0.712213\n",
            "Variable 13 LSViqr : 0.894650\n",
            "Variable 14 AFW : 5.744850\n",
            "Variable 15 AFWmin : 0.735932\n",
            "Variable 16 AFWmax : 1.368828\n",
            "Variable 17 AFWstd : 9.718463\n",
            "Variable 18 AFWiqr : 6.886543\n",
            "Variable 19 ALT : 4.327485\n",
            "Variable 20 CAS : 33.067209\n",
            "Variable 21 CASmax : 14.526792\n",
            "Variable 22 CASstd : 0.000036\n",
            "Variable 23 CASiqr : 0.064177\n",
            "Variable 24 CLS : 0.643364\n",
            "Variable 25 CLSmin : 0.577150\n",
            "Variable 26 CLSmax : 0.343775\n",
            "Variable 27 CLSstd : 0.002864\n",
            "Variable 28 CLSiqr : 0.932683\n",
            "Variable 29 MAD : 1.628577\n",
            "Variable 30 MADmax : 0.940492\n",
            "Variable 31 MADstd : 0.869230\n",
            "Variable 32 MADiqr : 1.102529\n",
            "Variable 33 MFA : 0.138796\n",
            "Variable 34 MFAstd : 0.003856\n",
            "Variable 35 SAS2 : 0.073359\n",
            "Variable 36 SAS2max : 0.883481\n",
            "Variable 37 SAS2std : 4.231653\n",
            "Variable 38 SAS2iqr : 2.585356\n",
            "Variable 39 SAS5max : 0.968163\n",
            "Variable 40 SAS5std : 0.376075\n",
            "Variable 41 SAS5iqr : 0.349369\n",
            "Variable 42 SAS10max : 3.650103\n",
            "Variable 43 SAS10std : 2.557233\n",
            "Variable 44 SAS10iqr : 2.945227\n",
            "Variable 45 SAS20max : 2.138615\n",
            "Variable 46 SAS20std : 3.005402\n",
            "Variable 47 SAS20iqr : 7.810975\n",
            "Variable 48 EM : 36.482583\n",
            "Variable 49 EMmin : 28.971654\n",
            "Variable 50 EMmax : 14.966745\n",
            "Variable 51 EMstd : 7.770812\n",
            "Variable 52 EMiqr : 8.584894\n",
            "Variable 53 MIt02 : 0.310527\n",
            "Variable 54 BI : 36.893719\n",
            "Variable 55 BImin : 19.776315\n",
            "Variable 56 BImax : 14.827314\n",
            "Variable 57 BIstd : 9.965231\n",
            "Variable 58 BIiqr : 11.536527\n",
            "Variable 59 BM : 15.505062\n",
            "Variable 60 BAmin : 0.026542\n"
          ]
        },
        {
          "output_type": "display_data",
          "data": {
            "text/plain": [
              "<Figure size 640x480 with 1 Axes>"
            ],
            "image/png": "[encoded data removed]"
          },
          "metadata": {}
        }
      ]
    },
    {
      "cell_type": "markdown",
      "source": [
        "### Comment choisir k, le nombre de variable à sélectionner ?\n",
        "* **Recherche sur grille** : on utilise une validation croisée pour comparer les performances de notre algorithme en fonction de la selection des k meilleures variables, k compris entre 1 et le nombre total de variables.\n",
        "* On définit un **pipeline** qui est un constructeur permettant séquencer une suite d'étapes à appliquer. Il prend en entrée une liste de paires de nom/estimateur. Tous les estimateurs doivent être des transformateurs ( = comporte une méthode transform() ou fit_transform()) sauf le dernier.  "
      ],
      "metadata": {
        "id": "unnyHUQG5Wuc"
      },
      "id": "unnyHUQG5Wuc"
    },
    {
      "cell_type": "code",
      "source": [
        "#On définit une cross-validation répétée et stratifiée\n",
        "cv = RepeatedStratifiedKFold(n_splits=3, n_repeats=5, random_state=2023)\n",
        "\n",
        "#On choisit le modèle\n",
        "model = LogisticRegression(solver='lbfgs')\n",
        "#fs = SelectKBest(score_func=f_classif) # ANOVA\n",
        "fs = SelectKBest(score_func=mutual_info_classif) # Information mutuelle\n",
        "\n",
        "pipeline = Pipeline(steps=[('selection',fs), ('lr', model)])\n",
        "\n",
        "#On définit la grille de recherche\n",
        "grille = dict()\n",
        "grille['selection__k'] = [i+1 for i in range(X_train_tr.shape[1])]\n",
        "\n",
        "#On définit la grille de recherche pour la cv. On utilise l'aire sous la courbe ROC pour évaluer les performances.\n",
        "recherche = GridSearchCV(pipeline, grille, scoring='roc_auc', n_jobs=-1, cv=cv)\n",
        "\n",
        "#On lance la recherche\n",
        "recherche.fit(X_train_tr, Y_train_res)\n",
        "\n",
        "# summarize best\n",
        "print('Meilleur auroc : %.3f' % recherche.best_score_)\n",
        "print('Meilleurs paramètres : %s' % recherche.best_params_)"
      ],
      "metadata": {
        "colab": {
          "base_uri": "https://localhost:8080/"
        },
        "id": "71tUJguJ5XFF",
        "outputId": "12d13201-41ac-4432-c27b-54c2de9370b3"
      },
      "id": "71tUJguJ5XFF",
      "execution_count": null,
      "outputs": [
        {
          "output_type": "stream",
          "name": "stdout",
          "text": [
            "Meilleur auroc : 0.823\n",
            "Meilleurs paramètres : {'selection__k': 28}\n"
          ]
        }
      ]
    },
    {
      "cell_type": "code",
      "source": [
        "resultats = recherche.cv_results_\n",
        "moyennes = resultats['mean_test_score']\n",
        "variances = resultats['std_test_score']\n",
        "params = resultats['params']\n",
        "for moy, var, param in zip(moyennes, variances, params):\n",
        "    print(\"%f (%f) with: %r\" % (moy, var, param))\n",
        "# plot\n",
        "plt.errorbar(grille['anova__k'], moyennes, yerr=variances)\n",
        "plt.title(\"k vs AUC\")\n",
        "plt.xlabel('k')\n",
        "plt.ylabel('AUROC')"
      ],
      "metadata": {
        "colab": {
          "base_uri": "https://localhost:8080/",
          "height": 1000
        },
        "id": "kmGclRu99hv5",
        "outputId": "aece80ea-cf6f-484a-e3b0-ce46a59d7392"
      },
      "id": "kmGclRu99hv5",
      "execution_count": null,
      "outputs": [
        {
          "output_type": "stream",
          "name": "stdout",
          "text": [
            "0.614299 (0.098818) with: {'anova__k': 1}\n",
            "0.668993 (0.095463) with: {'anova__k': 2}\n",
            "0.692406 (0.118302) with: {'anova__k': 3}\n",
            "0.742855 (0.081657) with: {'anova__k': 4}\n",
            "0.774722 (0.065333) with: {'anova__k': 5}\n",
            "0.774162 (0.067860) with: {'anova__k': 6}\n",
            "0.782483 (0.067266) with: {'anova__k': 7}\n",
            "0.794838 (0.056569) with: {'anova__k': 8}\n",
            "0.793630 (0.055984) with: {'anova__k': 9}\n",
            "0.790552 (0.051396) with: {'anova__k': 10}\n",
            "0.800320 (0.057138) with: {'anova__k': 11}\n",
            "0.812360 (0.053231) with: {'anova__k': 12}\n",
            "0.804887 (0.048017) with: {'anova__k': 13}\n",
            "0.807311 (0.051077) with: {'anova__k': 14}\n",
            "0.815844 (0.046255) with: {'anova__k': 15}\n",
            "0.813548 (0.049049) with: {'anova__k': 16}\n",
            "0.811628 (0.047554) with: {'anova__k': 17}\n",
            "0.813142 (0.048161) with: {'anova__k': 18}\n",
            "0.814312 (0.047282) with: {'anova__k': 19}\n",
            "0.815551 (0.046899) with: {'anova__k': 20}\n",
            "0.813305 (0.051658) with: {'anova__k': 21}\n",
            "0.812379 (0.055441) with: {'anova__k': 22}\n",
            "0.810465 (0.054629) with: {'anova__k': 23}\n",
            "0.814271 (0.053485) with: {'anova__k': 24}\n",
            "0.811727 (0.055621) with: {'anova__k': 25}\n",
            "0.814811 (0.053342) with: {'anova__k': 26}\n",
            "0.816958 (0.055563) with: {'anova__k': 27}\n",
            "0.816639 (0.051667) with: {'anova__k': 28}\n",
            "0.815821 (0.052662) with: {'anova__k': 29}\n",
            "0.818972 (0.050171) with: {'anova__k': 30}\n",
            "0.818570 (0.043991) with: {'anova__k': 31}\n",
            "0.814892 (0.054683) with: {'anova__k': 32}\n",
            "0.820905 (0.048005) with: {'anova__k': 33}\n",
            "0.816726 (0.047586) with: {'anova__k': 34}\n",
            "0.821191 (0.048149) with: {'anova__k': 35}\n",
            "0.819188 (0.048454) with: {'anova__k': 36}\n",
            "0.816108 (0.047312) with: {'anova__k': 37}\n",
            "0.819341 (0.051198) with: {'anova__k': 38}\n",
            "0.818125 (0.050603) with: {'anova__k': 39}\n",
            "0.820152 (0.047754) with: {'anova__k': 40}\n",
            "0.821349 (0.043926) with: {'anova__k': 41}\n",
            "0.823103 (0.045525) with: {'anova__k': 42}\n",
            "0.821719 (0.042047) with: {'anova__k': 43}\n",
            "0.822724 (0.045742) with: {'anova__k': 44}\n",
            "0.823434 (0.044772) with: {'anova__k': 45}\n",
            "0.825856 (0.045109) with: {'anova__k': 46}\n",
            "0.824968 (0.042991) with: {'anova__k': 47}\n",
            "0.823665 (0.042463) with: {'anova__k': 48}\n",
            "0.824093 (0.044539) with: {'anova__k': 49}\n",
            "0.822775 (0.041890) with: {'anova__k': 50}\n",
            "0.824465 (0.043883) with: {'anova__k': 51}\n",
            "0.822009 (0.040116) with: {'anova__k': 52}\n",
            "0.820148 (0.040887) with: {'anova__k': 53}\n",
            "0.820374 (0.042040) with: {'anova__k': 54}\n",
            "0.821732 (0.038482) with: {'anova__k': 55}\n",
            "0.822122 (0.037986) with: {'anova__k': 56}\n",
            "0.822257 (0.040532) with: {'anova__k': 57}\n",
            "0.823887 (0.042566) with: {'anova__k': 58}\n",
            "0.818796 (0.042653) with: {'anova__k': 59}\n",
            "0.821442 (0.043285) with: {'anova__k': 60}\n",
            "0.819769 (0.042997) with: {'anova__k': 61}\n"
          ]
        },
        {
          "output_type": "execute_result",
          "data": {
            "text/plain": [
              "Text(0, 0.5, 'AUROC')"
            ]
          },
          "metadata": {},
          "execution_count": 37
        },
        {
          "output_type": "display_data",
          "data": {
            "text/plain": [
              "<Figure size 640x480 with 1 Axes>"
            ],
            "image/png": "[encoded data removed]"
          },
          "metadata": {}
        }
      ]
    },
    {
      "cell_type": "markdown",
      "source": [
        "> Les techniques ANOVA et information mutuelle posent problème lorsque les données comportent des variables catégorielles (non numériques).\n",
        "\n",
        "> Autre méthode : RFE"
      ],
      "metadata": {
        "id": "jcgTUeq55vxZ"
      },
      "id": "jcgTUeq55vxZ"
    },
    {
      "cell_type": "markdown",
      "source": [
        "## Réduction de dimension : l'analyse en composantes principales (PCA)\n",
        "* Objectif : projeter le jeu d'entrainement sur un hyperplan de plus faible dimension\n",
        "* Il faut sélectionner l'hyperplan qui conserve le plus possible la variance des données afin de perdre moins d'information.\n",
        "* La technique PCA permet d'identifier les axes (composantes principales) qui contribuent le plus à la variance dans les données d'entrainement."
      ],
      "metadata": {
        "id": "2IHoVe1x6kc6"
      },
      "id": "2IHoVe1x6kc6"
    },
    {
      "cell_type": "code",
      "source": [
        "from sklearn.decomposition import PCA\n",
        "\n",
        "# pipeline\n",
        "steps = [('norm', StandardScaler()), ('pca', PCA(n_components=10)), ('m', LogisticRegression())]\n",
        "model = Pipeline(steps=steps)\n",
        "\n",
        "# evaluation du modèle\n",
        "cv = RepeatedStratifiedKFold(n_splits=5, n_repeats=3, random_state=2023)\n",
        "n_scores = cross_val_score(model, X_train_tr, Y_train_res, scoring='roc_auc', cv=cv, n_jobs=-1)\n",
        "\n",
        "# performances\n",
        "print('AUROC: %.3f (%.3f)' % (mean(n_scores), std(n_scores)))"
      ],
      "metadata": {
        "colab": {
          "base_uri": "https://localhost:8080/"
        },
        "id": "-NAO74hXDOaE",
        "outputId": "deeb9eb9-6a7c-4156-bba4-28f3e0e33854"
      },
      "id": "-NAO74hXDOaE",
      "execution_count": null,
      "outputs": [
        {
          "output_type": "stream",
          "name": "stdout",
          "text": [
            "AUROC: 0.770 (0.052)\n"
          ]
        }
      ]
    },
    {
      "cell_type": "markdown",
      "source": [
        "> Taux de variance expliquée :"
      ],
      "metadata": {
        "id": "LQVpGgMQFE4-"
      },
      "id": "LQVpGgMQFE4-"
    },
    {
      "cell_type": "code",
      "source": [
        "pca = PCA(n_components=10)\n",
        "transformee = pca.fit_transform(X_train_tr)\n",
        "pca.explained_variance_ratio_"
      ],
      "metadata": {
        "colab": {
          "base_uri": "https://localhost:8080/"
        },
        "id": "sUp3XDZnDOi2",
        "outputId": "abbba90b-7978-4cbd-ffb7-ffc529e4b8ad"
      },
      "id": "sUp3XDZnDOi2",
      "execution_count": null,
      "outputs": [
        {
          "output_type": "execute_result",
          "data": {
            "text/plain": [
              "array([0.26088365, 0.15147793, 0.11103855, 0.08626937, 0.053177  ,\n",
              "       0.04445104, 0.03693762, 0.03406398, 0.0295105 , 0.02659146])"
            ]
          },
          "metadata": {},
          "execution_count": 27
        }
      ]
    },
    {
      "cell_type": "markdown",
      "source": [
        "> La variable *explained_variance_ratio_* donne la contribution à la variance de chaque composante principale\n",
        "\n",
        "> Ici par exemple, 26% de la variance se trouve le long de la 1ère composante, 15% le long de la seconde, ... et moins de 3% pour la 10ème ce qui peut permettre de conclure qu'elle apporte peu d'information."
      ],
      "metadata": {
        "id": "U_ApHP4TFWMI"
      },
      "id": "U_ApHP4TFWMI"
    },
    {
      "cell_type": "markdown",
      "source": [
        "#### Comment choisir le nombre de dimensions adapté ?\n",
        "* Pour ne pas choisir arbitrairement le nombre de dimensions, il est recommandé de choisir le nombre de dimensions qui contribuent de manière significative à la variance"
      ],
      "metadata": {
        "id": "aGKFKCE7GRYP"
      },
      "id": "aGKFKCE7GRYP"
    },
    {
      "cell_type": "code",
      "source": [
        "pca = PCA()\n",
        "pca.fit(X_train_tr)\n",
        "pca.explained_variance_ratio_\n",
        "cumsum = np.cumsum(pca.explained_variance_ratio_)\n",
        "# On calcule le nombre de composantes pour conserver 95% de la variance des données d'entrainement :\n",
        "d = np.argmax(cumsum >= 0.95) + 1\n",
        "print(\"Nombre de dimensions à conserver : \", d)"
      ],
      "metadata": {
        "colab": {
          "base_uri": "https://localhost:8080/"
        },
        "id": "7Z9TwSlMGQnR",
        "outputId": "5884afd5-f30e-4052-a936-d1fd9d3e55d1"
      },
      "id": "7Z9TwSlMGQnR",
      "execution_count": null,
      "outputs": [
        {
          "output_type": "stream",
          "name": "stdout",
          "text": [
            "Nombre de dimensions à conserver :  21\n"
          ]
        }
      ]
    },
    {
      "cell_type": "code",
      "source": [
        "# Il est aussi possible de le préciser directement dans la fonction PCA()\n",
        "# Au lieu de donner un entier pour n_components, on donne une valeur réelle entre 0.0 et 1.0\n",
        "pca = PCA(n_components = 0.95)\n",
        "X_reduit = pca.fit_transform(X_train_tr)\n",
        "X_reduit.shape"
      ],
      "metadata": {
        "colab": {
          "base_uri": "https://localhost:8080/"
        },
        "id": "-X4BqsYfOXBj",
        "outputId": "01b763ab-0783-4a9b-a225-3423bfd207f9"
      },
      "id": "-X4BqsYfOXBj",
      "execution_count": null,
      "outputs": [
        {
          "output_type": "execute_result",
          "data": {
            "text/plain": [
              "(309, 21)"
            ]
          },
          "metadata": {},
          "execution_count": 36
        }
      ]
    },
    {
      "cell_type": "code",
      "source": [
        "# On peut aussi tracer la variance en fonction du nombre de dimensions\n",
        "plt.figure(figsize=(6,4))\n",
        "plt.plot(cumsum, linewidth=3)\n",
        "plt.axis([0, 70, 0, 1])\n",
        "plt.xlabel(\"Dimensions\")\n",
        "plt.ylabel(\"Variance expliquée\")\n",
        "plt.plot([d, d], [0, 0.95], \"k:\")\n",
        "plt.plot([0, d], [0.95, 0.95], \"k:\")\n",
        "plt.plot(d, 0.95, \"ko\")\n",
        "plt.annotate(\"Epaulement\", xy=(10, 0.85), xytext=(30, 0.5),\n",
        "             arrowprops=dict(arrowstyle=\"->\"), fontsize=16)\n",
        "plt.grid(True)\n",
        "plt.show()"
      ],
      "metadata": {
        "colab": {
          "base_uri": "https://localhost:8080/",
          "height": 393
        },
        "id": "WS3Iqw86OYK9",
        "outputId": "68df0ae8-092d-479d-b338-91bad0d54441"
      },
      "id": "WS3Iqw86OYK9",
      "execution_count": null,
      "outputs": [
        {
          "output_type": "display_data",
          "data": {
            "text/plain": [
              "<Figure size 600x400 with 1 Axes>"
            ],
            "image/png": "[encoded data removed]"
          },
          "metadata": {}
        }
      ]
    },
    {
      "cell_type": "markdown",
      "source": [
        "> L'avantage de cette technique est qu'elle est indépendante de l'algorithme de ML et des données ciblées.\n",
        "\n",
        "> L'inconvénient de la méthode PCA c'est que pour réaliser une prédiction sur des données nouvelles, il faut partir de la totalité des variables avant d'appliquer la transformation PCA et pouvoir réaliser la prédiction. Dans notre cas, le calcul des PCM peut s'avérer assez long à réaliser (boucles sur les positions de lames du MLC sur tous les points de contrôle). Notre objectif est  aussi de réduire ces temps de calcul pour que l'opérateur n'ait pas à attendre trop longtemps pour réaliser une prédiction."
      ],
      "metadata": {
        "id": "CM66p52QSHNQ"
      },
      "id": "CM66p52QSHNQ"
    },
    {
      "cell_type": "markdown",
      "id": "71360c16",
      "metadata": {
        "id": "71360c16"
      },
      "source": [
        "## Elimination récursive des variables (RFE - Recursive Feature Elimination)\n",
        "* Un algorithme est d'abord entrainé avec la totalité des variables. Un score de performance est calculé. La variable de moindre importance est supprimée et l'algorithme réentrainé. Le nouveau score est comparé au précédent. Le processus est répété jusqu'à ce qu'il ne reste qu'un nombre défini de variable. Les scores de performance obtenus à chaque itération sont comparés pour déterminer le nombre de variables à sélectionner.  \n",
        "* Facile à implémenter\n",
        "* Deux paramètres à définir : nombre de variables minimal à sélectionner et algorithme à utiliser pour choisir les variables"
      ]
    },
    {
      "cell_type": "code",
      "execution_count": null,
      "id": "923a3fb2",
      "metadata": {
        "colab": {
          "base_uri": "https://localhost:8080/",
          "height": 187
        },
        "id": "923a3fb2",
        "outputId": "9beb8270-10eb-4b1c-f341-5b064ef0a984"
      },
      "outputs": [
        {
          "output_type": "stream",
          "name": "stdout",
          "text": [
            "CPU times: user 9.83 s, sys: 5.11 s, total: 14.9 s\n",
            "Wall time: 11.2 s\n"
          ]
        },
        {
          "output_type": "execute_result",
          "data": {
            "text/plain": [
              "RFECV(cv=RepeatedStratifiedKFold(n_repeats=3, n_splits=3, random_state=2023),\n",
              "      estimator=Pipeline(steps=[('scale', StandardScaler()),\n",
              "                                ('clf', LogisticRegression())]),\n",
              "      importance_getter='named_steps.clf.coef_',\n",
              "      scoring=<function AUC at 0x7f330e0dc3a0>)"
            ],
            "text/html": [
              "<style>#sk-container-id-1 {color: black;background-color: white;}#sk-container-id-1 pre{padding: 0;}#sk-container-id-1 div.sk-toggleable {background-color: white;}#sk-container-id-1 label.sk-toggleable__label {cursor: pointer;display: block;width: 100%;margin-bottom: 0;padding: 0.3em;box-sizing: border-box;text-align: center;}#sk-container-id-1 label.sk-toggleable__label-arrow:before {content: \"▸\";float: left;margin-right: 0.25em;color: #696969;}#sk-container-id-1 label.sk-toggleable__label-arrow:hover:before {color: black;}#sk-container-id-1 div.sk-estimator:hover label.sk-toggleable__label-arrow:before {color: black;}#sk-container-id-1 div.sk-toggleable__content {max-height: 0;max-width: 0;overflow: hidden;text-align: left;background-color: #f0f8ff;}#sk-container-id-1 div.sk-toggleable__content pre {margin: 0.2em;color: black;border-radius: 0.25em;background-color: #f0f8ff;}#sk-container-id-1 input.sk-toggleable__control:checked~div.sk-toggleable__content {max-height: 200px;max-width: 100%;overflow: auto;}#sk-container-id-1 input.sk-toggleable__control:checked~label.sk-toggleable__label-arrow:before {content: \"▾\";}#sk-container-id-1 div.sk-estimator input.sk-toggleable__control:checked~label.sk-toggleable__label {background-color: #d4ebff;}#sk-container-id-1 div.sk-label input.sk-toggleable__control:checked~label.sk-toggleable__label {background-color: #d4ebff;}#sk-container-id-1 input.sk-hidden--visually {border: 0;clip: rect(1px 1px 1px 1px);clip: rect(1px, 1px, 1px, 1px);height: 1px;margin: -1px;overflow: hidden;padding: 0;position: absolute;width: 1px;}#sk-container-id-1 div.sk-estimator {font-family: monospace;background-color: #f0f8ff;border: 1px dotted black;border-radius: 0.25em;box-sizing: border-box;margin-bottom: 0.5em;}#sk-container-id-1 div.sk-estimator:hover {background-color: #d4ebff;}#sk-container-id-1 div.sk-parallel-item::after {content: \"\";width: 100%;border-bottom: 1px solid gray;flex-grow: 1;}#sk-container-id-1 div.sk-label:hover label.sk-toggleable__label {background-color: #d4ebff;}#sk-container-id-1 div.sk-serial::before {content: \"\";position: absolute;border-left: 1px solid gray;box-sizing: border-box;top: 0;bottom: 0;left: 50%;z-index: 0;}#sk-container-id-1 div.sk-serial {display: flex;flex-direction: column;align-items: center;background-color: white;padding-right: 0.2em;padding-left: 0.2em;position: relative;}#sk-container-id-1 div.sk-item {position: relative;z-index: 1;}#sk-container-id-1 div.sk-parallel {display: flex;align-items: stretch;justify-content: center;background-color: white;position: relative;}#sk-container-id-1 div.sk-item::before, #sk-container-id-1 div.sk-parallel-item::before {content: \"\";position: absolute;border-left: 1px solid gray;box-sizing: border-box;top: 0;bottom: 0;left: 50%;z-index: -1;}#sk-container-id-1 div.sk-parallel-item {display: flex;flex-direction: column;z-index: 1;position: relative;background-color: white;}#sk-container-id-1 div.sk-parallel-item:first-child::after {align-self: flex-end;width: 50%;}#sk-container-id-1 div.sk-parallel-item:last-child::after {align-self: flex-start;width: 50%;}#sk-container-id-1 div.sk-parallel-item:only-child::after {width: 0;}#sk-container-id-1 div.sk-dashed-wrapped {border: 1px dashed gray;margin: 0 0.4em 0.5em 0.4em;box-sizing: border-box;padding-bottom: 0.4em;background-color: white;}#sk-container-id-1 div.sk-label label {font-family: monospace;font-weight: bold;display: inline-block;line-height: 1.2em;}#sk-container-id-1 div.sk-label-container {text-align: center;}#sk-container-id-1 div.sk-container {/* jupyter's `normalize.less` sets `[hidden] { display: none; }` but bootstrap.min.css set `[hidden] { display: none !important; }` so we also need the `!important` here to be able to override the default hidden behavior on the sphinx rendered scikit-learn.org. See: https://github.com/scikit-learn/scikit-learn/issues/21755 */display: inline-block !important;position: relative;}#sk-container-id-1 div.sk-text-repr-fallback {display: none;}</style><div id=\"sk-container-id-1\" class=\"sk-top-container\"><div class=\"sk-text-repr-fallback\"><pre>RFECV(cv=RepeatedStratifiedKFold(n_repeats=3, n_splits=3, random_state=2023),\n",
              "      estimator=Pipeline(steps=[(&#x27;scale&#x27;, StandardScaler()),\n",
              "                                (&#x27;clf&#x27;, LogisticRegression())]),\n",
              "      importance_getter=&#x27;named_steps.clf.coef_&#x27;,\n",
              "      scoring=&lt;function AUC at 0x7f330e0dc3a0&gt;)</pre><b>In a Jupyter environment, please rerun this cell to show the HTML representation or trust the notebook. <br />On GitHub, the HTML representation is unable to render, please try loading this page with nbviewer.org.</b></div><div class=\"sk-container\" hidden><div class=\"sk-item sk-dashed-wrapped\"><div class=\"sk-label-container\"><div class=\"sk-label sk-toggleable\"><input class=\"sk-toggleable__control sk-hidden--visually\" id=\"sk-estimator-id-1\" type=\"checkbox\" ><label for=\"sk-estimator-id-1\" class=\"sk-toggleable__label sk-toggleable__label-arrow\">RFECV</label><div class=\"sk-toggleable__content\"><pre>RFECV(cv=RepeatedStratifiedKFold(n_repeats=3, n_splits=3, random_state=2023),\n",
              "      estimator=Pipeline(steps=[(&#x27;scale&#x27;, StandardScaler()),\n",
              "                                (&#x27;clf&#x27;, LogisticRegression())]),\n",
              "      importance_getter=&#x27;named_steps.clf.coef_&#x27;,\n",
              "      scoring=&lt;function AUC at 0x7f330e0dc3a0&gt;)</pre></div></div></div><div class=\"sk-parallel\"><div class=\"sk-parallel-item\"><div class=\"sk-item\"><div class=\"sk-label-container\"><div class=\"sk-label sk-toggleable\"><input class=\"sk-toggleable__control sk-hidden--visually\" id=\"sk-estimator-id-2\" type=\"checkbox\" ><label for=\"sk-estimator-id-2\" class=\"sk-toggleable__label sk-toggleable__label-arrow\">estimator: Pipeline</label><div class=\"sk-toggleable__content\"><pre>Pipeline(steps=[(&#x27;scale&#x27;, StandardScaler()), (&#x27;clf&#x27;, LogisticRegression())])</pre></div></div></div><div class=\"sk-serial\"><div class=\"sk-item\"><div class=\"sk-serial\"><div class=\"sk-item\"><div class=\"sk-estimator sk-toggleable\"><input class=\"sk-toggleable__control sk-hidden--visually\" id=\"sk-estimator-id-3\" type=\"checkbox\" ><label for=\"sk-estimator-id-3\" class=\"sk-toggleable__label sk-toggleable__label-arrow\">StandardScaler</label><div class=\"sk-toggleable__content\"><pre>StandardScaler()</pre></div></div></div><div class=\"sk-item\"><div class=\"sk-estimator sk-toggleable\"><input class=\"sk-toggleable__control sk-hidden--visually\" id=\"sk-estimator-id-4\" type=\"checkbox\" ><label for=\"sk-estimator-id-4\" class=\"sk-toggleable__label sk-toggleable__label-arrow\">LogisticRegression</label><div class=\"sk-toggleable__content\"><pre>LogisticRegression()</pre></div></div></div></div></div></div></div></div></div></div></div></div>"
            ]
          },
          "metadata": {},
          "execution_count": 15
        }
      ],
      "source": [
        "%%time\n",
        "\n",
        "from sklearn.feature_selection import  RFECV\n",
        "\n",
        "\n",
        "#Score utilisé pour sélectionner les variables\n",
        "def AUC(clf, X, y_true):\n",
        "    y_pred_proba = clf.predict_proba(X)\n",
        "    return  roc_auc_score(y_true, y_pred_proba[:, 1])\n",
        "\n",
        "#Paramétrage de la régression logistique\n",
        "LR = Pipeline([('scale', StandardScaler()),\n",
        "                               ('clf', LogisticRegression(solver='lbfgs'))])\n",
        "#Paramétrage de la cross-validation\n",
        "kfold = RepeatedStratifiedKFold(n_splits=3, n_repeats = 3, random_state=2023)\n",
        "\n",
        "# Nombre minimum de variables à considérer lors du process d'élimination récursif\n",
        "min_features_to_select = 1\n",
        "\n",
        "#Process d'élimination récursif avec CV\n",
        "\n",
        "rfecv_LR = RFECV(\n",
        "    estimator=LR,\n",
        "    step=1, # nombre de variables à supprimer à chaque itération\n",
        "    cv=kfold,\n",
        "    scoring=AUC,\n",
        "    min_features_to_select=min_features_to_select,\n",
        "    importance_getter=\"named_steps.clf.coef_\" # commande pour récupérer la classification des variables par l'estimateur\n",
        ")\n",
        "\n",
        "\n",
        "\n",
        "rfecv_LR.fit(X_train_res, Y_train_res)\n"
      ]
    },
    {
      "cell_type": "code",
      "execution_count": null,
      "id": "57d01293",
      "metadata": {
        "colab": {
          "base_uri": "https://localhost:8080/"
        },
        "id": "57d01293",
        "outputId": "81625912-7539-4bb1-ab31-d4a84a1ffc19"
      },
      "outputs": [
        {
          "output_type": "stream",
          "name": "stdout",
          "text": [
            "Nombre de variables sélectionnées par le process :  8\n",
            "Variables sélectionnées :  ['AAVmin', 'ALT', 'CAS', 'MFAstd', 'SAS2max', 'SAS10max', 'EM', 'MIt02']\n"
          ]
        }
      ],
      "source": [
        "#Sélection RFE\n",
        "mask = rfecv_LR.support_\n",
        "X_train_rfe = X_train_res.loc[:, mask]\n",
        "X_test_rfe = X_test.loc[:, mask]\n",
        "print(\"Nombre de variables sélectionnées par le process : \",rfecv_LR.n_features_ )\n",
        "print(\"Variables sélectionnées : \",list(X_train_rfe.columns) )"
      ]
    },
    {
      "cell_type": "code",
      "source": [
        "# Comme le résultat de RFE dépend de l'algorithme choisi, on peut vouloir reproduire le processus pour différents algo.\n",
        "# On peut donc définir une fonction qui retourne le masque de sélection des variables\n",
        "def RFEselection(X, Y, clf, importance_getter=\"named_steps.clf.coef_\") :\n",
        "  model = Pipeline([('scale', StandardScaler()),\n",
        "                                ('clf', clf)])\n",
        "  #Paramétrage de la cross-validation\n",
        "  kfold = StratifiedKFold(n_splits=3)\n",
        "\n",
        "  def AUC(clf, X, y_true):\n",
        "    y_pred_proba = clf.predict_proba(X)\n",
        "    return  roc_auc_score(y_true, y_pred_proba[:, 1])\n",
        "\n",
        "  # Nombre minimum de variables à considérer lors du process d'élimination récursif\n",
        "  min_features_to_select = 1\n",
        "\n",
        "  #Process d'élimination récursif avec CV\n",
        "\n",
        "  rfecv_LR = RFECV(\n",
        "      estimator=model,\n",
        "      step=1,\n",
        "      cv=kfold,\n",
        "      scoring=AUC,\n",
        "      min_features_to_select=min_features_to_select,\n",
        "      importance_getter=importance_getter\n",
        "  )\n",
        "\n",
        "\n",
        "\n",
        "  rfecv_LR.fit(X, Y)\n",
        "\n",
        "  mask = rfecv_LR.support_\n",
        "\n",
        "  return mask"
      ],
      "metadata": {
        "id": "Zhd_AMXB5zw3"
      },
      "id": "Zhd_AMXB5zw3",
      "execution_count": null,
      "outputs": []
    },
    {
      "cell_type": "code",
      "execution_count": null,
      "id": "ebd868d5",
      "metadata": {
        "colab": {
          "base_uri": "https://localhost:8080/",
          "height": 455
        },
        "id": "ebd868d5",
        "outputId": "eb5251a9-1980-4ecc-b262-6597400e40b1"
      },
      "outputs": [
        {
          "output_type": "display_data",
          "data": {
            "text/plain": [
              "<Figure size 640x480 with 1 Axes>"
            ],
            "image/png": "[encoded data removed]"
          },
          "metadata": {}
        }
      ],
      "source": [
        "x = range(1, 62)\n",
        "y =  rfecv_LR.cv_results_['mean_test_score']\n",
        "error = rfecv_LR.cv_results_['std_test_score']\n",
        "plt.plot(x, y)\n",
        "plt.fill_between(x, y-error, y+error,alpha=.2)\n",
        "plt.axvline(rfecv_LR.n_features_, color='black', linestyle='dashed', linewidth=1)\n",
        "plt.xlabel(\"Nombre de variables sélectionnées\")\n",
        "plt.ylabel(\"AUROC sur la cv\")\n",
        "plt.ylim(0.5, 0.9)\n",
        "plt.grid(True)\n",
        "plt.show()"
      ]
    },
    {
      "cell_type": "markdown",
      "source": [
        " *Pour aller plus loin : relancer RFE en modifiant les paramètres de la CV ou en modifiant l'algorithme utilisé ou encore en demandant un autre score de performance (voir https://scikit-learn.org/stable/modules/model_evaluation.html). Coder une cellule où on utilise la fonction qui a été définie pour rfe*"
      ],
      "metadata": {
        "id": "f1AMvG0E9_Ls"
      },
      "id": "f1AMvG0E9_Ls"
    },
    {
      "cell_type": "markdown",
      "id": "01505874",
      "metadata": {
        "id": "01505874"
      },
      "source": [
        "# Entrainement\n",
        "* On va chercher à déterminer les meilleurs **hyper-paramètres** pour notre modèle\n",
        "* Chaque algorithme comporte un ou plusieurs hyper-paramètres optimisables.\n",
        "* Les hyper-paramètres sont **ajustables par l'utilisateur** et controlent le processus d'apprentissage (exemple : force de la régularisation pour une régression logistique ou le nombre d'arbres pour une forêt aléatoire)\n",
        "* Ils diffèrent des paramètres internes du modèle qui sont \"appris\" pendant l'entrainement sur les données (par exemple les coefficients dans une régression logistique)\n",
        "* Les hyper-paramètres d'un modèle interagissent entre eux de manière non linéaire. Différentes combinaisons d'hyper-paramètres peuvent mener à des performances différentes du modèle sur un même jeu de données.\n",
        "* Pour déterminer les meilleurs hyper-paramètres, on peut utiliser :\n",
        "  * une **recherche sur grille** (grid search) : on définit un espace de recherche pour chacun des hyper-paramètres et on teste toutes les combinaisons.\n",
        "  * une **recherche sur grille aléatoire** (randomized grid search) : on sélectionne aléatoirement une certain nombre de combinaisons dans l'espace de recherche. On peut passer à côté des meilleures combinaisons mais cela permet de contrôler les temps de calcul.\n",
        "  * une *recherche en demi grille* (Halving grid search) : la recherche est d'abord effectuée sur un échantillon des données d'entrainement, les meilleures combinaisons sont sélectionnées et testées sur un échantillon plus grand, etc.\n",
        "* La recherche sur grille des hyper-paramètres est réalisée via une **cross-validation (CV)** : pour chaque combinaison d'hyper-paramètres évaluée on va estimer les performances du modèles sur les folds de validation de la CV.\n"
      ]
    },
    {
      "cell_type": "markdown",
      "source": [
        "*Rappel*\n",
        "* *X_train_tr : variables d'entrainement rééchantillonnées et normalisées*\n",
        "* *X_test_tr : variables test normalisées*\n",
        "* *X_train_res : variables d'entrainement rééchantillonnées et non normalisées*\n",
        "* *X_train_orig et X_test_orig : variables d'entrainement et test non modifiées*\n",
        "* *Y_train_res : cibles des données d'entrainement rééchantillonnées*\n",
        "* *Y_test : cibles des données test*"
      ],
      "metadata": {
        "id": "q1n4SClWhvmf"
      },
      "id": "q1n4SClWhvmf"
    },
    {
      "cell_type": "markdown",
      "source": [
        "### Régression logistique"
      ],
      "metadata": {
        "id": "cK5iTsbP7eE9"
      },
      "id": "cK5iTsbP7eE9"
    },
    {
      "cell_type": "code",
      "execution_count": null,
      "id": "7811f740",
      "metadata": {
        "colab": {
          "base_uri": "https://localhost:8080/"
        },
        "id": "7811f740",
        "outputId": "ac655553-58c0-4feb-bdd3-65eb38b86447"
      },
      "outputs": [
        {
          "output_type": "stream",
          "name": "stdout",
          "text": [
            "CPU times: user 6.2 s, sys: 3.17 s, total: 9.37 s\n",
            "Wall time: 27.9 s\n"
          ]
        }
      ],
      "source": [
        "%%time\n",
        "\n",
        "# Scores utilisés pendant la CV\n",
        "# Certains sont déjà codés dans scikit (https://scikit-learn.org/stable/modules/model_evaluation.html#accuracy-score)\n",
        "# Mais on peut les personnaliser via la fonction make_scorer de scikit (voir doc scikit) ou en définissant ce type de fonction :\n",
        "def AUC(clf, X, y_true):\n",
        "  #Aire sous la courbe ROC\n",
        "    y_pred_proba = clf.predict_proba(X)\n",
        "    return  roc_auc_score(y_true, y_pred_proba[:, 1])\n",
        "\n",
        "def AUPRC(clf, X, y_true):\n",
        "  #Aire sous la courbe PR\n",
        "    y_pred_proba = clf.predict_proba(X)\n",
        "    precision, recall, _ = precision_recall_curve(y_true, y_pred_proba[:, 1])\n",
        "    auc_score = metrics.auc(recall, precision)\n",
        "    return (auc_score)\n",
        "\n",
        "# On crée un dictionnaire des métriques qu'on veut évaluer :\n",
        "metriques = {\"AUPRC\": AUPRC,\n",
        "        \"AUROC\": AUC,\n",
        "             \"ACCURACY\" : \"accuracy\"}\n",
        "\n",
        "\n",
        "# On définit le classifieur :\n",
        "clf = LogisticRegression(solver='lbfgs', random_state = 2023)\n",
        "\n",
        "# On lance RFE sur les données d'entrainement non normalisées (car la normalisation est faite via le pipeline défini dans la fonction)\n",
        "mask = RFEselection(X_train_res, Y_train_res, clf, importance_getter=\"named_steps.clf.coef_\")\n",
        "# On l'applique sur les données non normalisées (car utilisation d'un pipeline avec normalisation pour l'entrainement du modèle)\n",
        "X_train_rfe = X_train_res.loc[:, mask]\n",
        "X_test_rfe = X_test.loc[:, mask]\n",
        "\n",
        "# On définit les paramètres du modèle\n",
        "LR =  {\n",
        "            #Pipeline qui permet de normaliser les données d'entrainement des folds de la CV avant d'entrainer le modèle dessus\n",
        "            'model': Pipeline([('scale', StandardScaler()),\n",
        "                               ('clf', clf)]),\n",
        "            'params': {\n",
        "            # C = force de la régularisation. Plus C est petit, plus la régularisation est forte\n",
        "            # La régularisation permet de limiter la complexité du modèle et donc de limiter le sur-apprentissage\n",
        "            'clf__C': [0.05, 0.1, 0.5, 0.8, 1, 3, 5, 7, 10, 12, 15]\n",
        "\n",
        "        }\n",
        "        }\n",
        "\n",
        "# Pour définir le nombre de processeurs qu'on souhaite utiliser pour la recherche sur grille\n",
        "# Cette commande permet de ne pas utiliser tous les processeurs et de pouvoir travailler par ailleurs sur le PC en question pendant la recherche si celle-ci est longue\n",
        "# jobs = os.cpu_count()-2\n",
        "\n",
        "#CV à 3 folds répétée 5 fois\n",
        "kfold = RepeatedStratifiedKFold(n_splits=3, n_repeats=3, random_state=2023)\n",
        "\n",
        "\n",
        "#Gridsearch des hyperparamètres\n",
        "clf = GridSearchCV(LR['model'],\n",
        "                           LR['params'],\n",
        "                           cv=kfold,\n",
        "                           return_train_score=False,\n",
        "                           scoring=metriques, # Pour le scoring on donne le dictionnaire, ça permet de calculer plusieurs scores pour chaque itération de la CV\n",
        "                           refit = \"AUROC\", # Dans ce cas, il faut préciser que la recherche des meilleurs hyperparamètres se fait en fonction de l'AUROC\n",
        "                           error_score=\"raise\",\n",
        "                           n_jobs=-1 # -1 signifie qu'on souhaite utiliser tous les processeurs. Cela peut bloquer le PC le temps de la recherche.\n",
        "                            )\n",
        "\n",
        "# On utilise les variables sélectionnées avec RFE\n",
        "# Attention elles ne doivent pas être normalisées, elles le seront via le pipeline, sinon risque de fuite de données lors de CV\n",
        "# fuite de données = la moyenne et l'écart-type utilisés pour la normalisation auront \"vu\" les données de validation si on fait la normalisation en amont de la CV\n",
        "# = les scores calculés sur les données de validation pdt la CV risquent d'être biaisés de façon optimiste\n",
        "# On lance la recherche à partir des données d'entrainement :\n",
        "clf.fit(X_train_rfe, Y_train_res)\n",
        "\n",
        "# On stocke les résultats de la recherche dans la variable results.\n",
        "# C'est un dictionnaire qui contient les scores obtenus à chaque itération de la CV pour chaque combinaison d'hyperparamètres, les scores moyens, l'écart-type\n",
        "# et le classement des scores obtenus sur chaque CV pour chacune des combinaisons testées.\n",
        "results = clf.cv_results_\n",
        "\n",
        "# np.nonzero retourne les indices des éléments non nuls dans chaque dimension d'un array.\n",
        "# ici il renvoit les indices des éléments non nuls de la liste results[\"rank_test_AUROC\"]\n",
        "# results[\"rank_test_AUROC\"] donne le classement des résultats AUROC pour chaque combinaison testée\n",
        "# dans best_index on stocke le numéro d'index de la meilleure combinaison d'hyperparamètres\n",
        "best_index = np.nonzero(results[\"rank_test_AUROC\"] == 1)[0][0]\n",
        "\n",
        "# On paramètre le modèle final avec cette combinaison et on l'entraine sur les données d'entrainement\n",
        "model_final =  LR['model'].set_params(**results[\"params\"][best_index]).fit(X_train_rfe, Y_train_res)\n",
        "\n",
        "# On enregistre dans Y_proba_LR la probabilité prédite par le modèle d'appartenir à l'une ou l'autre des classes\n",
        "# On préfère enregistrer les probabilités plutôt que directement les classes prédites\n",
        "# Cela permet ensuite de moduler la précision et le rappel en modifiant le seuil de décision de cette probabilité\n",
        "# Y_proba_LR est un tableau à 2 colonnes, la 1ère colonne donne les probabilité d'appartenir à la classe 0 et la seconde à la classe 1.\n",
        "Y_proba_LR = model_final.predict_proba(X_test_rfe)\n",
        "\n",
        "# On peut aussi prédire directement les classes, mais par défaut le seuil de probabilité est 50%\n",
        "Y_pred_LR = model_final.predict(X_test_rfe)"
      ]
    },
    {
      "cell_type": "markdown",
      "source": [
        "*Pour aller plus loin : faire le test sans normaliser les données*"
      ],
      "metadata": {
        "id": "hbJHgiCkKd4O"
      },
      "id": "hbJHgiCkKd4O"
    },
    {
      "cell_type": "code",
      "source": [
        "# Si on veut visualiser les résultats de la cv sous forme de tableau (les lignes sont classées par AUROC moyen décroissant) :\n",
        "cv_results = pd.DataFrame(results).sort_values(\"mean_test_AUROC\", ascending=False)\n",
        "cv_results.head()"
      ],
      "metadata": {
        "colab": {
          "base_uri": "https://localhost:8080/",
          "height": 342
        },
        "id": "36S2qR66MX47",
        "outputId": "0d44200d-0dfc-4979-ce28-9e7badebdd83"
      },
      "id": "36S2qR66MX47",
      "execution_count": null,
      "outputs": [
        {
          "output_type": "execute_result",
          "data": {
            "text/plain": [
              "   mean_fit_time  std_fit_time  mean_score_time  std_score_time param_clf__C  \\\n",
              "5       0.104113      0.020669         0.062433        0.035145            3   \n",
              "4       0.087034      0.015380         0.055324        0.011669            1   \n",
              "6       0.241359      0.044973         0.112032        0.030520            5   \n",
              "3       0.076683      0.013975         0.051091        0.006486          0.8   \n",
              "7       0.146021      0.028807         0.041124        0.019926            7   \n",
              "\n",
              "            params  split0_test_AUPRC  split1_test_AUPRC  split2_test_AUPRC  \\\n",
              "5    {'clf__C': 3}           0.656038           0.744312           0.745569   \n",
              "4    {'clf__C': 1}           0.667756           0.752804           0.742902   \n",
              "6    {'clf__C': 5}           0.653037           0.739786           0.741150   \n",
              "3  {'clf__C': 0.8}           0.670106           0.759146           0.736895   \n",
              "7    {'clf__C': 7}           0.655212           0.738865           0.734333   \n",
              "\n",
              "   split3_test_AUPRC  ...  split2_test_ACCURACY  split3_test_ACCURACY  \\\n",
              "5           0.691158  ...              0.786408              0.825243   \n",
              "4           0.704825  ...              0.796117              0.825243   \n",
              "6           0.675286  ...              0.796117              0.825243   \n",
              "3           0.710960  ...              0.786408              0.825243   \n",
              "7           0.672890  ...              0.796117              0.805825   \n",
              "\n",
              "   split4_test_ACCURACY  split5_test_ACCURACY  split6_test_ACCURACY  \\\n",
              "5              0.893204              0.728155              0.708738   \n",
              "4              0.873786              0.737864              0.757282   \n",
              "6              0.883495              0.747573              0.708738   \n",
              "3              0.873786              0.747573              0.766990   \n",
              "7              0.873786              0.747573              0.699029   \n",
              "\n",
              "   split7_test_ACCURACY  split8_test_ACCURACY  mean_test_ACCURACY  \\\n",
              "5              0.815534              0.786408            0.786408   \n",
              "4              0.796117              0.786408            0.795038   \n",
              "6              0.805825              0.786408            0.787487   \n",
              "3              0.796117              0.776699            0.795038   \n",
              "7              0.805825              0.786408            0.782093   \n",
              "\n",
              "   std_test_ACCURACY  rank_test_ACCURACY  \n",
              "5           0.051780                   7  \n",
              "4           0.036455                   2  \n",
              "6           0.047661                   6  \n",
              "3           0.034385                   2  \n",
              "7           0.048243                   8  \n",
              "\n",
              "[5 rows x 42 columns]"
            ],
            "text/html": [
              "\n",
              "  <div id=\"df-5b1670f3-e075-4752-9fc3-1c6fe33bc5e3\" class=\"colab-df-container\">\n",
              "    <div>\n",
              "<style scoped>\n",
              "    .dataframe tbody tr th:only-of-type {\n",
              "        vertical-align: middle;\n",
              "    }\n",
              "\n",
              "    .dataframe tbody tr th {\n",
              "        vertical-align: top;\n",
              "    }\n",
              "\n",
              "    .dataframe thead th {\n",
              "        text-align: right;\n",
              "    }\n",
              "</style>\n",
              "<table border=\"1\" class=\"dataframe\">\n",
              "  <thead>\n",
              "    <tr style=\"text-align: right;\">\n",
              "      <th></th>\n",
              "      <th>mean_fit_time</th>\n",
              "      <th>std_fit_time</th>\n",
              "      <th>mean_score_time</th>\n",
              "      <th>std_score_time</th>\n",
              "      <th>param_clf__C</th>\n",
              "      <th>params</th>\n",
              "      <th>split0_test_AUPRC</th>\n",
              "      <th>split1_test_AUPRC</th>\n",
              "      <th>split2_test_AUPRC</th>\n",
              "      <th>split3_test_AUPRC</th>\n",
              "      <th>...</th>\n",
              "      <th>split2_test_ACCURACY</th>\n",
              "      <th>split3_test_ACCURACY</th>\n",
              "      <th>split4_test_ACCURACY</th>\n",
              "      <th>split5_test_ACCURACY</th>\n",
              "      <th>split6_test_ACCURACY</th>\n",
              "      <th>split7_test_ACCURACY</th>\n",
              "      <th>split8_test_ACCURACY</th>\n",
              "      <th>mean_test_ACCURACY</th>\n",
              "      <th>std_test_ACCURACY</th>\n",
              "      <th>rank_test_ACCURACY</th>\n",
              "    </tr>\n",
              "  </thead>\n",
              "  <tbody>\n",
              "    <tr>\n",
              "      <th>5</th>\n",
              "      <td>0.104113</td>\n",
              "      <td>0.020669</td>\n",
              "      <td>0.062433</td>\n",
              "      <td>0.035145</td>\n",
              "      <td>3</td>\n",
              "      <td>{'clf__C': 3}</td>\n",
              "      <td>0.656038</td>\n",
              "      <td>0.744312</td>\n",
              "      <td>0.745569</td>\n",
              "      <td>0.691158</td>\n",
              "      <td>...</td>\n",
              "      <td>0.786408</td>\n",
              "      <td>0.825243</td>\n",
              "      <td>0.893204</td>\n",
              "      <td>0.728155</td>\n",
              "      <td>0.708738</td>\n",
              "      <td>0.815534</td>\n",
              "      <td>0.786408</td>\n",
              "      <td>0.786408</td>\n",
              "      <td>0.051780</td>\n",
              "      <td>7</td>\n",
              "    </tr>\n",
              "    <tr>\n",
              "      <th>4</th>\n",
              "      <td>0.087034</td>\n",
              "      <td>0.015380</td>\n",
              "      <td>0.055324</td>\n",
              "      <td>0.011669</td>\n",
              "      <td>1</td>\n",
              "      <td>{'clf__C': 1}</td>\n",
              "      <td>0.667756</td>\n",
              "      <td>0.752804</td>\n",
              "      <td>0.742902</td>\n",
              "      <td>0.704825</td>\n",
              "      <td>...</td>\n",
              "      <td>0.796117</td>\n",
              "      <td>0.825243</td>\n",
              "      <td>0.873786</td>\n",
              "      <td>0.737864</td>\n",
              "      <td>0.757282</td>\n",
              "      <td>0.796117</td>\n",
              "      <td>0.786408</td>\n",
              "      <td>0.795038</td>\n",
              "      <td>0.036455</td>\n",
              "      <td>2</td>\n",
              "    </tr>\n",
              "    <tr>\n",
              "      <th>6</th>\n",
              "      <td>0.241359</td>\n",
              "      <td>0.044973</td>\n",
              "      <td>0.112032</td>\n",
              "      <td>0.030520</td>\n",
              "      <td>5</td>\n",
              "      <td>{'clf__C': 5}</td>\n",
              "      <td>0.653037</td>\n",
              "      <td>0.739786</td>\n",
              "      <td>0.741150</td>\n",
              "      <td>0.675286</td>\n",
              "      <td>...</td>\n",
              "      <td>0.796117</td>\n",
              "      <td>0.825243</td>\n",
              "      <td>0.883495</td>\n",
              "      <td>0.747573</td>\n",
              "      <td>0.708738</td>\n",
              "      <td>0.805825</td>\n",
              "      <td>0.786408</td>\n",
              "      <td>0.787487</td>\n",
              "      <td>0.047661</td>\n",
              "      <td>6</td>\n",
              "    </tr>\n",
              "    <tr>\n",
              "      <th>3</th>\n",
              "      <td>0.076683</td>\n",
              "      <td>0.013975</td>\n",
              "      <td>0.051091</td>\n",
              "      <td>0.006486</td>\n",
              "      <td>0.8</td>\n",
              "      <td>{'clf__C': 0.8}</td>\n",
              "      <td>0.670106</td>\n",
              "      <td>0.759146</td>\n",
              "      <td>0.736895</td>\n",
              "      <td>0.710960</td>\n",
              "      <td>...</td>\n",
              "      <td>0.786408</td>\n",
              "      <td>0.825243</td>\n",
              "      <td>0.873786</td>\n",
              "      <td>0.747573</td>\n",
              "      <td>0.766990</td>\n",
              "      <td>0.796117</td>\n",
              "      <td>0.776699</td>\n",
              "      <td>0.795038</td>\n",
              "      <td>0.034385</td>\n",
              "      <td>2</td>\n",
              "    </tr>\n",
              "    <tr>\n",
              "      <th>7</th>\n",
              "      <td>0.146021</td>\n",
              "      <td>0.028807</td>\n",
              "      <td>0.041124</td>\n",
              "      <td>0.019926</td>\n",
              "      <td>7</td>\n",
              "      <td>{'clf__C': 7}</td>\n",
              "      <td>0.655212</td>\n",
              "      <td>0.738865</td>\n",
              "      <td>0.734333</td>\n",
              "      <td>0.672890</td>\n",
              "      <td>...</td>\n",
              "      <td>0.796117</td>\n",
              "      <td>0.805825</td>\n",
              "      <td>0.873786</td>\n",
              "      <td>0.747573</td>\n",
              "      <td>0.699029</td>\n",
              "      <td>0.805825</td>\n",
              "      <td>0.786408</td>\n",
              "      <td>0.782093</td>\n",
              "      <td>0.048243</td>\n",
              "      <td>8</td>\n",
              "    </tr>\n",
              "  </tbody>\n",
              "</table>\n",
              "<p>5 rows × 42 columns</p>\n",
              "</div>\n",
              "    <div class=\"colab-df-buttons\">\n",
              "\n",
              "  <div class=\"colab-df-container\">\n",
              "    <button class=\"colab-df-convert\" onclick=\"convertToInteractive('df-5b1670f3-e075-4752-9fc3-1c6fe33bc5e3')\"\n",
              "            title=\"Convert this dataframe to an interactive table.\"\n",
              "            style=\"display:none;\">\n",
              "\n",
              "  <svg xmlns=\"http://www.w3.org/2000/svg\" height=\"24px\" viewBox=\"0 -960 960 960\">\n",
              "    <path d=\"M120-120v-720h720v720H120Zm60-500h600v-160H180v160Zm220 220h160v-160H400v160Zm0 220h160v-160H400v160ZM180-400h160v-160H180v160Zm440 0h160v-160H620v160ZM180-180h160v-160H180v160Zm440 0h160v-160H620v160Z\"/>\n",
              "  </svg>\n",
              "    </button>\n",
              "\n",
              "  <style>\n",
              "    .colab-df-container {\n",
              "      display:flex;\n",
              "      gap: 12px;\n",
              "    }\n",
              "\n",
              "    .colab-df-convert {\n",
              "      background-color: #E8F0FE;\n",
              "      border: none;\n",
              "      border-radius: 50%;\n",
              "      cursor: pointer;\n",
              "      display: none;\n",
              "      fill: #1967D2;\n",
              "      height: 32px;\n",
              "      padding: 0 0 0 0;\n",
              "      width: 32px;\n",
              "    }\n",
              "\n",
              "    .colab-df-convert:hover {\n",
              "      background-color: #E2EBFA;\n",
              "      box-shadow: 0px 1px 2px rgba(60, 64, 67, 0.3), 0px 1px 3px 1px rgba(60, 64, 67, 0.15);\n",
              "      fill: #174EA6;\n",
              "    }\n",
              "\n",
              "    .colab-df-buttons div {\n",
              "      margin-bottom: 4px;\n",
              "    }\n",
              "\n",
              "    [theme=dark] .colab-df-convert {\n",
              "      background-color: #3B4455;\n",
              "      fill: #D2E3FC;\n",
              "    }\n",
              "\n",
              "    [theme=dark] .colab-df-convert:hover {\n",
              "      background-color: #434B5C;\n",
              "      box-shadow: 0px 1px 3px 1px rgba(0, 0, 0, 0.15);\n",
              "      filter: drop-shadow(0px 1px 2px rgba(0, 0, 0, 0.3));\n",
              "      fill: #FFFFFF;\n",
              "    }\n",
              "  </style>\n",
              "\n",
              "    <script>\n",
              "      const buttonEl =\n",
              "        document.querySelector('#df-5b1670f3-e075-4752-9fc3-1c6fe33bc5e3 button.colab-df-convert');\n",
              "      buttonEl.style.display =\n",
              "        google.colab.kernel.accessAllowed ? 'block' : 'none';\n",
              "\n",
              "      async function convertToInteractive(key) {\n",
              "        const element = document.querySelector('#df-5b1670f3-e075-4752-9fc3-1c6fe33bc5e3');\n",
              "        const dataTable =\n",
              "          await google.colab.kernel.invokeFunction('convertToInteractive',\n",
              "                                                    [key], {});\n",
              "        if (!dataTable) return;\n",
              "\n",
              "        const docLinkHtml = 'Like what you see? Visit the ' +\n",
              "          '<a target=\"_blank\" href=https://colab.research.google.com/notebooks/data_table.ipynb>data table notebook</a>'\n",
              "          + ' to learn more about interactive tables.';\n",
              "        element.innerHTML = '';\n",
              "        dataTable['output_type'] = 'display_data';\n",
              "        await google.colab.output.renderOutput(dataTable, element);\n",
              "        const docLink = document.createElement('div');\n",
              "        docLink.innerHTML = docLinkHtml;\n",
              "        element.appendChild(docLink);\n",
              "      }\n",
              "    </script>\n",
              "  </div>\n",
              "\n",
              "\n",
              "<div id=\"df-ea9c6b8f-24d7-4046-abdc-95e7ac7e075d\">\n",
              "  <button class=\"colab-df-quickchart\" onclick=\"quickchart('df-ea9c6b8f-24d7-4046-abdc-95e7ac7e075d')\"\n",
              "            title=\"Suggest charts\"\n",
              "            style=\"display:none;\">\n",
              "\n",
              "<svg xmlns=\"http://www.w3.org/2000/svg\" height=\"24px\"viewBox=\"0 0 24 24\"\n",
              "     width=\"24px\">\n",
              "    <g>\n",
              "        <path d=\"M19 3H5c-1.1 0-2 .9-2 2v14c0 1.1.9 2 2 2h14c1.1 0 2-.9 2-2V5c0-1.1-.9-2-2-2zM9 17H7v-7h2v7zm4 0h-2V7h2v10zm4 0h-2v-4h2v4z\"/>\n",
              "    </g>\n",
              "</svg>\n",
              "  </button>\n",
              "\n",
              "<style>\n",
              "  .colab-df-quickchart {\n",
              "      --bg-color: #E8F0FE;\n",
              "      --fill-color: #1967D2;\n",
              "      --hover-bg-color: #E2EBFA;\n",
              "      --hover-fill-color: #174EA6;\n",
              "      --disabled-fill-color: #AAA;\n",
              "      --disabled-bg-color: #DDD;\n",
              "  }\n",
              "\n",
              "  [theme=dark] .colab-df-quickchart {\n",
              "      --bg-color: #3B4455;\n",
              "      --fill-color: #D2E3FC;\n",
              "      --hover-bg-color: #434B5C;\n",
              "      --hover-fill-color: #FFFFFF;\n",
              "      --disabled-bg-color: #3B4455;\n",
              "      --disabled-fill-color: #666;\n",
              "  }\n",
              "\n",
              "  .colab-df-quickchart {\n",
              "    background-color: var(--bg-color);\n",
              "    border: none;\n",
              "    border-radius: 50%;\n",
              "    cursor: pointer;\n",
              "    display: none;\n",
              "    fill: var(--fill-color);\n",
              "    height: 32px;\n",
              "    padding: 0;\n",
              "    width: 32px;\n",
              "  }\n",
              "\n",
              "  .colab-df-quickchart:hover {\n",
              "    background-color: var(--hover-bg-color);\n",
              "    box-shadow: 0 1px 2px rgba(60, 64, 67, 0.3), 0 1px 3px 1px rgba(60, 64, 67, 0.15);\n",
              "    fill: var(--button-hover-fill-color);\n",
              "  }\n",
              "\n",
              "  .colab-df-quickchart-complete:disabled,\n",
              "  .colab-df-quickchart-complete:disabled:hover {\n",
              "    background-color: var(--disabled-bg-color);\n",
              "    fill: var(--disabled-fill-color);\n",
              "    box-shadow: none;\n",
              "  }\n",
              "\n",
              "  .colab-df-spinner {\n",
              "    border: 2px solid var(--fill-color);\n",
              "    border-color: transparent;\n",
              "    border-bottom-color: var(--fill-color);\n",
              "    animation:\n",
              "      spin 1s steps(1) infinite;\n",
              "  }\n",
              "\n",
              "  @keyframes spin {\n",
              "    0% {\n",
              "      border-color: transparent;\n",
              "      border-bottom-color: var(--fill-color);\n",
              "      border-left-color: var(--fill-color);\n",
              "    }\n",
              "    20% {\n",
              "      border-color: transparent;\n",
              "      border-left-color: var(--fill-color);\n",
              "      border-top-color: var(--fill-color);\n",
              "    }\n",
              "    30% {\n",
              "      border-color: transparent;\n",
              "      border-left-color: var(--fill-color);\n",
              "      border-top-color: var(--fill-color);\n",
              "      border-right-color: var(--fill-color);\n",
              "    }\n",
              "    40% {\n",
              "      border-color: transparent;\n",
              "      border-right-color: var(--fill-color);\n",
              "      border-top-color: var(--fill-color);\n",
              "    }\n",
              "    60% {\n",
              "      border-color: transparent;\n",
              "      border-right-color: var(--fill-color);\n",
              "    }\n",
              "    80% {\n",
              "      border-color: transparent;\n",
              "      border-right-color: var(--fill-color);\n",
              "      border-bottom-color: var(--fill-color);\n",
              "    }\n",
              "    90% {\n",
              "      border-color: transparent;\n",
              "      border-bottom-color: var(--fill-color);\n",
              "    }\n",
              "  }\n",
              "</style>\n",
              "\n",
              "  <script>\n",
              "    async function quickchart(key) {\n",
              "      const quickchartButtonEl =\n",
              "        document.querySelector('#' + key + ' button');\n",
              "      quickchartButtonEl.disabled = true;  // To prevent multiple clicks.\n",
              "      quickchartButtonEl.classList.add('colab-df-spinner');\n",
              "      try {\n",
              "        const charts = await google.colab.kernel.invokeFunction(\n",
              "            'suggestCharts', [key], {});\n",
              "      } catch (error) {\n",
              "        console.error('Error during call to suggestCharts:', error);\n",
              "      }\n",
              "      quickchartButtonEl.classList.remove('colab-df-spinner');\n",
              "      quickchartButtonEl.classList.add('colab-df-quickchart-complete');\n",
              "    }\n",
              "    (() => {\n",
              "      let quickchartButtonEl =\n",
              "        document.querySelector('#df-ea9c6b8f-24d7-4046-abdc-95e7ac7e075d button');\n",
              "      quickchartButtonEl.style.display =\n",
              "        google.colab.kernel.accessAllowed ? 'block' : 'none';\n",
              "    })();\n",
              "  </script>\n",
              "</div>\n",
              "    </div>\n",
              "  </div>\n"
            ]
          },
          "metadata": {},
          "execution_count": 33
        }
      ]
    },
    {
      "cell_type": "code",
      "execution_count": null,
      "id": "69170eb6",
      "metadata": {
        "colab": {
          "base_uri": "https://localhost:8080/",
          "height": 555
        },
        "id": "69170eb6",
        "outputId": "78edf0c0-ffa2-4552-b54a-39f2264f39dd"
      },
      "outputs": [
        {
          "output_type": "display_data",
          "data": {
            "text/plain": [
              "<Figure size 800x600 with 1 Axes>"
            ],
            "image/png": "[encoded data removed]"
          },
          "metadata": {}
        }
      ],
      "source": [
        "# Comme on va souvent vouloir afficher des courbes ROC, on peut définir une fonction afin de ne pas répéter toujours les mêmes commandes\n",
        "def plot_roc_curve(fpr, tpr, label=None):\n",
        "    plt.plot(fpr, tpr, linewidth=2, label=label)\n",
        "    plt.plot([0, 1], [0, 1], linestyle='dotted', color = 'grey', label = 'Classifieur aléatoire, AUROC = 0.5')\n",
        "    plt.axis([0, 1, 0, 1])\n",
        "    plt.xlabel('FPR (1 - spécificité)', fontsize=16)\n",
        "    plt.ylabel('TPR (Rappel)', fontsize=16)\n",
        "    plt.grid(True)\n",
        "\n",
        "# Attention pour calculer la courbe ROC il faut toujours utiliser les probabilités et non les classes prédites.\n",
        "# Ici on s'intéresse à la classe 1 donc on utilise les probabilités de la seconde colonne de Y_proba_LR\n",
        "auc_lr = round(roc_auc_score(Y_test, Y_proba_LR[:, 1]), 2)\n",
        "fpr_lr, tpr_lr, thresholds_lr = roc_curve(Y_test, Y_proba_LR[:, 1])\n",
        "plt.figure(figsize=(8, 6))\n",
        "plot_roc_curve(fpr_lr, tpr_lr, label = \"LR, AUROC = \" + str(auc_lr))\n",
        "plt.legend(loc = 'lower right')\n",
        "plt.show()"
      ]
    },
    {
      "cell_type": "markdown",
      "source": [
        "*Pour aller plus loin : tracer la courbe de précision/rappel.*"
      ],
      "metadata": {
        "id": "81bop5fPKpkl"
      },
      "id": "81bop5fPKpkl"
    },
    {
      "cell_type": "code",
      "execution_count": null,
      "id": "a88f1ad8",
      "metadata": {
        "scrolled": false,
        "colab": {
          "base_uri": "https://localhost:8080/",
          "height": 452
        },
        "id": "a88f1ad8",
        "outputId": "143a5e2a-aa7d-4aff-c498-8e97e09baec9"
      },
      "outputs": [
        {
          "output_type": "display_data",
          "data": {
            "text/plain": [
              "<Figure size 640x480 with 2 Axes>"
            ],
            "image/png": "[encoded data removed]"
          },
          "metadata": {}
        }
      ],
      "source": [
        "# Résultats prédits en fonction du seuil de décision\n",
        "seuil = 0.5\n",
        "y_pred = np.where(Y_proba_LR[:, 1] > seuil, 1, 0)\n",
        "\n",
        "cm = confusion_matrix(Y_test, y_pred)\n",
        "cm_display = ConfusionMatrixDisplay(cm, display_labels = [1, 0])\n",
        "\n",
        "cm_display.plot()\n",
        "plt.show()"
      ]
    },
    {
      "cell_type": "markdown",
      "source": [
        "*Pour aller plus loin : évaluer l'impact de la modification du seuil de décision sur la matrice*"
      ],
      "metadata": {
        "id": "EE78aIgZLGg-"
      },
      "id": "EE78aIgZLGg-"
    },
    {
      "cell_type": "markdown",
      "source": [
        "Evaluer l'impact du paramètre C sur les résultats, pour les deux métriques demandées pendant la CV :"
      ],
      "metadata": {
        "id": "_1P8K_2aEphF"
      },
      "id": "_1P8K_2aEphF"
    },
    {
      "cell_type": "code",
      "source": [
        "# On part d'une figure dont on définit la dimension\n",
        "plt.figure(figsize=(8, 8))\n",
        "\n",
        "# On définit le nom des axes\n",
        "plt.xlabel(\"C\")\n",
        "plt.ylabel(\"Score\")\n",
        "\n",
        "# On récupère les axes dans ax, ce qui permet de paramétrer leurs limites si besoin (si les limites par défaut ne conviennent pas)\n",
        "ax = plt.gca()\n",
        "#ax.set_xlim(0, 10)\n",
        "ax.set_ylim(0.6, 1)\n",
        "\n",
        "# On récupère les valeurs testées pour C dans la CV\n",
        "X_axis = np.array(results[\"param_clf__C\"].data, dtype=float)\n",
        "\n",
        "# Pour les métriques utilisées pdt la CV (stockées dans le dico metriques plus haut)\n",
        "for scorer in metriques:\n",
        "      # On stocke le résultat moyen de la CV obtenu sur les données de validation (étiquetées comme \"test\" dans la CV)\n",
        "      sample_score_mean = results[\"mean_test_%s\" % scorer]\n",
        "      # et l'écart type\n",
        "      sample_score_std = results[\"std_test_%s\" % scorer]\n",
        "      # On remplit l'affichage autour de la courbe du score moyen à +- un écart type\n",
        "      ax.fill_between(\n",
        "          X_axis,\n",
        "          sample_score_mean - sample_score_std,\n",
        "          sample_score_mean + sample_score_std,\n",
        "          alpha=0.1\n",
        "      )\n",
        "      # On trace le score moyen\n",
        "      ax.plot(\n",
        "          X_axis,\n",
        "          sample_score_mean,\n",
        "          \":o\",\n",
        "          alpha=1,\n",
        "          label=\"%s Validation\" % scorer,\n",
        "      )\n",
        "\n",
        "      best_index = np.nonzero(results[\"rank_test_%s\" % scorer] == 1)[0][0]\n",
        "      best_score = results[\"mean_test_%s\" % scorer][best_index]\n",
        "\n",
        "      # On trace une ligne verticale pour le meilleur paramètre et on le note avec un x\n",
        "      ax.plot([X_axis[best_index],]* 2,[0, best_score],linestyle=\"-.\",color = \"black\", marker=\"x\",markeredgewidth=3,ms=8,)\n",
        "\n",
        "      # On annote avec le score correspondant\n",
        "      ax.annotate(\"%0.2f\" % best_score, (X_axis[best_index], best_score + 0.005))\n",
        "\n",
        "plt.legend(loc=\"lower right\")\n",
        "plt.show()"
      ],
      "metadata": {
        "colab": {
          "base_uri": "https://localhost:8080/",
          "height": 701
        },
        "id": "IcsW1kdzEk76",
        "outputId": "f81b50c2-6a95-4068-c7c1-650c4592dc99"
      },
      "id": "IcsW1kdzEk76",
      "execution_count": null,
      "outputs": [
        {
          "output_type": "display_data",
          "data": {
            "text/plain": [
              "<Figure size 800x800 with 1 Axes>"
            ],
            "image/png": "[encoded data removed]"
          },
          "metadata": {}
        }
      ]
    },
    {
      "cell_type": "markdown",
      "source": [
        "Pour aller plus loin : ajouter une métrique, par exemple le score f1."
      ],
      "metadata": {
        "id": "TphXxc4JJ-4Z"
      },
      "id": "TphXxc4JJ-4Z"
    },
    {
      "cell_type": "markdown",
      "source": [
        "### Forêt aléatoire\n",
        "On peut refaire la même chose avec un autre algorithme, par exemple une **forêt aléatoire** :"
      ],
      "metadata": {
        "id": "7sSjtMym3eTJ"
      },
      "id": "7sSjtMym3eTJ"
    },
    {
      "cell_type": "code",
      "execution_count": null,
      "id": "ad6d5d7f",
      "metadata": {
        "id": "ad6d5d7f",
        "colab": {
          "base_uri": "https://localhost:8080/"
        },
        "outputId": "5089180e-3836-4e57-f2c7-7c68894e78d7"
      },
      "outputs": [
        {
          "output_type": "stream",
          "name": "stdout",
          "text": [
            "CPU times: user 54.1 s, sys: 108 ms, total: 54.2 s\n",
            "Wall time: 1min 4s\n"
          ]
        }
      ],
      "source": [
        "%%time\n",
        "\n",
        "clf = RandomForestClassifier(criterion = 'gini',max_features = 'sqrt',class_weight = 'balanced')\n",
        "\n",
        "# Sélection RFE\n",
        "# Importance_getter définit la façon dont RFE va aller chercher la classification des variables via l'algo.\n",
        "# Selon les algos, la classification est codée avec la commande coef_ ou feature_importances_ dans la definition de l'algo\n",
        "# Sans pipeline, le choix est fait en automatique si on ne précise rien\n",
        "# Avec les pipeline, il faut préciser ce choix manuellement\n",
        "# Pour le savoir, il faut bien lire la doc associée aux fonctions https://scikit-learn.org/stable/modules/generated/sklearn.feature_selection.RFECV.html\n",
        "mask = RFEselection(X_train_res, Y_train_res, clf, importance_getter=\"named_steps.clf.feature_importances_\")\n",
        "X_train_rfe = X_train_res.loc[:, mask]\n",
        "X_test_rfe = X_test.loc[:, mask]\n",
        "\n",
        "#Paramètres du modèle\n",
        "RF =  {\n",
        "            'model': Pipeline([('scale', StandardScaler()),\n",
        "                               ('clf', clf)]),\n",
        "            'params': {\n",
        "            #'clf__n_estimators': [100, 120, 150],\n",
        "            'clf__max_depth' : [1, 2, 4, 6, 8, 10, 12, 20, 30, 40],\n",
        "\n",
        "        }\n",
        "        }\n",
        "\n",
        "\n",
        "\n",
        "#CV\n",
        "kfold = RepeatedStratifiedKFold(n_splits=3, n_repeats=1, random_state=2023)\n",
        "\n",
        "\n",
        "#Gridsearch des hyperparamètres\n",
        "clf = GridSearchCV(RF['model'],\n",
        "                           RF['params'],\n",
        "                           cv=kfold,\n",
        "                           return_train_score=False,\n",
        "                           scoring=metriques,\n",
        "                           refit = \"AUROC\",\n",
        "                           error_score=\"raise\",\n",
        "                           n_jobs=-1)\n",
        "\n",
        "#On utilise les variables sélectionnées avec RFE\n",
        "# Attention elles ne doivent pas être normalisées, elles le seront via le pipeline, sinon risque de fuite de données\n",
        "clf.fit(X_train_rfe, Y_train_res)\n",
        "results = clf.cv_results_\n",
        "best_index = np.nonzero(results[\"rank_test_AUROC\"] == 1)[0][0]\n",
        "model_final =  RF['model'].set_params(**results[\"params\"][best_index]).fit(X_train_rfe, Y_train_res)\n",
        "Y_proba_RF = model_final.predict_proba(X_test_rfe)"
      ]
    },
    {
      "cell_type": "markdown",
      "source": [
        "Pour évaluer l'impact d'un hyper-paramètres sur les résultats de la CV :"
      ],
      "metadata": {
        "id": "lBVCdtwcHtgu"
      },
      "id": "lBVCdtwcHtgu"
    },
    {
      "cell_type": "code",
      "source": [
        "# On part d'une figure dont on définit la dimension\n",
        "param = \"max_depth\"\n",
        "Xaxis = np.array(results[\"param_clf__%s\" % param].data, dtype=float)\n",
        "mean_score = results[\"mean_test_AUROC\"]\n",
        "std_score = results[\"std_test_AUROC\"]\n",
        "plt.figure(figsize=(8, 8))\n",
        "\n",
        "# On définit le nom des axes\n",
        "plt.xlabel(param)\n",
        "plt.ylabel(\"AUC\")\n",
        "\n",
        "#Trace une courbe avec les barres d'erreur\n",
        "plt.plot(Xaxis, mean_score,\":o\", linewidth=2, label=param)\n",
        "plt.fill_between(\n",
        "            Xaxis,\n",
        "            mean_score - std_score,\n",
        "            mean_score + std_score,\n",
        "            alpha=0.2,\n",
        "\n",
        "        )\n",
        "plt.show()"
      ],
      "metadata": {
        "colab": {
          "base_uri": "https://localhost:8080/",
          "height": 696
        },
        "id": "V-G6hz5eAPcS",
        "outputId": "24b605e2-d809-4dcf-99d9-4a191556e134"
      },
      "id": "V-G6hz5eAPcS",
      "execution_count": null,
      "outputs": [
        {
          "output_type": "display_data",
          "data": {
            "text/plain": [
              "<Figure size 800x800 with 1 Axes>"
            ],
            "image/png": "[encoded data removed]"
          },
          "metadata": {}
        }
      ]
    },
    {
      "cell_type": "markdown",
      "source": [
        "autre type d'affichage :"
      ],
      "metadata": {
        "id": "IpODy3KYHnVX"
      },
      "id": "IpODy3KYHnVX"
    },
    {
      "cell_type": "code",
      "source": [
        "# On part d'une figure dont on définit la dimension\n",
        "param = \"max_depth\"\n",
        "Xaxis = np.array(results[\"param_clf__%s\" % param].data, dtype=float)\n",
        "mean_score = results[\"mean_test_AUROC\"]\n",
        "std_score = results[\"std_test_AUROC\"]\n",
        "plt.figure(figsize=(8, 5))\n",
        "\n",
        "# On définit le nom des axes\n",
        "plt.xlabel(param)\n",
        "plt.ylabel(\"AUC\")\n",
        "\n",
        "plt.errorbar(Xaxis, mean_score, yerr=std_score, fmt='o', capsize=3, capthick=1)\n",
        "plt.show()"
      ],
      "metadata": {
        "colab": {
          "base_uri": "https://localhost:8080/",
          "height": 465
        },
        "id": "6cVdqDJbEMku",
        "outputId": "6e9a0fa9-6f8e-4d61-b9ad-04d543d0d191"
      },
      "id": "6cVdqDJbEMku",
      "execution_count": null,
      "outputs": [
        {
          "output_type": "display_data",
          "data": {
            "text/plain": [
              "<Figure size 800x500 with 1 Axes>"
            ],
            "image/png": "[encoded data removed]"
          },
          "metadata": {}
        }
      ]
    },
    {
      "cell_type": "markdown",
      "source": [
        "*Pour aller plus loin : évaluer l'impact des autres hyper-paramètres de RF sur les performances*"
      ],
      "metadata": {
        "id": "Be0iHpqLY0ng"
      },
      "id": "Be0iHpqLY0ng"
    },
    {
      "cell_type": "code",
      "execution_count": null,
      "id": "5aff05df",
      "metadata": {
        "colab": {
          "base_uri": "https://localhost:8080/",
          "height": 555
        },
        "id": "5aff05df",
        "outputId": "97bccf8f-48df-4c42-b497-d6708f7aef6e"
      },
      "outputs": [
        {
          "output_type": "display_data",
          "data": {
            "text/plain": [
              "<Figure size 800x600 with 1 Axes>"
            ],
            "image/png": "[encoded data removed]"
          },
          "metadata": {}
        }
      ],
      "source": [
        "# On peut comparer les deux modèles, LR et RF, sur les données test\n",
        "auc_rf = round(roc_auc_score(Y_test, Y_proba_RF[:, 1]), 2)\n",
        "fpr_rf, tpr_rf, thresholds_rf = roc_curve(Y_test, Y_proba_RF[:, 1])\n",
        "plt.figure(figsize=(8, 6))\n",
        "plot_roc_curve(fpr_lr, tpr_lr, label = \"LR, AUROC = \" + str(auc_lr))\n",
        "plt.plot(fpr_rf, tpr_rf, label = \"RF, AUROC = \" + str(auc_rf))\n",
        "plt.legend(loc = 'lower right')\n",
        "plt.show()"
      ]
    },
    {
      "cell_type": "markdown",
      "source": [
        "Pour aller plus loin : faire de même avec la courbe de précision/rappel"
      ],
      "metadata": {
        "id": "QJlYxSqOLg6f"
      },
      "id": "QJlYxSqOLg6f"
    },
    {
      "cell_type": "code",
      "execution_count": null,
      "id": "adee217f",
      "metadata": {
        "id": "adee217f"
      },
      "outputs": [],
      "source": []
    },
    {
      "cell_type": "code",
      "execution_count": null,
      "id": "ac19f481",
      "metadata": {
        "id": "ac19f481"
      },
      "outputs": [],
      "source": []
    },
    {
      "cell_type": "code",
      "execution_count": null,
      "id": "4c3c4268",
      "metadata": {
        "id": "4c3c4268"
      },
      "outputs": [],
      "source": []
    }
  ],
  "metadata": {
    "kernelspec": {
      "display_name": "Python 3",
      "language": "python",
      "name": "python3"
    },
    "language_info": {
      "codemirror_mode": {
        "name": "ipython",
        "version": 3
      },
      "file_extension": ".py",
      "mimetype": "text/x-python",
      "name": "python",
      "nbconvert_exporter": "python",
      "pygments_lexer": "ipython3",
      "version": "3.8.8"
    },
    "colab": {
      "provenance": [],
      "toc_visible": true,
      "include_colab_link": true
    }
  },
  "nbformat": 4,
  "nbformat_minor": 5
}