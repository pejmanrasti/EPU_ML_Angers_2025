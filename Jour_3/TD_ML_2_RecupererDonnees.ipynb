{
  "cells": [
    {
      "cell_type": "markdown",
      "metadata": {
        "id": "view-in-github",
        "colab_type": "text"
      },
      "source": [
        "<a href=\"https://colab.research.google.com/github/pejmanrasti/EPU_ML_Angers_2025/blob/main/Jour_3/TD_ML_2_RecupererDonnees.ipynb\" target=\"_parent\"><img src=\"https://colab.research.google.com/assets/colab-badge.svg\" alt=\"Open In Colab\"/></a>"
      ]
    },
    {
      "cell_type": "markdown",
      "id": "b5a888af-3b41-49ca-8339-95f5eafb7154",
      "metadata": {
        "id": "b5a888af-3b41-49ca-8339-95f5eafb7154"
      },
      "source": [
        "1. Définir le problème\n",
        "\n",
        "\n",
        "2. **Récupérer les données**\n",
        "\n",
        "\n",
        "3. Analyser et nettoyer les données\n",
        "  \n",
        "\n",
        "4. Préparer les données\n",
        "  \n",
        "\n",
        "5. Evaluer plusieurs modèles\n",
        "  \n",
        "\n",
        "6. Réglage fin des modèles\n",
        "\n",
        "\n",
        "7. Surveiller son modèle\n",
        "  "
      ]
    },
    {
      "cell_type": "markdown",
      "id": "1bae1af2-77e7-4f70-a70f-60655ffc0631",
      "metadata": {
        "id": "1bae1af2-77e7-4f70-a70f-60655ffc0631"
      },
      "source": [
        "\n",
        "---\n",
        "\n",
        "\n",
        "\n",
        "---\n"
      ]
    },
    {
      "cell_type": "markdown",
      "id": "86bf3625-2c2e-476b-baae-7e10df7dd282",
      "metadata": {
        "id": "86bf3625-2c2e-476b-baae-7e10df7dd282"
      },
      "source": [
        "\n",
        "# 📌 2. Récupération des données  \n",
        "\n",
        "## 🚀 Objectif\n",
        "Dans cette section, nous allons **récupérer les données brutes et faire un premier tri** des données pour ne garder que les données qui nous intéresse.  \n",
        "\n",
        "## 🔍 Étapes du processus\n",
        "1. **Importer les bibliothèques nécessaires**  \n",
        "2. **Charger les données**  \n",
        "3. **Vérifier que les données sont correctement lues**    \n",
        "4. **Identifier les types de données présents**  \n",
        "5. **Supprimer les colonnes qui ne nous intéressent pas**   \n",
        "6. **Sélectionner les lignes** en fonction d'un critère, par exemple la localisation tumorale.\n",
        "7. **Supprimer les doublons et gérer les valeurs manquantes**  \n",
        "8. **Sauvegarder les bases de données nettoyées**  \n",
        "\n",
        "\n",
        "## 📚 Données disponibles  \n",
        "Les données extraites de la **base de données patient** comprennent :  \n",
        "✔️ ID patients (anonymisés)    \n",
        "✔️ Prescriptions médicales (dose totale, dose/fr, nombre de fr)    \n",
        "✔️ Codes CIM (classification internationale des maladies)   \n",
        "✔️ Noms du course, du plan et des arcs   \n",
        "✔️ Date de dernière modification  \n",
        "✔️ Nom du PTV   \n",
        "✔️ Algorithme, grille de calcul, technique utilisée (3D, IMRT ou VMAT)  \n",
        "✔️ Machine et énergie utilisée  \n",
        "✔️ Métriques de complexité calculées pour chaque arc de traitement des plans VMAT  \n",
        "✔️ Nombre d'UM pour chaque arc  \n",
        "✔️ Résultats du CQ pré-traitement  \n",
        "\n",
        "---\n",
        "\n",
        "## 🔹 2.1 Import des données en Python  \n",
        "\n",
        "📥 **Les données ont été collectées automatiquement depuis Aria via un exécutable C# et stockées dans un fichier CSV.**  \n",
        "Nous allons les **importer** et les stocker dans un `DataFrame` avec **Pandas**.\n"
      ]
    },
    {
      "cell_type": "markdown",
      "id": "63c40bdf-db6a-489a-bd54-4bc79bf54d89",
      "metadata": {
        "id": "63c40bdf-db6a-489a-bd54-4bc79bf54d89"
      },
      "source": [
        "\n",
        "\n",
        "En **Python**, plusieurs structures permettent de stocker et manipuler des données sous forme de tableaux, vecteurs ou matrices. Voici un aperçu des principales bibliothèques utilisées :\n",
        "\n",
        "- **Listes Python (`list`)** : Structures de base pour stocker une séquence d’éléments (hétérogènes).\n",
        "- **Numpy (`numpy.array`)** : Permet de travailler efficacement avec des tableaux multidimensionnels homogènes.\n",
        "- **Pandas (`pandas.DataFrame`)** : Idéal pour manipuler des données tabulaires avec des colonnes de types différents.\n",
        "\n",
        "<img src=\"https://balachandark.com/wp-content/uploads/2022/08/dataStructuresNew.png\" alt=\"drawing\" width=\"500\"/>\n",
        "\n",
        "\n",
        "\n",
        "\n",
        "En **Machine Learning et Data Science**, les données brutes sont généralement stockées sous forme de **fichiers CSV** ou d’autres formats tabulaires. Pour exploiter ces données efficacement, on utilise la bibliothèque **Pandas**, qui permet de stocker les données dans un **DataFrame**.\n",
        "\n",
        "🔗 [Documentation Pandas - Introduction](https://pandas.pydata.org/docs/getting_started/intro_tutorials/01_table_oriented.html)  \n",
        "\n",
        "**🔹 Qu'est-ce qu'un `DataFrame` ?**    \n",
        "Un **`DataFrame`** est une structure de données tabulaire composée de **lignes** et de **colonnes**, similaire à une feuille Excel ou une base de données SQL. Contrairement aux **tableaux NumPy**, un `DataFrame` peut contenir différents types de données :\n",
        "- **Texte** (chaînes de caractères)\n",
        "- **Valeurs numériques** (entiers, flottants)\n",
        "- **Booléens** (`True` / `False`)\n",
        "- **Dates, objets catégoriels, etc.**\n",
        "\n",
        "<img src=\"https://pandas.pydata.org/docs/_images/01_table_dataframe.svg\" alt=\"drawing\" width=\"400\"/>\n",
        "\n",
        "\n",
        "> ⚠ **En ML, la convention veut que 1 ligne = 1 observation et 1 colonne = 1 variable. La base de données a autant de lignes que d'observations et autant de colonnes que de variables pour chaque observation.**\n",
        "\n",
        "\n",
        "Dans notre exemple : les lignes seront chaque faisceau mesuré et les colonnes la description du faisceau (nom du faisceau, nom du plan associé, code CIM de la localisation traitée, ID du patient, nombre d'UM, etc etc) et les métriques de complexité calculées pour chacun de ces faisceaux. A cela s'ajoute une colonne qui représente nos cibles : le taux de pass gamma pour chaque CQ.  \n",
        "\n"
      ]
    },
    {
      "cell_type": "markdown",
      "id": "785a4e2f-a367-4c66-ad7f-ac5cabf03d10",
      "metadata": {
        "id": "785a4e2f-a367-4c66-ad7f-ac5cabf03d10"
      },
      "source": [
        "### 📥 Importation des bibliothèques nécessaires"
      ]
    },
    {
      "cell_type": "code",
      "execution_count": null,
      "id": "e3cf8229-0273-4445-a99a-3e38610cc149",
      "metadata": {
        "id": "e3cf8229-0273-4445-a99a-3e38610cc149"
      },
      "outputs": [],
      "source": [
        "# On charge les bibliothèques nécessaires\n",
        "# C'est plus simple de charger d'un coup en début de notebook toutes les bibliothèques qui seront nécessaires pour compiler toutes les cellules du notebook.\n",
        "\n",
        "# Gestion des avertissements\n",
        "import warnings  # Ignore certains avertissements inutiles lors de l'exécution du code\n",
        "\n",
        "import pandas as pd  # Gestion des DataFrames\n",
        "import numpy as np   # Calculs numériques\n",
        "import re            # Recherche et manipulation de chaînes de caractères\n",
        "\n",
        "warnings.filterwarnings(\"ignore\")  # Désactiver les warnings pour ne pas surcharger l'affichage"
      ]
    },
    {
      "cell_type": "markdown",
      "id": "b94c6075-7ecb-4d61-8c90-d7853dc9805a",
      "metadata": {
        "id": "b94c6075-7ecb-4d61-8c90-d7853dc9805a"
      },
      "source": [
        "### 🖨️ Chargement des données"
      ]
    },
    {
      "cell_type": "code",
      "execution_count": null,
      "id": "66accace-bea2-4b77-8d13-2edd05a175f7",
      "metadata": {
        "id": "66accace-bea2-4b77-8d13-2edd05a175f7"
      },
      "outputs": [],
      "source": [
        "# Chargement des données dans un DataFrame Pandas\n",
        "df = pd.read_csv(\"/content/RAWDATABASE.csv\",\n",
        "              sep = \";\", # le csv a été généré avec une virgule comme séparateur\n",
        "              header=0   # on indique que le nom des colonnes est sur la 1ère ligne du csv.\n",
        "              )\n",
        "# Affichage des premières lignes pour vérifier l'importation\n",
        "df.head()"
      ]
    },
    {
      "cell_type": "markdown",
      "id": "56846760-d145-4ded-ac50-3d84c9ff7635",
      "metadata": {
        "id": "56846760-d145-4ded-ac50-3d84c9ff7635"
      },
      "source": [
        "### 📊 Vérification des données  \n",
        "Nous utilisons `info()` et `describe()` pour explorer les données importées :\n",
        "- **`info()`** : Affiche le nombre de lignes, de colonnes et les types de données.\n",
        "- **`describe()`** : Donne un résumé statistique des colonnes numériques.\n"
      ]
    },
    {
      "cell_type": "code",
      "execution_count": null,
      "id": "2e1715e1-abc7-4792-8725-39300655451e",
      "metadata": {
        "id": "2e1715e1-abc7-4792-8725-39300655451e"
      },
      "outputs": [],
      "source": [
        "# Informations générales sur la base de données\n",
        "df.info()"
      ]
    },
    {
      "cell_type": "markdown",
      "id": "97cf99b5-10b7-4b37-a88d-7dfc9e28f01b",
      "metadata": {
        "id": "97cf99b5-10b7-4b37-a88d-7dfc9e28f01b"
      },
      "source": [
        "📌 **Observations :**  \n",
        "- **2417 lignes** et **288 colonnes**  \n",
        "- Types de variables :  \n",
        "  - **`float64`** (valeurs numériques réelles)  \n",
        "  - **`int64`** (entiers)  \n",
        "  - **`object`** (chaînes de caractères)  "
      ]
    },
    {
      "cell_type": "code",
      "execution_count": null,
      "id": "9e703745-9895-49ed-9424-811ca69ca48e",
      "metadata": {
        "id": "9e703745-9895-49ed-9424-811ca69ca48e"
      },
      "outputs": [],
      "source": [
        "# Affichage des statistiques descriptives\n",
        "df.describe()"
      ]
    },
    {
      "cell_type": "markdown",
      "id": "efb0cf98-63e0-4c23-aedf-b50b8e8e8e37",
      "metadata": {
        "id": "efb0cf98-63e0-4c23-aedf-b50b8e8e8e37"
      },
      "source": [
        "### 📋 Identification des types de données par colonne\n",
        "Nous allons maintenant identifier les colonnes en fonction de leur type."
      ]
    },
    {
      "cell_type": "code",
      "execution_count": null,
      "id": "f5bced6d-2259-4840-b1b5-b3b2bf4a918a",
      "metadata": {
        "id": "f5bced6d-2259-4840-b1b5-b3b2bf4a918a"
      },
      "outputs": [],
      "source": [
        "# liste des noms des colonnes de df : df.columns\n",
        "# Contenu d'une colonne intitulée par exemple \"AAV\" : df[\"AAV\"]\n",
        "# Type de variable dans la colonne d'un dataframe : df[\"AAV\"].dtype\n",
        "\n",
        "# Colonnes contenant des valeurs numériques flottantes\n",
        "float_cols = [c for c in df.columns if df[c].dtype == \"float64\"] # [\"c\" pour chaque \"c\" parmis les noms de colonnes de df dont les données sont des floats]\n",
        "\n",
        "# Colonnes contenant des valeurs entières\n",
        "int_cols = [c for c in df.columns if df[c].dtype == \"int64\"]\n",
        "\n",
        "# Colonnes contenant du texte ou des objets non définis\n",
        "object_cols = [c for c in df.columns if df[c].dtype == \"object\"]\n",
        "\n",
        "print(f\"Colonnes float :\" , float_cols)\n",
        "print(f\"Colonnes int :\" , int_cols)\n",
        "print(f\"Colonnes object : \", object_cols)\n",
        "# En général les données qui comportent du texte sont importées comme des objets. Si on veut les utiliser, il faut dire à pandas que ce sont des string par exemple\n",
        "# Il est important de savoir comment les données ont été collectées pour anticiper des problèmes"
      ]
    },
    {
      "cell_type": "markdown",
      "id": "ec8c8d9b-504c-4de9-98a8-49ffa7f25aeb",
      "metadata": {
        "id": "ec8c8d9b-504c-4de9-98a8-49ffa7f25aeb"
      },
      "source": [
        "📌 Ici avoir un oeil d'\"expert\" sur les données s'avère utile : c'est normal que le Patient_ID soit considéré comme un int mais les colonnes de valeurs min qui sont sorties sont sans doute toutes à zéro. On pourra donc les supprimer de la base."
      ]
    },
    {
      "cell_type": "markdown",
      "id": "8f8d6eb8-b6c6-4a65-a6b5-842ae09e4fc9",
      "metadata": {
        "id": "8f8d6eb8-b6c6-4a65-a6b5-842ae09e4fc9"
      },
      "source": [
        "## 🔹 2.2 Suppression des données inutiles\n",
        "\n",
        "Toutes les données ne sont pas pertinentes pour l’analyse.  \n",
        "Nous appliquons plusieurs filtres pour **nettoyer la base** :\n",
        "\n",
        "### 🔍 Suppression des lignes inutiles\n",
        "✔️ **Suppression des données non issues de plans VMAT**  \n",
        "✔️ **Filtrage par machine et algorithme de calcul**  \n",
        "✔️ **Exclusion des valeurs non renseignées (notées `NR` dans la base au moment de la collecte)**  \n"
      ]
    },
    {
      "cell_type": "markdown",
      "id": "86f4f661-c758-4ed4-8b1d-ac7aaae9f1d6",
      "metadata": {
        "id": "86f4f661-c758-4ed4-8b1d-ac7aaae9f1d6"
      },
      "source": [
        "On garde les données Novalis, en VMAT, l'algo AAA avec grille de calcul 0.25  \n",
        "Dans cet exemple, on supprime également les lignes où le code CIM est absent car par la suite on va filtrer les données pour ne garder que les localisations pelviennes."
      ]
    },
    {
      "cell_type": "code",
      "execution_count": null,
      "id": "d12d960a-5233-4748-a5a0-d884480e99b8",
      "metadata": {
        "id": "d12d960a-5233-4748-a5a0-d884480e99b8"
      },
      "outputs": [],
      "source": [
        "# Suppression des techniques non pertinentes\n",
        "df = df[df.Technique != 'DoseDynamic']  # On ne garde que les faisceaux VMAT\n",
        "\n",
        "# Filtrage sur la machine utilisée\n",
        "df = df[df.Machine == 'NOVALIS']\n",
        "\n",
        "# Exclusion des faisceaux sans résultats de CQ\n",
        "df = df[df.Gamma22loc10 != 'NR']\n",
        "\n",
        "# Sélection des plans avec une grille de calcul spécifique\n",
        "df = df[df.Plan_CalcGrid == 0.25]\n",
        "\n",
        "# Conservation uniquement des plans AAA (exclusion des plans Acuros)\n",
        "df = df[df.Plan_ModeleCalc != 'Acuros_1610']\n",
        "\n",
        "# Suppression des lignes sans code CIM\n",
        "df = df[df.CIM != 'NR']\n"
      ]
    },
    {
      "cell_type": "markdown",
      "id": "9ad8e3d0-04e7-4ea5-ab28-f3e642eb8fc4",
      "metadata": {
        "id": "9ad8e3d0-04e7-4ea5-ab28-f3e642eb8fc4"
      },
      "source": [
        "📌 **Vérification après filtrage :**\n",
        "Nous revérifions les données après suppression des éléments non pertinents.\n"
      ]
    },
    {
      "cell_type": "code",
      "execution_count": null,
      "id": "455faee5-7d05-48d3-82a3-155397d896b9",
      "metadata": {
        "id": "455faee5-7d05-48d3-82a3-155397d896b9"
      },
      "outputs": [],
      "source": [
        "df.info()"
      ]
    },
    {
      "cell_type": "markdown",
      "id": "502acc22-3ccc-48c5-9725-be0005a3351e",
      "metadata": {
        "id": "502acc22-3ccc-48c5-9725-be0005a3351e"
      },
      "source": [
        "### 🔍 Suppression des colonnes inutiles\n",
        "\n",
        "Certaines colonnes ne sont plus nécessaires, nous allons donc les supprimer."
      ]
    },
    {
      "cell_type": "markdown",
      "id": "81cc55d6-e5ff-4ea0-bf09-eab2517b01a8",
      "metadata": {
        "id": "81cc55d6-e5ff-4ea0-bf09-eab2517b01a8"
      },
      "source": [
        "<div class=\"alert alert-block alert-danger\">\n",
        "<b>Attention:</b> La cellule ci-dessous ne peut être exécutée qu'une seule fois. La 2nde fois, elle affichera une erreur car les colonnes demandées ont déjà été supprimées.\n",
        "</div>"
      ]
    },
    {
      "cell_type": "code",
      "execution_count": null,
      "id": "1342ca1f-bacf-47ae-9d50-c7468b1cff39",
      "metadata": {
        "id": "1342ca1f-bacf-47ae-9d50-c7468b1cff39"
      },
      "outputs": [],
      "source": [
        "# Suppression des colonnes qui sont des objets indéfinis à part celle du code CIM\n",
        "for c in df.columns:\n",
        "    if c !='CIM' :\n",
        "        if df[c].dtype == 'object':\n",
        "            df = df.drop(columns=[c])\n",
        "\n",
        "# Suppression des colonnes non pertinentes\n",
        "df = df.drop(columns=['Patient_ID', 'Unnamed: 0', 'Plan_DoseParFraction', 'Plan_CalcGrid'])\n",
        "\n",
        "# Réinitialisation de l'index du DataFrame après suppression de lignes\n",
        "df = df.reset_index(drop=True) #l'option drop=True permet de supprimer la colonne qui est créée par défaut sinon et qui comporte les anciens index\n",
        "\n",
        "# Affichage des premières lignes après nettoyage\n",
        "df.head()"
      ]
    },
    {
      "cell_type": "markdown",
      "id": "f0964387-103a-495d-b306-e1d8dfbe56d5",
      "metadata": {
        "id": "f0964387-103a-495d-b306-e1d8dfbe56d5"
      },
      "source": [
        "## 🔹 2.3 Sélection des données pour une région spécifique : Pelvis\n",
        "\n",
        "Nous choisissons de ne conserver que les faisceaux dont les plans sont dédiés aux **localisations pelviennes**.\n"
      ]
    },
    {
      "cell_type": "code",
      "execution_count": null,
      "id": "8f8e8790-8691-4a78-b4fe-9fafeba2f6bf",
      "metadata": {
        "id": "8f8e8790-8691-4a78-b4fe-9fafeba2f6bf"
      },
      "outputs": [],
      "source": [
        "# Liste des codes CIM correspondant aux localisations pelviennes\n",
        "code_pelv = [\n",
        "    'C18.7', 'C19', 'C20', 'C21.0', 'C21.1', 'C51.8', 'C51.9', 'C52', 'C53.0', 'C53.1',\n",
        "    'C53.8', 'C53.9', 'C54.1', 'C54.8', 'C54.9', 'C56', 'C61', 'C62.9', 'C66', 'C67.8',\n",
        "    'C67.9', 'C77.4', 'C77.5', 'C79.1', 'C79.3', 'C79.5', 'C82.9', 'D26.1'\n",
        "]\n",
        "\n",
        "# Conversion de la colonne CIM (object) en type string\n",
        "df[\"CIM\"] = df[\"CIM\"].astype(str)\n",
        "\n",
        "# Suppression des espaces parasites dans les codes CIM\n",
        "df[\"CIM\"] = df[\"CIM\"].str.strip()\n",
        "\n",
        "# Filtrage du DataFrame pour ne garder que les localisations pelviennes\n",
        "df = df[df[\"CIM\"].isin(code_pelv)]\n"
      ]
    },
    {
      "cell_type": "markdown",
      "id": "2e87f85b-099e-47e6-83d0-56d4fabbbe5c",
      "metadata": {
        "id": "2e87f85b-099e-47e6-83d0-56d4fabbbe5c"
      },
      "source": [
        "<div class=\"alert alert-block alert-danger\">\n",
        "<b>Attention:</b> La cellule ci-dessous ne peut être exécutée qu'une seule fois. La 2nde fois, elle affichera une erreur car les colonnes demandées ont déjà été supprimées.\n",
        "</div>"
      ]
    },
    {
      "cell_type": "code",
      "execution_count": null,
      "id": "dc7cec98-45c2-4bcf-bcdc-d68e8d88965f",
      "metadata": {
        "id": "dc7cec98-45c2-4bcf-bcdc-d68e8d88965f"
      },
      "outputs": [],
      "source": [
        "# Une fois que le filtrage en fonction des codes CIM a été fait, on n'a plus besoin de cette colonne donc on la supprime\n",
        "df = df.drop(columns = [\"CIM\"])"
      ]
    },
    {
      "cell_type": "markdown",
      "id": "54fd88a9-fa89-478f-9b4f-df50128c1819",
      "metadata": {
        "id": "54fd88a9-fa89-478f-9b4f-df50128c1819"
      },
      "source": [
        "## 🔹 2.4 Suppression des doublons et des valeurs manquantes\n",
        "\n",
        "Nous allons maintenant :   \n",
        "✔️ Supprimer les **lignes dupliquées**  \n",
        "✔️ Supprimer les **lignes avec des valeurs manquantes**\n",
        "\n",
        ">Dans notre exemple, la méthode la plus robuste pour gérer les valeurs manquantes est de supprimer les lignes concernées. Il faut cependant prendre garde que les lignes qui ont des valeurs manquantes n'ont pas une particularité commune qui pourrait biaiser la base de données finale si on les efface. Par exemple si il y a eu un bug de calcul d'une métrique pour tous les faisceaux avec une position de MLC particulière. Si on les supprime simplement, on va supprimer de la base des données importantes. Il vaut donc mieux aller regarder de plus près les lignes où il y a des données manquantes (\"not a number\").   \n",
        "\n",
        ">Selon les cas, il est également possible de combler les éventuelles valeurs manquantes en leur attribuant une valeur (zéro, moyenne, médiane), des fonctions scikit-learn le font automatiquement.\n"
      ]
    },
    {
      "cell_type": "code",
      "execution_count": null,
      "id": "596988f1-af42-4983-805c-0f1ab0f4105e",
      "metadata": {
        "id": "596988f1-af42-4983-805c-0f1ab0f4105e"
      },
      "outputs": [],
      "source": [
        "# Suppression des lignes dupliquées\n",
        "df = df.drop_duplicates()\n",
        "\n",
        "# Suppression des lignes contenant des valeurs manquantes\n",
        "df = df.dropna()\n",
        "\n",
        "# Vérification de la taille finale du DataFrame\n",
        "df.info()"
      ]
    },
    {
      "cell_type": "markdown",
      "id": "6d5a8129-9a78-4115-bcd6-f303e6eee61c",
      "metadata": {
        "id": "6d5a8129-9a78-4115-bcd6-f303e6eee61c"
      },
      "source": [
        "## 💾 **Sauvegarde de la base pré-nettoyée en CSV**\n",
        "\n",
        "Une fois les données filtrées, nous les enregistrons pour une utilisation future."
      ]
    },
    {
      "cell_type": "code",
      "execution_count": null,
      "id": "2f527fdf-48b3-4457-ba83-fe0f66666c32",
      "metadata": {
        "id": "2f527fdf-48b3-4457-ba83-fe0f66666c32"
      },
      "outputs": [],
      "source": [
        "#La méthode \"to_csv\" appliquée à l'objet DataFrame df permet de sauver directement le dataframe en csv.\n",
        "#Par défaut le séparateur est une virgule\n",
        "df.to_csv('DataSet_RegionPelvienne.csv')"
      ]
    },
    {
      "cell_type": "markdown",
      "id": "a0aaa139-a4fe-491a-82cf-8e9eddfb1bdd",
      "metadata": {
        "id": "a0aaa139-a4fe-491a-82cf-8e9eddfb1bdd"
      },
      "source": [
        "📌 **Un fichier CSV a été créé et est prêt pour les prochaines étapes du projet** 🚀"
      ]
    },
    {
      "cell_type": "markdown",
      "id": "eafa9ec4-6780-4684-934d-db7f5451eaf0",
      "metadata": {
        "id": "eafa9ec4-6780-4684-934d-db7f5451eaf0"
      },
      "source": [
        "<font size = 6>⚠️</font>\n",
        "\n",
        "**Télécharger le fichier**"
      ]
    }
  ],
  "metadata": {
    "kernelspec": {
      "display_name": "Python 3 (ipykernel)",
      "language": "python",
      "name": "python3"
    },
    "language_info": {
      "codemirror_mode": {
        "name": "ipython",
        "version": 3
      },
      "file_extension": ".py",
      "mimetype": "text/x-python",
      "name": "python",
      "nbconvert_exporter": "python",
      "pygments_lexer": "ipython3",
      "version": "3.9.21"
    },
    "colab": {
      "provenance": [],
      "include_colab_link": true
    }
  },
  "nbformat": 4,
  "nbformat_minor": 5
}