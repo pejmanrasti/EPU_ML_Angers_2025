{
 "cells": [
  {
   "cell_type": "markdown",
   "id": "cbb1db5f-4f6d-4199-b4de-2ddc475e7afc",
   "metadata": {},
   "source": [
    "# 🏆 Quelles sont les étapes clés d'un projet de machine learning ?\n",
    "\n",
    "## 📌 1. Définir le problème\n",
    "<img src=\"https://resize.prod.femina.ladmedia.fr/rblr/652,438/img/var/2022-07/faim.jpg\" alt=\"drawing\" width=\"250\"/>\n",
    "\n",
    "- **Objectif** : Quel est le problème à résoudre ?\n",
    "- **Utilisation en clinique** : Qui utilisera le modèle ? Dans quel contexte ? Quelles sont les contraintes ?\n",
    "- **Alternative plus simple** : Existe-t-il une solution déjà efficace ?\n",
    "- **Formulation du problème** : Apprentissage supervisé ou non ? Classification ou régression ? Nature des données ?\n",
    "- **Mesurer la performance** : Quel critère d’évaluation choisir ? Quelle est la performance minimale attendue ?\n",
    "\n",
    "## 📌 2. Récupérer les données\n",
    "<img src=\"https://media.sudouest.fr/4376836/1000x500/so-57ef9aae66a4bdef1ea1355b-ph0.jpg?v=1475255423\" alt=\"drawing\" width=\"250\"/>\n",
    "\n",
    "- Identifier les données nécessaires.\n",
    "- Respect du RGPD\n",
    "- Convertir les données dans un format exploitable.\n",
    "- Automatiser la collecte autant que possible.\n",
    "\n",
    "## 📌 3. Analyser et nettoyer les données\n",
    "<img src=\"https://media.ouest-france.fr/v1/pictures/MjAyMjEwYjQ0MzIyZTE4NGFiYzM0YTU4ZDIyZTM2ZDZmZTg4NmM?width=375&focuspoint=50%2C25&cropresize=1&client_id=bpeditorial&sign=89c32ae29d2fc85f6aa43066b71f527da91e0031af1b47467d4eae4ce6748323\" alt=\"drawing\" width=\"250\"/>\n",
    "\n",
    "- Identifier les types de données (quantitatives, qualitatives, etc.).\n",
    "- Détecter et traiter les valeurs manquantes et les données aberrantes (erreurs, outliers, etc.).\n",
    "- Visualiser les distributions et corrélations.\n",
    "- Vérifier la possibilité d’une résolution manuelle du problème (ex : on découvre une forte corrélation entre une variable et les cibles)\n",
    "- Supprimer les données non pertinentes.\n",
    "\n",
    "## 📌 4. Préparer les données\n",
    "<img src=\"https://resize.elle.fr/original/var/plain_site/storage/images/elle-a-table/les-dossiers-de-la-redaction/news-de-la-redaction/comment-cuisiner-les-pieds-de-champignons-4176707/100747611-1-fre-FR/Ne-jetez-plus-les-pieds-de-champignons-5-astuces-pour-ne-plus-les-gaspiller.jpg\" alt=\"drawing\" width=\"250\"/>\n",
    "\n",
    "- Transformer les variables : transformer des variables discrètes en variables continues ou inversement au besoin, appliquer des transformations potentiellement intéressantes (log, racine, carré, etc), combiner des variables entre-elles\n",
    "- Calibrer les variables\n",
    "- Séparer les données : **conserver un jeu de test indépendant**.\n",
    "\n",
    "## 📌 5. Évaluer plusieurs modèles\n",
    "<img src=\"https://lescommis-strapi-media.s3.eu-west-3.amazonaws.com/20190711_104710_8774a0046e.jpg\" alt=\"drawing\" width=\"350\"/>\n",
    "\n",
    "- Tester différentes familles d’algorithmes (régression, arbres, SVM, réseaux de neurones, etc.).\n",
    "- Sélectionner les variables pertinentes pour chaque modèle.\n",
    "- Tester les modèles avec des **hyperparamètres par défaut** ou via une recherche rapide.\n",
    "- Comparer les performances via **validation croisée**.\n",
    "- Sélectionner les modèles les plus prometteurs.\n",
    "\n",
    "## 📌 6. Réglage fin des modèles\n",
    "<img src=\"https://www.super-marmite.com/wp-content/uploads/2021/11/mettre-du-sel-696x425.jpg\" alt=\"drawing\" width=\"300\"/>\n",
    "\n",
    "- Optimiser les hyperparamètres par **validation croisée**.\n",
    "- Eventuellement tester des **méthodes ensemblistes** (combinaison de plusieurs modèles).\n",
    "- **Évaluer la performance finale** sur les données test. Attention à ne pas utiliser les données test pendant le réglage du modèle ou à modifier le réglage du modèle en fonction des résultats obtenus sur les données test sinon la mesure de l'erreur de généralisation sur les données test sera biaisée de manière optimiste (sur-ajustement sur les données test).\n",
    "\n",
    "## 📌 7. Surveiller son modèle\n",
    "<img src=\"https://s.rfi.fr/media/display/6d1cef12-6e7e-11ef-a0f0-005056a90284/w:980/p:16x9/MAUX%20DE%20VENTRE%20-%20iStock-962782170.jpg\" alt=\"drawing\" width=\"250\"/>\n",
    "\n",
    "- **Vérifier la stabilité du modèle** en routine.\n",
    "- Surveiller l’impact des **évolutions des données d’entrée** (nouveau capteur, mise à jour d’algorithme, etc.).\n",
    "- Si les données changent, **réentraîner le modèle** pour maintenir ses performances.\n",
    "\n",
    "\n"
   ]
  },
  {
   "cell_type": "markdown",
   "id": "4313f8c4-de6f-4239-8405-2cfdce603df8",
   "metadata": {},
   "source": [
    "  \n",
    "  \n",
    "  \n",
    "  \n",
    "  Ressource bibliographie: 🔗 [Dunod - ML-avec-scikit-learn](https://www.dunod.com/sciences-techniques/machine-learning-avec-scikit-learn-mise-en-oeuvre-et-cas-concrets-1)\n",
    "  \n",
    "  \n",
    "  ![image.png](https://www.dunod.com/sites/default/files/styles/principal_desktop/public/thumbnails/image/9782100847686-001-X.jpeg)!\n",
    "  \n",
    "  Vidéos sur la statistique, le ML et le DL : 🔗 [Chaine Youtube -StatQuest](https://www.youtube.com/@statquest)\n",
    "  \n",
    "  Documentation en ligne de scikit learn : 🔗 [Documentation - Scikit](https://scikit-learn.org/stable/index.html)"
   ]
  },
  {
   "cell_type": "markdown",
   "id": "tpRr1WvXN5FN",
   "metadata": {
    "id": "tpRr1WvXN5FN"
   },
   "source": [
    "\n",
    "\n",
    "---\n",
    "\n",
    "\n",
    "\n",
    "---\n",
    "\n"
   ]
  }
 ],
 "metadata": {
  "celltoolbar": "Diaporama",
  "colab": {
   "provenance": [],
   "toc_visible": true
  },
  "kernelspec": {
   "display_name": "Python 3 (ipykernel)",
   "language": "python",
   "name": "python3"
  },
  "language_info": {
   "codemirror_mode": {
    "name": "ipython",
    "version": 3
   },
   "file_extension": ".py",
   "mimetype": "text/x-python",
   "name": "python",
   "nbconvert_exporter": "python",
   "pygments_lexer": "ipython3",
   "version": "3.9.21"
  }
 },
 "nbformat": 4,
 "nbformat_minor": 5
}
