{
 "cells": [
  {
   "cell_type": "markdown",
   "id": "8da40149-a5bb-44eb-8ee2-31b63088ec70",
   "metadata": {},
   "source": [
    "<font size = 8> ⚠️</font>\n",
    "\n",
    "#  ERREURS COURANTES \n",
    "🔗 [Documentation Scikit - Erreurs courantes](https://scikit-learn.org/stable/common_pitfalls.html)"
   ]
  },
  {
   "cell_type": "markdown",
   "id": "3fbe9482-1f36-42fe-9aad-52da3aa90437",
   "metadata": {},
   "source": [
    "##  1. Pré-traitement des données incohérent"
   ]
  },
  {
   "cell_type": "markdown",
   "id": "aed62dda-0f78-40a8-9e97-1e0088435866",
   "metadata": {},
   "source": [
    "Les transformations appliquées aux variables d'entrainement doivent également l'être aux variables test et aux données nouvelles à prédire. Sinon le type des données d'entrée sera différent des données sur lesquelles le modèle s'est entrainé (ordre de grandeur, distribution, etc) et donc il ne sera plus performant pour faire des prédictions.    \n",
    "Par exemple, si les données d'entrainement sont normalisées par rapport à leur moyenne et leur écart-type, alors les données test et toute nouvelle donnée doivent être normalisées par rapport à la moyenne et l'écart-type des données d'<u>entrainement<u>. "
   ]
  },
  {
   "cell_type": "markdown",
   "id": "9c146f8f-6d56-424d-9eed-bd52789747de",
   "metadata": {},
   "source": [
    "##  2. La fuite de données "
   ]
  },
  {
   "cell_type": "markdown",
   "id": "ea01ceaa-3696-4de4-b3f9-0ad687e1a15f",
   "metadata": {},
   "source": [
    "<font size = 4> <span style=\"color:#2980b9\">**Qu'est-ce que c'est ?**</span></font>\n",
    "\n",
    "\n",
    "La fuite de données se produit lorsque le modèle est créé avec des informations qui ne seront pas présentes lorsqu'il devra faire des prédictions sur des données nouvelles. La fuite de données conduit souvent à une estimation trop optimiste des performances du modèle sur la validation croisée ou sur les données test, par rapport à ses performances sur des données réellement nouvelles, en condition réelles. \n",
    "\n",
    "<font size = 4><span style=\"color:#2980b9\">**D'où elle vient ?**</span></font>\n",
    "\n",
    "\n",
    "- Ne pas séparer les données en sous-ensemble d'entrainement et de test : les données test doivent pouvoir être considérées comme des données nouvelles, jamais vues par le modèle. \n",
    "- Utiliser les données tests pour sélectionner un algorithme ou les paramètres d'un modèle : on ne dispose alors plus de données indépendantes pour évaluer les performances du modèle final sur des données \"en conditions réelles\"\n",
    "- Appliquer des transformations aux données test qui ont été \"apprises\" sur l'ensemble des données et pas seulement les données d'entrainement : \n",
    "    - Règle numéro 1 : **ne jamais appliquer de méthode fit sur les données test**, notamment lors du pré-traitement des données\n",
    "    - les sous-ensemble d'entrainement et de test doivent certes recevoir les mêmes transformations, mais ces transformations doivent uniquement être apprises sur les données d'entrainement ! Par exemple, si vous avez une étape de normalisation où vous divisez par la valeur moyenne, la moyenne doit être la moyenne du sous-ensemble d'entraînement, et **non** la moyenne de toutes les données. Si le sous-ensemble de test est inclus dans le calcul de la moyenne, les informations du sous-ensemble de test influencent le modèle.\n",
    "\n",
    "<font size = 4><span style=\"color:#2980b9\">**Comment l'éviter ?**</span></font>\n",
    "\n",
    "\n",
    "- Séparer les données en sous-ensembles d'entrainement et de tests **AVANT** le pré-traitement des données (erreur TRES couramment retrouvée dans la littérature sur les modèles ML appliqués à la physique médicale). \n",
    "- Ne **JAMAIS** appliquer de méthode fit() ou fit_transform() aux données test. Par contre, il faut appliquer la méthode transform() aux données test après avoir appliqué la méthode fit() ou fit_transform() aux données d'entrainement, afin d'appliquer aux données test les transformations apprises sur les données d'entrainement, sinon on se retrouve dans l'erreur citée dans la partie 1. \n",
    "- L'utilisation des **pipeline** de scikit learn est le meilleur moyen d'éviter au maximum les fuites de données, même pendant la cross-validation : https://scikit-learn.org/stable/modules/compose.html#pipeline\n"
   ]
  },
  {
   "cell_type": "markdown",
   "id": "9d797840-962d-42c7-8f89-5aca00c6f2bd",
   "metadata": {},
   "source": [
    "## 3. Le contrôle de la graine aléatoire"
   ]
  },
  {
   "cell_type": "markdown",
   "id": "fea1f4c3-95d4-47db-b83b-e95996acb38b",
   "metadata": {},
   "source": [
    "Beaucoup de processus ont un caractère aléatoire intrinsèque comme les algorithmes de ML et la séparation des données lors des cross-validations.    \n",
    "Pour assurer la reproductibilité des résultats au cours de plusieurs executions  (utile quand on veut évaluer l'impact de certains paramètres, ou lorsque l'on veut publier les résultats), il faut fixer la graine aléatoire de ces processus. Le mieux est de le faire via le paramètre random_state = un nombre entier fixé. Dès que l'option random_state est disponible pour un processus donné, il faut fixer ce paramètre."
   ]
  }
 ],
 "metadata": {
  "kernelspec": {
   "display_name": "Python 3 (ipykernel)",
   "language": "python",
   "name": "python3"
  },
  "language_info": {
   "codemirror_mode": {
    "name": "ipython",
    "version": 3
   },
   "file_extension": ".py",
   "mimetype": "text/x-python",
   "name": "python",
   "nbconvert_exporter": "python",
   "pygments_lexer": "ipython3",
   "version": "3.9.21"
  }
 },
 "nbformat": 4,
 "nbformat_minor": 5
}
