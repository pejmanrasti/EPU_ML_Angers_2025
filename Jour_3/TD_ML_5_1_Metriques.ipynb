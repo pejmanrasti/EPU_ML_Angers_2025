{
 "cells": [
  {
   "cell_type": "markdown",
   "id": "c2665898-2c4a-49c3-86fe-16039cc9fbc7",
   "metadata": {},
   "source": [
    "1. Définir le problème\n",
    " \n",
    "\n",
    "2. Récupérer les données\n",
    " \n",
    "\n",
    "3. Analyser et nettoyer les données\n",
    "  \n",
    "\n",
    "4. Préparer les données\n",
    "  \n",
    "\n",
    "5. **Evaluer plusieurs modèles**\n",
    "  \n",
    "\n",
    "6. Réglage fin des modèles\n",
    " \n",
    "\n",
    "7. Surveiller son modèle"
   ]
  },
  {
   "cell_type": "markdown",
   "id": "6a24a043-941a-4920-9fc6-72d7af1e111a",
   "metadata": {},
   "source": [
    "# 📌 5. Evaluer plusieurs modèles : les métriques de performance"
   ]
  },
  {
   "cell_type": "markdown",
   "id": "a0e55b63-69f8-4357-bbaf-4b10d8e2165e",
   "metadata": {},
   "source": [
    "## 🚀 Objectif\n",
    "Dans cette section, nous allons parcourir les **métriques de performances** dédiées à la **classification**.  \n",
    "\n",
    "## 🔍 Étapes du processus\n",
    "1. **Importer les bibliothèques nécessaires, charger les données, les séparer en train/test et les transformer**  \n",
    "2. **Présenter les limites de l'exactitude (Accuracy) en comparant une régression logistique à un classifieur naîf**  \n",
    "3. **Présenter le principe de la matrice de confusion**    \n",
    "4. **Afficher des courbes ROC**  \n",
    "5. **S'attarder sur la problématique du compromis précision/rappel**   \n",
    "6. **Afficher des courbes de précision rappel**\n",
    "7. **Faire un bilan**  \n"
   ]
  },
  {
   "cell_type": "code",
   "execution_count": null,
   "id": "65e08ec2-b1c0-4971-94a9-109787d242a7",
   "metadata": {},
   "outputs": [],
   "source": [
    "# Import des bibliothèques nécessaires\n",
    "import warnings  # Pour éviter les warnings inutiles\n",
    "\n",
    "import numpy as np  # Pour les calculs numériques\n",
    "import pandas as pd  # Pour la manipulation des données\n",
    "import matplotlib.pyplot as plt  # Pour la visualisation des résultats\n",
    "import seaborn as sns  # Pour améliorer l'apparence des graphiques\n",
    "\n",
    "# Scikit-learn : outils pour la préparation et l'évaluation des modèles\n",
    "from sklearn.model_selection import (\n",
    "    train_test_split, cross_val_score, cross_val_predict, StratifiedKFold, GridSearchCV\n",
    ")  # Pour diviser les données, validation croisée et recherche de grille\n",
    "from sklearn.preprocessing import StandardScaler  # Pour la normalisation des données\n",
    "from sklearn.metrics import (\n",
    "    roc_auc_score, precision_score, recall_score, f1_score, roc_curve, accuracy_score,\n",
    "    ConfusionMatrixDisplay, confusion_matrix, precision_recall_curve, RocCurveDisplay,\n",
    "    PrecisionRecallDisplay, auc\n",
    ")  # Pour l'évaluation des performances du modèle\n",
    "from sklearn.pipeline import Pipeline  # Pour créer des pipelines de traitement\n",
    "from sklearn.feature_selection import SelectKBest, mutual_info_classif  # Pour la sélection de variables\n",
    "\n",
    "# Importation des algorithmes de classification\n",
    "from sklearn.linear_model import LogisticRegression  # Pour la régression logistique\n",
    "from sklearn.ensemble import (\n",
    "    RandomForestClassifier, GradientBoostingClassifier, AdaBoostClassifier\n",
    ")  # Classifieurs basés sur des ensembles d'arbres\n",
    "from sklearn.svm import SVC  # Pour les machines à vecteurs de support\n",
    "from sklearn.neural_network import MLPClassifier  # Pour les réseaux de neurones\n",
    "from sklearn.naive_bayes import GaussianNB  # Pour le classifieur Naive Bayes Gaussien\n",
    "from sklearn.discriminant_analysis import LinearDiscriminantAnalysis  # Pour l'analyse discriminante linéaire\n",
    "from sklearn.neighbors import KNeighborsClassifier  # Pour le classifieur des k plus proches voisins\n",
    "from imblearn.under_sampling import RandomUnderSampler  # Pour le sous-échantillonnage des données déséquilibrées\n",
    "from sklearn.base import BaseEstimator  # Classe de base pour créer des estimateurs personnalisés\n",
    "\n",
    "warnings.filterwarnings(\"ignore\")  # Désactiver les warnings pour ne pas surcharger l'affichage\n"
   ]
  },
  {
   "cell_type": "markdown",
   "id": "98dec0c9-0b0f-4a35-b91e-c77f6d89dd96",
   "metadata": {
    "id": "7jF8v2f5IJH2"
   },
   "source": [
    "## 🔹5.1. Chargement des données\n",
    "Nous chargeons notre dataset qui contient plusieurs variables explicatives et une variable cible `Echec : 1/0`.\n"
   ]
  },
  {
   "cell_type": "code",
   "execution_count": null,
   "id": "70ad2dff-45e5-4df6-9e7c-90099fdf02e9",
   "metadata": {
    "colab": {
     "base_uri": "https://localhost:8080/",
     "height": 444
    },
    "id": "f9c84e17",
    "outputId": "afdb30b6-3ac7-482a-cc06-ee5e2ee0bfe9"
   },
   "outputs": [],
   "source": [
    "# Chargement des données\n",
    "df = pd.read_csv(\"/content/DataSet_RegionPelvienne_Class.csv\", sep=\",\")\n",
    "df = df.drop(columns=[\"Unnamed: 0\"])  # Suppression de colonnes inutiles\n",
    "\n",
    "# Aperçu des données\n",
    "display(df.head())"
   ]
  },
  {
   "cell_type": "markdown",
   "id": "1e5f1c43-a5a1-489b-ae0e-45dc60f50f2d",
   "metadata": {
    "id": "0d597cd7"
   },
   "source": [
    "### ➡️ Séparation des données en entraînement et test\n",
    "Nous séparons le dataset en :\n",
    "- **70% d'entraînement** pour apprendre au modèle.\n",
    "- **30% de test** pour évaluer ses performances sur des données jamais vues.\n",
    "\n",
    "### ➡️ Sous-échantillonnage de la classe majoritaire\n",
    "Nous équilibrons la base pour éviter un déséquilibre qui pourrait biaiser l'entraînement.\n",
    "\n",
    "### ➡️ Normalisation des variables\n",
    "Les modèles sensibles aux échelles de variables (**SVM, MLP, Régression Logistique**) nécessitent une normalisation."
   ]
  },
  {
   "cell_type": "code",
   "execution_count": null,
   "id": "ae08df01-ed6e-4581-b968-e4525b15e61b",
   "metadata": {},
   "outputs": [],
   "source": [
    "# Séparation des variables explicatives et de la cible\n",
    "y = df['Echec']\n",
    "X = df.drop(columns=['Echec'])\n",
    "\n",
    "# Division des données en entraînement (70%) et test (30%)\n",
    "X_train, X_test, y_train, y_test = train_test_split(X, y, test_size=0.3, stratify=y, random_state=2025)\n",
    "\n",
    "# Sous-échantillonnage de la classe majoritaire pour équilibrer les classes\n",
    "rus = RandomUnderSampler(sampling_strategy={0: len(y_train[y_train == 1]) * 2, 1: len(y_train[y_train == 1])}, random_state=2025)\n",
    "X_train_res, y_train_res = rus.fit_resample(X_train, y_train)\n",
    "\n",
    "# Normalisation des variables\n",
    "scaler = StandardScaler()\n",
    "X_train_res_std = scaler.fit_transform(X_train_res)  # Normalisation des données d'entraînement\n",
    "X_test_std = scaler.transform(X_test)  # Normalisation des données test"
   ]
  },
  {
   "cell_type": "markdown",
   "id": "b0a51770-b02f-4d14-ae74-3043e65273a1",
   "metadata": {},
   "source": [
    "## 🔹 5.2. Les métriques de performance\n",
    "Lorsqu'on entraîne un modèle de ML, il est essentiel d'évaluer ses performances correctement. Cependant, **toutes les métriques ne sont pas adaptées** à tous les problèmes.\n",
    "\n",
    "Dans Scikit-Learn, la **métrique par défaut est souvent l'accuracy**. Or, cette métrique peut être trompeuse pour les problèmes de classification en cas de **déséquilibre de classes**.\n",
    "\n",
    "**Exemple** : Si 90% des exemples appartiennent à la classe 0, un modèle qui prédit toujours 0 aura **90% d'accuracy**, mais il ne détectera jamais la classe minoritaire.\n",
    "\n"
   ]
  },
  {
   "cell_type": "markdown",
   "id": "26a55f86-aea7-4889-9a45-f4ce9222791b",
   "metadata": {},
   "source": [
    ">Nous allons décrire ici les **métriques adaptées à la classification binaire**. D'autres métriques doivent être utilisées si on veut faire de la **classification multiple** ou de la **régression** (prédire directement les valeurs des indices gamma dans notre exemple, au lieu du statut pass/fail).   \n",
    "Les métriques disponibles dans scikit peuvent être retrouvées ici : 🔗 [Documentation Scikit - Metriques](https://scikit-learn.org/stable/modules/model_evaluation.html)     \n",
    "Des métriques personnalisées peuvent aussi être créées manuellement : 🔗 [Documentation Scikit - MetriquesPerso](https://scikit-learn.org/stable/developers/develop.html#rolling-your-own-estimator)"
   ]
  },
  {
   "cell_type": "markdown",
   "id": "a4ecdc7e-73de-482c-bf63-3367d1c76ea5",
   "metadata": {},
   "source": [
    "### 🔍 Comparaison entre une régression logistique et un classifieur naïf\n",
    "Nous allons comparer :\n",
    "1. Une **régression logistique**.\n",
    "2. Un **classifieur naïf** qui prédit toujours la classe majoritaire.\n",
    "\n",
    "Nous utiliserons plusieurs **métriques de performance** :\n",
    "- **Accuracy** : Combien de prédictions sont correctes parmi toutes les prédictions ?\n",
    "- **Précision** (Precision) : Combien de prédictions positives sont correctes ?\n",
    "- **AUC-ROC** : Capacité du modèle à distinguer les classes positives et négatives (vrais positifs en fonction des faux positifs). AU-ROC = 1 -> Prédicteur parfait\n",
    "  \n"
   ]
  },
  {
   "cell_type": "markdown",
   "id": "396fa217-c2e3-44ea-b867-d569751dd233",
   "metadata": {},
   "source": [
    "**Exemple avec une régression logistique**\n",
    "\n",
    "![image.png](https://datatab.fr/assets/tutorial/Logistic-function.png)"
   ]
  },
  {
   "cell_type": "markdown",
   "id": "b888a2d2-59bc-4505-aa0a-7b37df7b6e0f",
   "metadata": {},
   "source": [
    "La fonction logistique a la capacité de transformer un nombre compris entre – l’infini et + l’infini en un nombre compris entre 0 et 1 qui se comporte comme une probabilité. La régression logistique ne permet de résoudre que des problèmes de classification. \n",
    "\n",
    "Vidéo StatQuest qui explique la regression logistique :\n",
    "🔗 [Video StatQuest - Regression Logistique](https://www.youtube.com/watch?v=yIYKR4sgzI8)\n"
   ]
  },
  {
   "cell_type": "code",
   "execution_count": null,
   "id": "e50b9b01-3a1f-4179-a411-60041cfcb702",
   "metadata": {},
   "outputs": [],
   "source": [
    "# Modèle 1 : Régression Logistique\n",
    "# --------------------------------\n",
    "# Création d'un modèle de régression logistique standard.\n",
    "# La régression logistique est un modèle de classification binaire basé sur une fonction logistique.\n",
    "# Ici, on initialise le modèle avec une graine aléatoire fixée pour garantir la reproductibilité.\n",
    "clf_lr = LogisticRegression(random_state=2025)\n",
    "\n",
    "# Entraînement du modèle de régression logistique sur les données normalisées et rééchantillonnées.\n",
    "# - X_train_res_std : Variables explicatives normalisées\n",
    "# - y_train_res : Variable cible (échec ou réussite)\n",
    "clf_lr.fit(X_train_res_std, y_train_res)\n",
    "\n",
    "# Modèle 2 : Classifieur naïf (prédit toujours la classe majoritaire)\n",
    "# -------------------------------------------------------------------\n",
    "# Création d'un classifieur \"stupide\" qui classe systématiquement toutes les observations\n",
    "# dans la classe majoritaire (ici, classe 0, correspondant à \"réussite\").\n",
    "# - On utilise la classe `BaseEstimator` de Scikit-learn pour rendre ce modèle compatible\n",
    "#   avec les outils d'évaluation de Scikit-learn (ex: cross-validation).\n",
    "class TjsReussite(BaseEstimator):\n",
    "    def fit(self, X, y=None):\n",
    "        # Pas d'entraînement nécessaire, le modèle ne fait que des prédictions constantes\n",
    "        pass\n",
    "\n",
    "    def predict(self, X):\n",
    "        # Retourne un tableau rempli de 0 (classe majoritaire) de la même taille que X\n",
    "        return np.zeros(len(X), dtype=int)\n",
    "\n",
    "# Initialisation du classifieur naïf\n",
    "clf_stupid = TjsReussite()\n",
    "\n",
    "# Prédictions sur les données test\n",
    "# --------------------------------\n",
    "# Le modèle de régression logistique prédit les classes sur les données test normalisées.\n",
    "y_pred_lr = clf_lr.predict(X_test_std)\n",
    "\n",
    "# Le classifieur naïf prédit également les classes sur les mêmes données test.\n",
    "y_pred_stupid = clf_stupid.predict(X_test_std)\n",
    "\n",
    "# Calcul des métriques de performance\n",
    "# -----------------------------------\n",
    "# Définition d'un dictionnaire contenant plusieurs métriques d'évaluation :\n",
    "# - \"Accuracy\" : Exactitude, proportion de prédictions correctes\n",
    "# - \"Précision\" : Nombre de prédictions positives correctes sur toutes les prédictions positives\n",
    "# - \"AUC-ROC\" : Aire sous la courbe ROC, mesure de la capacité du modèle à distinguer les classes\n",
    "metrics = {\n",
    "    \"Accuracy\": accuracy_score,\n",
    "    \"Précision\": precision_score,\n",
    "    \"AUC-ROC\": roc_auc_score\n",
    "}\n",
    "\n",
    "# Affichage des performances des deux modèles\n",
    "print(\"\\n📊 Comparaison des modèles\")\n",
    "for metric_name, metric_func in metrics.items():\n",
    "    # Évaluation de chaque métrique pour la régression logistique et le classifieur naïf\n",
    "    print(f\"{metric_name} (Régression Logistique): {metric_func(y_test, y_pred_lr):.2f}\")\n",
    "    print(f\"{metric_name} (Classifieur naïf) : {metric_func(y_test, y_pred_stupid):.2f}\\n\")\n",
    "\n",
    "# Interprétation :\n",
    "# - Si la base de données est très déséquilibrée (ex: 90% de classe 0 et 10% de classe 1),\n",
    "#   alors un classifieur qui prédit systématiquement la classe 0 peut obtenir une *accuracy* élevée\n",
    "#   mais une *précision* et un *AUC-ROC* très faibles.\n",
    "# - L'AUC-ROC est généralement une meilleure mesure que l'accuracy pour évaluer les modèles dans un contexte de classification déséquilibrée.\n"
   ]
  },
  {
   "cell_type": "markdown",
   "id": "c542d85a-a787-458a-a87d-6ec6c77b12bd",
   "metadata": {},
   "source": [
    "<font size = 7>⚠️</font>\n",
    "\n",
    "L'accuracy conduit à **une illusion de performance** si l'on ne regarde pas d'autres métriques.   \n",
    "Elle est souvent utilisée par défaut dans **Scikit-Learn** pour évaluer les modèles, mais elle peut être trompeuse, surtout en **classification avec classes déséquilibrées**. Si elle est utilisée pour rechercher les hyper-paramètres du modèle cela peut **fausser le choix des hyper-paramètres**. "
   ]
  },
  {
   "cell_type": "markdown",
   "id": "4609c727-cb6b-4375-b570-6744fe651ee7",
   "metadata": {},
   "source": [
    "### 🔍 Matrice de confusion\n",
    "Une matrice de confusion permet d'évaluer la qualité des prédictions.\n",
    "Elle affiche :\n",
    "- **Vrais positifs (TP)**\n",
    "- **Faux positifs (FP)**\n",
    "- **Vrais négatifs (TN)**\n",
    "- **Faux négatifs (FN)**\n"
   ]
  },
  {
   "cell_type": "markdown",
   "id": "6fb91515-0d3d-4f82-9526-012a5d63cee9",
   "metadata": {},
   "source": [
    "<img src=\"https://miro.medium.com/v2/resize:fit:969/1*d0UCCIF10Soi7VQGxdVrWQ.jpeg\" alt=\"drawing\" width=\"700\"/>"
   ]
  },
  {
   "cell_type": "code",
   "execution_count": null,
   "id": "77648953-010e-4503-be92-9b118de39b52",
   "metadata": {},
   "outputs": [],
   "source": [
    "# Matrice de confusion pour la régression logistique\n",
    "cm_lr = confusion_matrix(y_test, y_pred_lr)\n",
    "ConfusionMatrixDisplay(confusion_matrix=cm_lr, display_labels=[0, 1]).plot()\n",
    "plt.title(\"Matrice de confusion - Régression Logistique\")\n",
    "plt.show()\n",
    "\n",
    "# Matrice de confusion pour le classifieur naïf\n",
    "cm_stupid = confusion_matrix(y_test, y_pred_stupid)\n",
    "ConfusionMatrixDisplay(confusion_matrix=cm_stupid, display_labels=[0, 1]).plot()\n",
    "plt.title(\"Matrice de confusion - Classifieur Naïf\")\n",
    "plt.show()\n",
    "\n",
    "# Matrice de confusion prédictions parfaites\n",
    "cm_stupid = confusion_matrix(y_test, y_test)\n",
    "ConfusionMatrixDisplay(confusion_matrix=cm_stupid, display_labels=[0, 1]).plot()\n",
    "plt.title(\"Matrice de confusion - Classifieur parfait\")\n",
    "plt.show()"
   ]
  },
  {
   "cell_type": "markdown",
   "id": "43524c61-7c2e-4b29-bb7d-23c3b28c58cd",
   "metadata": {},
   "source": [
    "A partir de la matrice de confusion on a accès à différentes métriques : "
   ]
  },
  {
   "cell_type": "markdown",
   "id": "b645d3e8-575b-4980-a483-3c5d17f9dc51",
   "metadata": {},
   "source": [
    "🔢 **Notations :**\n",
    "- **TP (True Positives)** : Nombre de cas positifs (fail) correctement détectés.\n",
    "- **TN (True Negatives)** : Nombre de cas négatifs (pass) correctement détectés.\n",
    "- **FP (False Positives)** : Nombre de cas négatifs (pass) incorrectement détectés comme positifs (fail).\n",
    "- **FN (False Negatives)** : Nombre de cas positifs (fail) incorrectement détectés comme négatifs (pass).\n",
    "- **P (Positifs réels)** : $ P = TP + FN $ (*total des vrais positifs (fail)*).\n",
    "- **N (Négatifs réels)** : $ N = TN + FP $ (*total des vrais négatifs (pass)*).\n",
    "\n",
    "---\n",
    "\n",
    " 📈 **Formules des métriques**\n",
    "\n",
    "| **Métrique**                          | **Formule**                          | **Interprétation** |\n",
    "|----------------------------------------|:--------------------------------------:|--------------------|\n",
    "| **Probabilité de fausse alarme** (*False Positive Rate - FPR*) | $ \\text{FPR} = \\frac{FP}{N} = 1 - \\text{TNR} $ | Proportion de cas négatifs incorrectement détectés comme positifs. |\n",
    "| **Taux d'échec** (*False Negative Rate - FNR*) | $ \\text{FNR} = \\frac{FN}{P} = 1 - \\text{TPR} $ | Proportion de cas positifs incorrectement détectés comme négatifs. |\n",
    "| **Sensibilité** (*Rappel / True Positive Rate - TPR*) | $ \\text{TPR} = \\frac{TP}{P} = 1 - \\text{FNR} $ | Proportion de cas positifs correctement détectés. |\n",
    "| **Spécificité** (*True Negative Rate - TNR*) | $ \\text{TNR} = \\frac{TN}{N} = 1 - \\text{FPR} $ | Proportion de cas négatifs correctement détectés. |\n",
    "| **Précision** (*Positive Predictive Value - PPV*) | $ \\text{PPV} = \\frac{TP}{TP + FP} = 1 - \\text{FDR} $ | Proportion de cas positifs correctement détectés parmi toutes les détections positives. |\n",
    "| **Taux de fausses découvertes** (*False Discovery Rate - FDR*) | $ \\text{FDR} = \\frac{FP}{TP + FP} = 1 - \\text{PPV} $ | Proportion de fausses détections parmi toutes les détections positives. |\n",
    "| **Exactitude** (*Accuracy*) | $ \\text{Accuracy} = \\frac{TP + TN}{P + N} $ | Proportion de prédictions correctes parmi l’ensemble des cas. |\n",
    "\n",
    "---\n"
   ]
  },
  {
   "cell_type": "code",
   "execution_count": null,
   "id": "233d89ea-d9bd-4631-9262-9eb830321c6e",
   "metadata": {},
   "outputs": [],
   "source": [
    "# Extraction des valeurs de la matrice de confusion\n",
    "TN, FP, FN, TP = cm_lr.ravel()"
   ]
  },
  {
   "cell_type": "markdown",
   "id": "77f7f7d5-68bd-4f5a-8ca4-3839f42127c0",
   "metadata": {},
   "source": [
    "\n",
    "<font size = 4><span style=\"color:#2980b9\"> **1️⃣ Sensibilité ou Rappel (Recall, Taux de vrais positifs, TPR - True Positive Rate)** </span></font>\n",
    "\n",
    "\n",
    "   - **Définition** : Proportion de cas positifs correctement détectés par le modèle.  \n",
    "   - **Formule** :  \n",
    "     $$\n",
    "     \\text{Rappel} = \\frac{TP}{TP + FN}\n",
    "     $$\n",
    "   - **Intérêt** : Utile lorsque l’objectif est de **minimiser les faux négatifs**, par exemple en **détection de maladies**.\n",
    "\n"
   ]
  },
  {
   "cell_type": "code",
   "execution_count": null,
   "id": "82a38bb7-676f-4e2b-9e37-1c7923f21218",
   "metadata": {
    "colab": {
     "base_uri": "https://localhost:8080/"
    },
    "id": "G2DBfTTNpzKt",
    "outputId": "9d4978cc-5ed8-4952-cbb5-a63119e7b0e0"
   },
   "outputs": [],
   "source": [
    "# calcul de la sensibilité (ou rappel) à partir du tableau de la matrice de confusion cm[ligne][colonne]\n",
    "TPR = TP/(TP+FN)*100\n",
    "print(\"Le modèle détecte %0.0f%% des échecs sur les données test.\" %TPR)"
   ]
  },
  {
   "cell_type": "markdown",
   "id": "1ebc27dd-9d45-4eae-8056-dc39e4dce501",
   "metadata": {},
   "source": [
    "On peut aussi utiliser la fonction scikit : "
   ]
  },
  {
   "cell_type": "code",
   "execution_count": null,
   "id": "15aeabd6-425c-4dbe-987c-27459a701a5b",
   "metadata": {},
   "outputs": [],
   "source": [
    "recall_score(y_test, y_pred_lr)"
   ]
  },
  {
   "cell_type": "markdown",
   "id": "ba4470e1-5345-4e6e-9b6b-c89bd2ddba80",
   "metadata": {},
   "source": [
    "<font size = 4><span style=\"color:#2980b9\"> **2️⃣ Spécificité (Taux de vrais négatifs, TNR - True Negative Rate)** </span></font>\n",
    "\n",
    "\n",
    "   - **Définition** : Proportion de cas négatifs correctement détectés.  \n",
    "   - **Formule** :  \n",
    "     $$\n",
    "     \\text{Spécificité} = \\frac{TN}{TN + FP}\n",
    "     $$\n",
    "   - **Intérêt** : Important lorsque **minimiser les faux positifs** est crucial, comme en **détection de fraudes**.\n",
    "\n"
   ]
  },
  {
   "cell_type": "code",
   "execution_count": null,
   "id": "cfc20340-0704-4862-95e5-4087b522c0ac",
   "metadata": {
    "colab": {
     "base_uri": "https://localhost:8080/"
    },
    "id": "nUp2Eq-eqGB9",
    "outputId": "cb56699e-b2f8-424d-9baf-0c69666a3524"
   },
   "outputs": [],
   "source": [
    "# calcul de la spécificité\n",
    "TNR = TN/(FP+TN)*100\n",
    "print(\"Le modèle détecte %0.0f%% des réussites sur les données test.\" %TNR)"
   ]
  },
  {
   "cell_type": "markdown",
   "id": "f1dd0536-0d0e-4964-8c65-616931db1a07",
   "metadata": {},
   "source": [
    "<font size = 4><span style=\"color:#2980b9\"> **3️⃣ Précision (PPV - Positive Predictive Value)** </font></span>\n",
    "\n",
    "\n",
    "   - **Définition** : Proportion de cas prédits positifs qui sont réellement positifs.  \n",
    "   - **Formule** :  \n",
    "     $$\n",
    "     \\text{Précision} = \\frac{TP}{TP + FP}\n",
    "     $$\n",
    "   - **Intérêt** : Crucial lorsque **minimiser les fausses alertes est essentiel**, comme en **filtrage anti-spam**."
   ]
  },
  {
   "cell_type": "code",
   "execution_count": null,
   "id": "175d9966-7a3b-4913-b9be-bcd57bc01d8a",
   "metadata": {
    "colab": {
     "base_uri": "https://localhost:8080/"
    },
    "id": "7cCaGUZQsBgB",
    "outputId": "5569de24-2882-43a3-eef0-b51f56dab70c"
   },
   "outputs": [],
   "source": [
    "# calcul de la précision\n",
    "PPV = TP / (TP + FP)*100\n",
    "print(\"Parmis les échecs détectés sur les données test, %0.0f%% sont corrects.\" %PPV)"
   ]
  },
  {
   "cell_type": "markdown",
   "id": "a8ef6196-1be8-47ab-876a-fddfe6761774",
   "metadata": {},
   "source": [
    "On peut aussi utiliser la fonction scikit : "
   ]
  },
  {
   "cell_type": "code",
   "execution_count": null,
   "id": "820a4e6d-b0bb-4134-b344-83075d80f5d2",
   "metadata": {},
   "outputs": [],
   "source": [
    "precision_score(y_test, y_pred_lr)"
   ]
  },
  {
   "cell_type": "markdown",
   "id": "329bd61a-94c5-43fa-bb2a-744d7c24d458",
   "metadata": {},
   "source": [
    "### 🔍 Courbes ROC (Receiver Operating Characteristic)\n",
    "- **Courbe ROC** : Montre le taux de faux positifs (FPR) vs. le taux de vrais positifs (TPR).\n"
   ]
  },
  {
   "cell_type": "markdown",
   "id": "ac24fe4f-6f64-4a89-a5db-38607f159333",
   "metadata": {},
   "source": [
    "<img src=\"https://abdatum.com/media/images/curva-roc.png\" alt=\"drawing\" width=\"700\"/>"
   ]
  },
  {
   "cell_type": "markdown",
   "id": "e2ddbe5b-7a37-4df1-b0b3-ef0f4604bd8d",
   "metadata": {},
   "source": [
    "<font size = 3>**Aire Sous la Courbe ROC (AUROC)**   </font>   \n",
    "\n",
    "\n",
    "L’AUROC (AUC-ROC) est une mesure synthétique de performance :\n",
    "- **AUROC = 1** : Modèle parfait.\n",
    "- **AUROC = 0.5** : Modèle aléatoire.\n",
    "- **AUROC < 0.5** : Modèle inversé (il prédit mieux les négatifs que les positifs).\n",
    "\n",
    "\n",
    "<font size = 3> 🎯 **Pourquoi utiliser la courbe ROC ?**   </font>   \n",
    "\n",
    "\n",
    "✔️ **Indépendante du seuil** de décision utilisé.  \n",
    "✔️ **Utile sur des bases déséquilibrées**, contrairement à l’accuracy.  \n",
    "✔️ **Permet de comparer plusieurs modèles** en fonction de leur capacité de discrimination.  \n"
   ]
  },
  {
   "cell_type": "code",
   "execution_count": 25,
   "id": "3c851b66-a5a2-4716-a3d0-7dd3f34e2ce4",
   "metadata": {},
   "outputs": [
    {
     "data": {
      "image/png": "[encoded data removed]",
      "text/plain": [
       "<Figure size 1200x500 with 1 Axes>"
      ]
     },
     "metadata": {},
     "output_type": "display_data"
    }
   ],
   "source": [
    "# Probabilités de prédiction de la classe 1\n",
    "# -----------------------------------------\n",
    "# La plupart des modèles de classification binaire (comme la régression logistique)\n",
    "# retournent des probabilités d'appartenance à chaque classe.\n",
    "# Ici, on récupère la probabilité d'appartenir à la classe positive (classe 1).\n",
    "# predict_proba() retourne un tableau à deux colonnes :\n",
    "# - La première colonne correspond à la probabilité d'appartenir à la classe 0.\n",
    "# - La deuxième colonne correspond à la probabilité d'appartenir à la classe 1.\n",
    "# Nous sélectionnons uniquement la colonne de la classe positive (index 1).\n",
    "y_scores_lr = clf_lr.predict_proba(X_test_std)[:, 1]\n",
    "\n",
    "# Calcul des courbes ROC\n",
    "# ----------------------\n",
    "# La fonction roc_curve() calcule le taux de faux positifs (FPR) et le taux de vrais positifs (TPR)\n",
    "# pour différents seuils de classification.\n",
    "# Ces valeurs permettent de tracer la courbe ROC (Receiver Operating Characteristic).\n",
    "# _ représente les seuils de décision (que l'on n'affiche pas ici).\n",
    "fpr, tpr, _ = roc_curve(y_test, y_scores_lr)\n",
    "\n",
    "# Tracé de la courbe ROC\n",
    "# ----------------------\n",
    "plt.figure(figsize=(12,5))  # Création d'une figure avec une largeur de 12 et hauteur de 5\n",
    "\n",
    "# Création du premier sous-graphique (1 ligne, 2 colonnes, premier graphique)\n",
    "plt.subplot(1,2,1)\n",
    "\n",
    "# Tracé de la courbe ROC : taux de vrais positifs (TPR) en fonction du taux de faux positifs (FPR)\n",
    "plt.plot(fpr, tpr, label=f\"AUROC = {roc_auc_score(y_test, y_scores_lr):.2f}\")\n",
    "\n",
    "# Ajout d'une ligne diagonale en pointillés (classifieur aléatoire, AUROC = 0.5)\n",
    "plt.plot([0,1], [0,1], linestyle='--', color='grey')\n",
    "\n",
    "# Ajout des labels et titre\n",
    "plt.xlabel(\"Taux de faux positifs (FPR) - 1-Spécificité\")\n",
    "plt.ylabel(\"Taux de vrais positifs (TPR) - Sensibilité\")\n",
    "plt.title(\"Courbe ROC\")\n",
    "\n",
    "# Ajout de la légende affichant la valeur de l'AUROC (aire sous la courbe)\n",
    "plt.legend()\n",
    "\n",
    "# Affichage de la figure\n",
    "plt.show()\n"
   ]
  },
  {
   "cell_type": "markdown",
   "id": "b8a0e7b0-da6e-46e6-b2f5-9b4c0b3415d2",
   "metadata": {},
   "source": [
    "<font size = 6>ℹ️</font>    \n",
    "On peut aussi tracer la courbe ROC directement à l'aide de la fonction `RocCurveDisplay()` de scikit : "
   ]
  },
  {
   "cell_type": "code",
   "execution_count": 28,
   "id": "fdf5e494-b614-4911-8fb9-2bd3e430e518",
   "metadata": {},
   "outputs": [
    {
     "data": {
      "text/plain": [
       "<sklearn.metrics._plot.roc_curve.RocCurveDisplay at 0x1e74c247250>"
      ]
     },
     "execution_count": 28,
     "metadata": {},
     "output_type": "execute_result"
    },
    {
     "data": {
      "image/png": "[encoded data removed]",
      "text/plain": [
       "<Figure size 640x480 with 1 Axes>"
      ]
     },
     "metadata": {},
     "output_type": "display_data"
    }
   ],
   "source": [
    "RocCurveDisplay.from_predictions(y_test, y_scores_lr, plot_chance_level = True)"
   ]
  },
  {
   "cell_type": "markdown",
   "id": "20ad8c2d-c984-4ffa-ba7a-a5973493e5b6",
   "metadata": {},
   "source": [
    "<font size = 5>⚠️</font>\n",
    "\n",
    "Attention quand on trace la courbe ROC ou qu'on calcule l'aire sous la courbe, il faut toujours utiliser les probabilités prédites d'appartenir à la classe positive et pas les étiquettes prédites directement ! L'erreur est facile à faire (ex : on utilise `predict()` au lieu de `predict_proba()`) et les fonctions scikit ne renverront pas d'erreur.  "
   ]
  },
  {
   "cell_type": "markdown",
   "id": "14742776-f234-4158-a2d7-5ebcff47ddd9",
   "metadata": {},
   "source": [
    "### 🔍 Compromis entre précision et rappel\n"
   ]
  },
  {
   "cell_type": "markdown",
   "id": "dff7cca8-08c7-4fe3-a084-659a05fd419b",
   "metadata": {},
   "source": [
    "<img src=\"https://miro.medium.com/v2/resize:fit:824/0*faCzwVWg5RLqAj1J.png\" alt=\"drawing\" width=\"600\"/>"
   ]
  },
  {
   "cell_type": "markdown",
   "id": "41945c84-205d-4203-9bbf-f2ffc643be0c",
   "metadata": {},
   "source": [
    "Dans une classification binaire, la majorité des classifieurs ne prennent pas directement une décision, mais attribuent d’abord à chaque observation un **score** ou une **probabilité** d’appartenance à la classe positive (ex: \"échec\" dans un problème de détection).  \n",
    "\n",
    "<font size = 4><span style=\"color:#2980b9\"> **Décision basée sur un seuil** </span></font>    \n",
    "Ce score est ensuite comparé à un **seuil de décision** pour attribuer une classe :\n",
    "- Si le score est **supérieur** au seuil → l'observation est classée dans la classe positive.\n",
    "- Sinon → elle est classée dans la classe négative.\n",
    "\n",
    "<font size = 4><span style=\"color:#2980b9\"> **Impact du seuil sur la précision et le rappel** </span></font>      \n",
    "Le choix du seuil influence directement les prédictions :\n",
    "- **Un seuil bas** entraîne plus de prédictions positives. Cela **augmente le rappel** ( $\\frac{TP}{TP + FN}$) mais **réduit la précision** (on commet plus de faux positifs).\n",
    "- **Un seuil élevé** entraîne moins de prédictions positives. Cela **augmente la précision** ($\\frac{TP}{TP + FP}$), mais **diminue le rappel** (plus de vrais positifs sont manqués).\n",
    "\n",
    "<font size = 4><span style=\"color:#2980b9\"> **Illustration du compromis** </span></font>      \n",
    "- Un seuil **très bas** : presque toutes les observations sont classées comme positives → **rappel élevé, précision faible**.\n",
    "- Un seuil **très haut** : seules les observations avec un score très fort sont classées positives → **précision élevée, rappel faible**.\n",
    "\n",
    "<font size = 4>💡 **Choisir le bon seuil dépend des objectifs du problème** :   </font>\n",
    "- Si **les faux négatifs sont coûteux** (ex: diagnostic médical), on privilégie un **rappel élevé**.\n",
    "- Si **les faux positifs sont critiques** (ex: filtrage anti-spam), on favorise une **précision élevée**.\n",
    "- Dans certains cas, on utilise des métriques combinées comme le **score F1** pour équilibrer les deux.\n",
    "\n",
    "👉 **Le tracé de la courbe Précision-Rappel et de la courbe ROC aide à choisir un seuil optimal selon le contexte.** "
   ]
  },
  {
   "cell_type": "code",
   "execution_count": 29,
   "id": "1f9fe639-f85a-44fd-ac91-2076ccf75a3c",
   "metadata": {},
   "outputs": [
    {
     "data": {
      "image/png": "[encoded data removed]",
      "text/plain": [
       "<Figure size 1000x500 with 1 Axes>"
      ]
     },
     "metadata": {},
     "output_type": "display_data"
    }
   ],
   "source": [
    "# Calcul des scores de décision pour les données test\n",
    "# decision_function() retourne un score continu pour chaque observation\n",
    "# Plus le score est élevé, plus le modèle est confiant que l'exemple appartient à la classe positive\n",
    "y_scores = clf_lr.decision_function(X_test_std)\n",
    "\n",
    "# Calcul des précisions et rappels pour différents seuils de décision\n",
    "# precision_recall_curve() retourne trois éléments :\n",
    "# - precisions : liste des précisions obtenues à chaque seuil\n",
    "# - recalls : liste des rappels obtenus à chaque seuil\n",
    "# - thresholds : liste des seuils testés (longueur = nombre de points - 1)\n",
    "precisions, recalls, thresholds = precision_recall_curve(y_test, y_scores)\n",
    "\n",
    "# Création d'une figure pour tracer les courbes\n",
    "plt.figure(figsize=(10, 5))  # Définition de la taille de la figure\n",
    "\n",
    "# Tracé de la courbe de précision en fonction du seuil\n",
    "plt.plot(thresholds, precisions[:-1], \"b--\", label=\"Précision\", linewidth=2)\n",
    "\n",
    "# Tracé de la courbe de rappel en fonction du seuil\n",
    "plt.plot(thresholds, recalls[:-1], \"g-\", label=\"Rappel\", linewidth=2)\n",
    "\n",
    "# Ajout des axes et d'un titre explicatif\n",
    "plt.xlabel(\"Seuil de décision\", fontsize=12)  # Axe des x : valeurs du seuil\n",
    "plt.ylabel(\"Score\", fontsize=12)  # Axe des y : valeurs de précision/rappel\n",
    "plt.title(\"Courbes de Précision et Rappel en fonction du seuil de décision\", fontsize=14)\n",
    "\n",
    "# Ajout d'une grille pour une meilleure lisibilité\n",
    "plt.grid(True)\n",
    "\n",
    "# Placement de la légende en dehors de la figure\n",
    "# - bbox_to_anchor=(1,1) permet de placer la légende à l'extérieur de la figure\n",
    "# - loc=\"upper left\" positionne la légende dans le coin supérieur gauche de la zone d'affichage externe\n",
    "plt.legend(loc=\"upper left\", bbox_to_anchor=(1,1), fontsize=12)\n",
    "\n",
    "# Ajustement des marges pour éviter que la légende ne coupe la figure\n",
    "plt.tight_layout(rect=[0, 0, 0.85, 1])\n",
    "\n",
    "# Affichage de la figure\n",
    "plt.show()\n"
   ]
  },
  {
   "cell_type": "markdown",
   "id": "b8548490-47b0-4bca-8640-5a298b0c6644",
   "metadata": {},
   "source": [
    "<font size = 6>ℹ️</font>    \n",
    "\n",
    "\n",
    "\n",
    "La courbe de **précision** est **irrégulière**. Cela arrive si, en augmentant le seuil, il se trouve qu'on n'augmente pas le nombre de faux positifs mais uniquement celui de faux négatifs. Etant donné que le nombre de prédits positifs diminue quand on augmente le seuil de décision, on peut se retrouver avec des variations importantes de la précision car le rapport entre vrai positifs et prédits positifs peut varier dans un sens comme dans l'autre.      \n",
    "Le rappel diminue forcément avec l'augmentation du seuil car le nombre de réellement positifs est toujours le même alors que les prédits positifs diminuent forcément si on augmente le seuil de décision.  "
   ]
  },
  {
   "cell_type": "markdown",
   "id": "3cc0dd9d-c683-4f5f-974a-e883d597f7a5",
   "metadata": {},
   "source": [
    "><font size = 6>⚠️</font>  \n",
    ">\n",
    ">Dans Scikit-Learn, `predict_proba()` et `decision_function()` sont deux méthodes utilisées pour obtenir un score de confiance sur les prédictions d'un modèle de classification. Cependant, elles diffèrent dans leur sortie et leur utilisation.   \n",
    "> - `predict_proba()` retourne les probabilités d'appartenance aux différentes classes, comprises entre 0 et 1   \n",
    "> - `decision_function()` retourne le score brut de la fonction de décision utilisée en interne par l'algorithme. Les valeurs ne pas bornées, elles peuvent être négatives et très grandes. Plus la valeur est grande plus le modèle est confiant sur l'appartenance à la classe positive. Si le score est >0 c'est la classe positive qui est prédite, s'il est <0 c'est la classe négative.   \n",
    "> - Comme `predict_proba()`retourne des valeurs comprises entre 0 et 1, cela peut écraser la distribution des scores, rendant moins précise la détermination du seuil adequat pour ajuster le compromis précision/rappel.  "
   ]
  },
  {
   "cell_type": "markdown",
   "id": "34b6faae-12e3-4b2f-b840-f8d0cfc157df",
   "metadata": {},
   "source": [
    "<div class=\"alert alert-block alert-info\">\n",
    "<b>Application </b> Impact du seuil de décision sur le rappel et la précision : </div> "
   ]
  },
  {
   "cell_type": "code",
   "execution_count": null,
   "id": "3d9fa402-31aa-4e71-84dd-58d58b4a825d",
   "metadata": {},
   "outputs": [],
   "source": [
    "import ipywidgets as widgets\n",
    "from IPython.display import display, clear_output\n",
    "\n",
    "# Calcul des scores de décision pour les données test\n",
    "# decision_function() retourne un score continu pour chaque observation\n",
    "# Plus le score est élevé, plus le modèle est confiant que l'exemple appartient à la classe positive\n",
    "y_test_scores = clf_lr.decision_function(X_test_std)\n",
    "\n",
    "# Définition du widget interactif pour ajuster le seuil de décision\n",
    "threshold_slider = widgets.FloatSlider(\n",
    "    value=0.5,  # Seuil initial à 0.5\n",
    "    min=-10,\n",
    "    max=10,\n",
    "    step=1,\n",
    "    description=\"Seuil\",\n",
    "    continuous_update=True\n",
    ")\n",
    "\n",
    "# Widget d'affichage des résultats\n",
    "output = widgets.Output()\n",
    "\n",
    "def update_threshold(threshold):\n",
    "    \"\"\"Met à jour la précision et le rappel en fonction du seuil sélectionné.\"\"\"\n",
    "    with output:\n",
    "        clear_output(wait=True)  # Nettoie l'affichage précédent\n",
    "        \n",
    "        # Appliquer le seuil pour générer les prédictions binaires\n",
    "        y_pred_thresholded = (y_test_scores >= threshold).astype(int)\n",
    "        \n",
    "        # Calcul des métriques avec gestion des erreurs\n",
    "        precision = precision_score(y_test, y_pred_thresholded, zero_division=0)\n",
    "        recall = recall_score(y_test, y_pred_thresholded)\n",
    "        tn, fp, fn, tp = confusion_matrix(y_test, y_pred_thresholded).ravel()\n",
    "        specificity = tn / (tn + fp)\n",
    "        \n",
    "        # Affichage des résultats\n",
    "        print(f\"🔹 Seuil de décision (valeur brute de la fonction de décision) : {threshold:.2f}\")\n",
    "        \n",
    "        print(f\"🔸 Précision : {precision:.2f}\")\n",
    "        print(f\"🔸 Rappel/Sensibilité : {recall:.2f}\")\n",
    "\n",
    "        # Tracé des courbes Précision et Rappel en fonction du seuil\n",
    "        thresholds = np.linspace(-10, 10, 21)\n",
    "        precisions = [precision_score(y_test, (y_test_scores >= t).astype(int), zero_division=0) for t in thresholds]\n",
    "        recalls = [recall_score(y_test, (y_test_scores >= t).astype(int)) for t in thresholds]\n",
    "\n",
    "        plt.figure(figsize=(8, 5))\n",
    "        plt.plot(thresholds, precisions, label=\"Précision\", color=\"blue\")\n",
    "        plt.plot(thresholds, recalls, label=\"Rappel\", color=\"green\")\n",
    "        plt.axvline(threshold, color=\"red\", linestyle=\"--\", label=f\"Seuil = {threshold:.2f}\")\n",
    "        plt.xlabel(\"Seuil de décision\")\n",
    "        plt.ylabel(\"Valeur\")\n",
    "        plt.title(\"Impact du seuil de décision sur la précision et le rappel\")\n",
    "        plt.legend()\n",
    "        plt.grid(True)\n",
    "        plt.show()\n",
    "\n",
    "# Lier le widget au callback\n",
    "widgets.interactive(update_threshold, threshold=threshold_slider)\n",
    "\n",
    "# Affichage des widgets\n",
    "display(threshold_slider, output)\n"
   ]
  },
  {
   "cell_type": "markdown",
   "id": "dd79a9bf-c942-4fa7-bd06-4a2f82640b9c",
   "metadata": {},
   "source": [
    "### 🔍 Courbe Précision-Rappel (PR)\n",
    "\n",
    "\n",
    "La **courbe Précision-Rappel (PR)** est une représentation graphique de la relation entre **la précision ($\\frac{TP}{TP + FP}$) et le rappel ( $\\frac{TP}{TP + FN}$)** pour différents seuils de décision d'un modèle de classification binaire.\n",
    "\n",
    "\n",
    "<font size = 3><span style=\"color:#2980b9\"> **Comment interpréter la courbe PR ?**  </span></font>\n",
    "- Un modèle **idéal** aura une précision et un rappel élevés, donc sa courbe PR sera **proche du coin supérieur droit**.\n",
    "- Une **courbe plus haute** signifie un **meilleur compromis** entre la précision et le rappel.\n",
    "- La **baseline** est la proportion d’exemples positifs dans l’ensemble des données : si un modèle prédit uniquement la classe positive, il aura cette précision moyenne.\n",
    "\n",
    "<font size = 3><span style=\"color:#2980b9\"> **Pourquoi utiliser la courbe PR ?**   </span>  </font> \n",
    "\n",
    "\n",
    "✔ **Meilleure évaluation pour les bases de données déséquilibrées** :  \n",
    "   - Contrairement à la courbe ROC, qui inclut le taux de faux positifs (FPR), la courbe PR est **plus informative** lorsque la classe positive est minoritaire.  \n",
    "   - Si une classe est rare, **une faible FPR ($\\frac{FP}{N} $) peut être trompeuse**, car elle ne reflète pas bien la capacité du modèle à détecter les vrais positifs.  \n",
    "\n",
    "✔ **Utile pour ajuster le seuil de décision** :  \n",
    "   - En fonction de l’application, on peut privilégier **plus de rappel (moins de faux négatifs)** ou **plus de précision (moins de faux positifs)**.\n",
    "\n",
    "✔ **Évaluation globale avec l'aire sous la courbe (AUPRC - Average Precision Score)** :  \n",
    "   - Comme l'AUC-ROC, **l'aire sous la courbe PR (AUPRC)** permet de comparer facilement plusieurs modèles.\n"
   ]
  },
  {
   "cell_type": "code",
   "execution_count": null,
   "id": "377b26c6-e6c5-47d2-a3fa-16db69dd4f21",
   "metadata": {},
   "outputs": [],
   "source": [
    "# Calcul des scores de décision pour les données test\n",
    "# decision_function() retourne un score continu pour chaque observation\n",
    "# Plus le score est élevé, plus le modèle est confiant que l'exemple appartient à la classe positive\n",
    "y_scores = clf_lr.decision_function(X_test_std)\n",
    "\n",
    "# Calcul des précisions et rappels pour différents seuils de décision\n",
    "# precision_recall_curve() retourne trois éléments :\n",
    "# - precisions : liste des précisions obtenues à chaque seuil\n",
    "# - recalls : liste des rappels obtenus à chaque seuil\n",
    "# - thresholds : liste des seuils testés (longueur = nombre de points - 1)\n",
    "precisions, recalls, thresholds = precision_recall_curve(y_test, y_scores)\n",
    "\n",
    "\n",
    "# Calcul de l'aire sous la courbe PR (AUPRC)\n",
    "auprc = auc(recalls, precisions)\n",
    "\n",
    "# Création de la figure\n",
    "plt.figure(figsize=(8,6))\n",
    "\n",
    "# Tracé de la courbe Précision-Rappel\n",
    "plt.plot(recalls, precisions, label=f\"LR AUPRC = {auprc:.2f}\", color=\"blue\", linewidth=2)\n",
    "\n",
    "# Ajout d'une ligne de base correspondant à la proportion de la classe positive dans les données test\n",
    "baseline = np.sum(y_test) / len(y_test)\n",
    "plt.plot([0, 1], [baseline, baseline], linestyle='--', color='grey', label=f\"Baseline AUPRC = {baseline:.2f}\")\n",
    "\n",
    "# Ajout des titres et labels\n",
    "plt.xlabel(\"Rappel (Recall)\")\n",
    "plt.ylabel(\"Précision (Precision)\")\n",
    "plt.title(\"Courbe Précision-Rappel\")\n",
    "plt.legend(loc=\"upper right\")\n",
    "\n",
    "# Ajout d'une grille pour faciliter la lecture du graphique\n",
    "plt.grid(True)\n",
    "\n",
    "# Affichage du graphique\n",
    "plt.show()\n"
   ]
  },
  {
   "cell_type": "markdown",
   "id": "643e89ff-8727-4708-b7fe-45a1ddc1207a",
   "metadata": {},
   "source": [
    "<font size = 6>ℹ️</font>    \n",
    "On peut aussi tracer la courbe PR directement à l'aide de la fonction `PrecisionRecallDisplay()` de scikit :"
   ]
  },
  {
   "cell_type": "code",
   "execution_count": null,
   "id": "e0fba3ec-4bd6-4a4c-b4aa-39dfb5bdda86",
   "metadata": {},
   "outputs": [],
   "source": [
    "PrecisionRecallDisplay.from_predictions(y_test, y_scores, plot_chance_level = True)"
   ]
  },
  {
   "cell_type": "markdown",
   "id": "e7d25c71-7776-427c-8dd5-516d1d08b7ce",
   "metadata": {
    "id": "adee217f"
   },
   "source": [
    "## 📌 Bilan sur les métriques de classification\n",
    "\n",
    "En classification, plusieurs **métriques d'évaluation** permettent d'analyser les performances d'un modèle. Chaque métrique a ses avantages et ses limites, et leur choix dépend souvent du **contexte du problème** et de la distribution des classes.\n",
    "\n",
    "---\n",
    "\n",
    " **1️⃣ Accuracy (Exactitude)**   \n",
    "- Proportion de bonnes prédictions parmi l’ensemble des observations.\n",
    "- **Avantage** : Facile à interpréter.\n",
    "- **Limite** : Peu pertinent en cas de **déséquilibre des classes** (ex : un modèle qui classe tout en négatif peut avoir une haute accuracy mais être inutile).\n",
    "\n",
    "📌 **Formule** :  \n",
    "$$\n",
    "Accuracy = \\frac{TP + TN}{TP + TN + FP + FN}\n",
    "$$\n",
    "\n",
    "---\n",
    "\n",
    " **2️⃣ Matrice de confusion**   \n",
    "- Table récapitulant les **vrais positifs (TP)**, **faux positifs (FP)**, **vrais négatifs (TN)** et **faux négatifs (FN)**.\n",
    "\n",
    "|               | Prédiction Positif | Prédiction Négatif |\n",
    "|--------------|-------------------|-------------------|\n",
    "| **Réel Positif (P)**  | TP (Vrai Positif)  | FN (Faux Négatif) |\n",
    "| **Réel Négatif (N)**  | FP (Faux Positif)  | TN (Vrai Négatif) |\n",
    "\n",
    "---\n",
    "\n",
    " **3️⃣ Précision (Precision)**   \n",
    "- Proportion de prédictions positives qui sont réellement positives.\n",
    "- **Avantage** : Évite les **faux positifs**, utile si les **erreurs positives sont coûteuses** (ex : détection de fraude).\n",
    "- **Limite** : Ignore les **faux négatifs**.\n",
    "\n",
    "📌 **Formule** :  \n",
    "$$\n",
    "Precision = \\frac{TP}{TP + FP}\n",
    "$$\n",
    "\n",
    "---\n",
    "\n",
    " **4️⃣ Rappel (Recall ou Sensibilité)**   \n",
    "- Proportion de cas positifs réellement détectés.\n",
    "- **Avantage** : Utile si l'on veut **minimiser les faux négatifs** (ex : diagnostic médical).\n",
    "- **Limite** : Ignore les **faux positifs**.\n",
    "\n",
    "📌 **Formule** :  \n",
    "$$\n",
    "Recall = \\frac{TP}{TP + FN}\n",
    "$$\n",
    "\n",
    "---\n",
    "\n",
    " **5️⃣ Score F1**   \n",
    "- Moyenne harmonique entre **précision et rappel**.\n",
    "- **Avantage** : Bon **compromis entre précision et rappel** si les deux sont importants.\n",
    "- **Limite** : Ne reflète pas bien les déséquilibres de classe.\n",
    "\n",
    "📌 **Formule** :  \n",
    "$$\n",
    "F1 = 2 \\times \\frac{Precision \\times Recall}{Precision + Recall}\n",
    "$$\n",
    "\n",
    "---\n",
    "\n",
    " **6️⃣ Courbe ROC & AUROC**   \n",
    "- La **courbe ROC** (Receiver Operating Characteristic) trace **le taux de vrais positifs (TPR)** en fonction du **taux de faux positifs (FPR)**.\n",
    "- AUROC proche de **1** → Excellent modèle, proche de **0.5** → Modèle aléatoire.\n",
    "\n",
    "- **Avantages** : Utile si l'on veut **analyser le compromis** entre sensibilité et spécificité.  \n",
    "\n",
    "- **Limite** : Peu fiable en cas de **déséquilibre des classes**.\n",
    "\n",
    "---\n",
    "\n",
    " **7️⃣ Courbe Précision-Rappel (PR) & AUPRC**   \n",
    "- Utile lorsque **la classe positive est rare**.\n",
    "- Permet d'observer **l'évolution de la précision et du rappel** en fonction du seuil de décision.\n",
    "- **AUPRC** (Aire sous la courbe Précision-Rappel) est une alternative à l'AUC-ROC.\n",
    "\n",
    "- **Avantages** : Plus adaptée aux **problèmes avec classes déséquilibrées**.  \n",
    "\n",
    "- **Limite** :  Moins intuitive que la courbe ROC.\n",
    "\n",
    "---\n",
    "\n",
    " **🔹 Comment choisir la bonne métrique ?**   \n",
    "| Objectif | Métrique recommandée |\n",
    "|----------|---------------------|\n",
    "| Classes équilibrées | **Accuracy, AUC-ROC** |\n",
    "| Détection des positifs importants | **Rappel (Recall), Courbe PR, AUPRC** |\n",
    "| Minimiser les faux positifs | **Précision (Precision)** |\n",
    "| Compromis entre précision et rappel | **Score F1** |\n",
    "| Visualisation globale | **Matrice de confusion, ROC, PR** |\n",
    "\n",
    "---\n",
    "\n",
    "✅ **Toujours comparer plusieurs métriques avant de choisir un modèle final**\n"
   ]
  },
  {
   "cell_type": "markdown",
   "id": "c8bf7ac3-3d9a-4453-8a06-ff0b5e120584",
   "metadata": {
    "id": "ac19f481"
   },
   "source": [
    "> **Métriques d’évaluation pour la régression**\n",
    ">\n",
    ">En régression, les métriques mesurent l’écart entre les valeurs **prédites** et les valeurs **réelles**. \n",
    ">\n",
    ">| **Métrique** | **Définition** | **Avantages** | **Inconvénients** |\n",
    ">|-------------|--------------|--------------|--------------|\n",
    ">| **Erreur absolue moyenne (MAE)** | Moyenne des écarts absolus entre prédictions et valeurs réelles. | Facile à interpréter, robuste aux outliers. | Ne pénalise pas fortement les grosses erreurs. |\n",
    ">| **Erreur quadratique moyenne (MSE)** | Moyenne des écarts au carré entre prédictions et valeurs réelles. | Pénalise fortement les grosses erreurs, utile pour ajuster un modèle. | Sensible aux outliers, les grandes erreurs sont amplifiées. |\n",
    ">| **Racine de l’erreur quadratique moyenne (RMSE)** | Racine carrée du MSE, exprimée dans la même unité que la variable cible. | Facile à interpréter, pénalise fortement les grandes erreurs. | Peut être trop sensible aux outliers. |\n",
    ">| **Coefficient de détermination (R²)** | Indique la proportion de variance expliquée par le modèle. | Permet de comparer facilement les modèles. | Peut être trompeur si les données sont non linéaires ou bruitées. |\n",
    "\n",
    "\n"
   ]
  }
 ],
 "metadata": {
  "kernelspec": {
   "display_name": "Python 3 (ipykernel)",
   "language": "python",
   "name": "python3"
  },
  "language_info": {
   "codemirror_mode": {
    "name": "ipython",
    "version": 3
   },
   "file_extension": ".py",
   "mimetype": "text/x-python",
   "name": "python",
   "nbconvert_exporter": "python",
   "pygments_lexer": "ipython3",
   "version": "3.9.21"
  }
 },
 "nbformat": 4,
 "nbformat_minor": 5
}
